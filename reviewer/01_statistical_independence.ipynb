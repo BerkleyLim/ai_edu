{
 "cells": [
  {
   "metadata": {},
   "cell_type": "markdown",
   "source": [
    "# 📘 01. Statistical Independence\n",
    "\n",
    "- 두 확률 변수 X, Y가 독립이면:\n",
    "  $$P(X, Y) = P(X) \\cdot P(Y)$$\n",
    "- 조건부 확률로 표현하면:\n",
    "  $$P(Y \\mid X) = P(Y)$$"
   ],
   "id": "4e33915e99010475"
  },
  {
   "cell_type": "code",
   "id": "initial_id",
   "metadata": {
    "collapsed": true,
    "ExecuteTime": {
     "end_time": "2025-07-12T01:33:15.207015Z",
     "start_time": "2025-07-12T01:33:15.200030Z"
    }
   },
   "source": [
    "import numpy as np\n",
    "import pandas as pd\n",
    "\n",
    "# 시드 고정 (무작위 결과 재현 가능하게)\n",
    "np.random.seed(42)\n",
    "\n",
    "# 두 확률 변수 X, Y 생성\n",
    "# X: 0 또는 1 중 하나를 0.5, 0.5의 확률로 10,000개 생성\n",
    "# Y: 0 또는 1 중 하나를 0.3, 0.7의 확률로 10,000개 생성\n",
    "X = np.random.choice([0, 1], size=10000, p=[0.5, 0.5])\n",
    "Y = np.random.choice([0, 1], size=10000, p=[0.3, 0.7])\n",
    "\n",
    "# 확률 계산\n",
    "p_x1 = np.mean(X == 1)                        # P(X=1): X가 1인 비율\n",
    "p_y1 = np.mean(Y == 1)                        # P(Y=1): Y가 1인 비율\n",
    "p_xy11 = np.mean((X == 1) & (Y == 1))         # P(X=1 and Y=1): 두 조건 모두 만족하는 비율\n",
    "p_x1_y1 = p_x1 * p_y1\n",
    "\n",
    "# 결과 정리\n",
    "df = pd.DataFrame({\n",
    "    '항목': ['P(X=1)', 'P(Y=1)', 'P(X=1 and Y=1)', 'P(X=1)*P(Y=1)'],\n",
    "    '값': [p_x1, p_y1, p_xy11, p_x1_y1]   # 독립일 경우 두 확률 곱과 공동확률이 유사해야 함\n",
    "})\n",
    "\n",
    "df.head()"
   ],
   "outputs": [
    {
     "data": {
      "text/plain": [
       "               항목         값\n",
       "0          P(X=1)  0.492400\n",
       "1          P(Y=1)  0.706700\n",
       "2  P(X=1 and Y=1)  0.347000\n",
       "3   P(X=1)*P(Y=1)  0.347979"
      ],
      "text/html": [
       "<div>\n",
       "<style scoped>\n",
       "    .dataframe tbody tr th:only-of-type {\n",
       "        vertical-align: middle;\n",
       "    }\n",
       "\n",
       "    .dataframe tbody tr th {\n",
       "        vertical-align: top;\n",
       "    }\n",
       "\n",
       "    .dataframe thead th {\n",
       "        text-align: right;\n",
       "    }\n",
       "</style>\n",
       "<table border=\"1\" class=\"dataframe\">\n",
       "  <thead>\n",
       "    <tr style=\"text-align: right;\">\n",
       "      <th></th>\n",
       "      <th>항목</th>\n",
       "      <th>값</th>\n",
       "    </tr>\n",
       "  </thead>\n",
       "  <tbody>\n",
       "    <tr>\n",
       "      <th>0</th>\n",
       "      <td>P(X=1)</td>\n",
       "      <td>0.492400</td>\n",
       "    </tr>\n",
       "    <tr>\n",
       "      <th>1</th>\n",
       "      <td>P(Y=1)</td>\n",
       "      <td>0.706700</td>\n",
       "    </tr>\n",
       "    <tr>\n",
       "      <th>2</th>\n",
       "      <td>P(X=1 and Y=1)</td>\n",
       "      <td>0.347000</td>\n",
       "    </tr>\n",
       "    <tr>\n",
       "      <th>3</th>\n",
       "      <td>P(X=1)*P(Y=1)</td>\n",
       "      <td>0.347979</td>\n",
       "    </tr>\n",
       "  </tbody>\n",
       "</table>\n",
       "</div>"
      ]
     },
     "execution_count": 15,
     "metadata": {},
     "output_type": "execute_result"
    }
   ],
   "execution_count": 15
  },
  {
   "metadata": {
    "ExecuteTime": {
     "end_time": "2025-07-12T01:33:17.342730Z",
     "start_time": "2025-07-12T01:33:17.336590Z"
    }
   },
   "cell_type": "code",
   "source": [
    "import numpy as np\n",
    "\n",
    "# 시드 고정 (무작위 결과 재현 가능하게)\n",
    "np.random.seed(42)\n",
    "\n",
    "# 두 확률 변수 X, Y 생성\n",
    "# X: 0 또는 1 중 하나를 0.5, 0.5의 확률로 10,000개 생성\n",
    "# Y: 0 또는 1 중 하나를 0.3, 0.7의 확률로 10,000개 생성\n",
    "X = np.random.choice([0, 1], size=10000, p=[0.5, 0.5])\n",
    "Y = np.random.choice([0, 1], size=10000, p=[0.3, 0.7])\n",
    "\n",
    "# 확률 계산\n",
    "p_x1 = np.mean(X == 1)                        # P(X=1): X가 1인 비율\n",
    "p_y1 = np.mean(Y == 1)                        # P(Y=1): Y가 1인 비율\n",
    "p_xy11 = np.mean((X == 1) & (Y == 1))         # P(X=1 and Y=1): 두 조건 모두 만족하는 비율\n",
    "p_x1_y1 = p_x1 * p_y1\n",
    "\n",
    "# P(Y=1 | X=1): X=1인 조건에서 Y=1인 비율\n",
    "p_y1_given_x1 = np.mean(Y[X == 1] == 1)\n",
    "\n",
    "print(\"P(Y=1):\", p_y1)\n",
    "print(\"P(Y=1 | X=1):\", p_y1_given_x1)"
   ],
   "id": "b4e65716c310354b",
   "outputs": [
    {
     "name": "stdout",
     "output_type": "stream",
     "text": [
      "P(Y=1): 0.7067\n",
      "P(Y=1 | X=1): 0.7047116165718927\n"
     ]
    }
   ],
   "execution_count": 16
  },
  {
   "metadata": {},
   "cell_type": "code",
   "outputs": [],
   "execution_count": null,
   "source": [
    "import numpy as np\n",
    "import matplotlib.pyplot as plt\n",
    "import matplotlib as mpl\n",
    "\n",
    "# 시드 고정 (무작위 결과 재현 가능하게)\n",
    "np.random.seed(42)\n",
    "\n",
    "# 두 확률 변수 X, Y 생성\n",
    "# X: 0 또는 1 중 하나를 0.5, 0.5의 확률로 10,000개 생성\n",
    "# Y: 0 또는 1 중 하나를 0.3, 0.7의 확률로 10,000개 생성\n",
    "X = np.random.choice([0, 1], size=10000, p=[0.5, 0.5])\n",
    "Y = np.random.choice([0, 1], size=10000, p=[0.3, 0.7])\n",
    "\n",
    "# 확률 계산\n",
    "p_x1 = np.mean(X == 1)                        # P(X=1): X가 1인 비율\n",
    "p_y1 = np.mean(Y == 1)                        # P(Y=1): Y가 1인 비율\n",
    "p_xy11 = np.mean((X == 1) & (Y == 1))         # P(X=1 and Y=1): 두 조건 모두 만족하는 비율\n",
    "p_x1_y1 = p_x1 * p_y1\n",
    "\n",
    "# 막대그래프 시각화\n",
    "labels = ['P(X=1)', 'P(Y=1)', 'P(X=1 ∧ Y=1)', 'P(X=1)·P(Y=1)']\n",
    "values = [p_x1, p_y1, p_xy11, p_x1_y1]\n",
    "\n",
    "# 시각화 표시시 한글 깨짐 방지\n",
    "# macOS 한글 폰트 설정 (Apple 시스템 기본 폰트 사용)\n",
    "mpl.rc('font', family='AppleGothic')\n",
    "plt.rcParams['axes.unicode_minus'] = False  # 음수 기호 깨짐 방지\n",
    "\n",
    "# # Windows 한글 폰트 설정\n",
    "# mpl.rc('font', family='Malgun Gothic')  # 또는 'NanumGothic'\n",
    "# plt.rcParams['axes.unicode_minus'] = False\n",
    "\n",
    "# 시각화 표시\n",
    "# P(X=1) ≈ 0.5\n",
    "# P(Y=1) ≈ 0.7\n",
    "# P(X=1 ∧ Y=1) ≈ 0.35\n",
    "# P(X=1)·P(Y=1) ≈ 0.35\n",
    "plt.figure(figsize=(8, 5))\n",
    "plt.bar(labels, values)\n",
    "plt.ylim(0, 1)\n",
    "plt.title(\"통계적 독립 - 확률 비교\")\n",
    "plt.ylabel(\"확률 값\")\n",
    "plt.grid(axis='y', linestyle='--', alpha=0.7)\n",
    "plt.tight_layout()\n",
    "plt.show()"
   ],
   "id": "ac1d10a18049661a"
  }
 ],
 "metadata": {
  "kernelspec": {
   "display_name": "Python 3",
   "language": "python",
   "name": "python3"
  },
  "language_info": {
   "codemirror_mode": {
    "name": "ipython",
    "version": 2
   },
   "file_extension": ".py",
   "mimetype": "text/x-python",
   "name": "python",
   "nbconvert_exporter": "python",
   "pygments_lexer": "ipython2",
   "version": "2.7.6"
  }
 },
 "nbformat": 4,
 "nbformat_minor": 5
}

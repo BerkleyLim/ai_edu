{
 "cells": [
  {
   "metadata": {},
   "cell_type": "raw",
   "source": [
    "# This is a sample Jupyter Notebook\n",
    "\n",
    "Below is an example of a code cell. \n",
    "Put your cursor into the cell and press Shift+Enter to execute it and select the next one, or click 'Run Cell' button.\n",
    "\n",
    "Press Double Shift to search everywhere for classes, files, tool windows, actions, and settings.\n",
    "\n",
    "To learn more about Jupyter Notebooks in PyCharm, see [help](https://www.jetbrains.com/help/pycharm/ipython-notebook-support.html).\n",
    "For an overview of PyCharm, go to Help -> Learn IDE features or refer to [our documentation](https://www.jetbrains.com/help/pycharm/getting-started.html)."
   ],
   "id": "3ee655ab42fa33b5"
  },
  {
   "metadata": {
    "ExecuteTime": {
     "end_time": "2025-07-03T07:08:49.473513Z",
     "start_time": "2025-07-03T07:08:49.466552Z"
    }
   },
   "cell_type": "code",
   "source": "print(\"Hello World!\")\n",
   "id": "fbc121e30a2defb3",
   "outputs": [
    {
     "name": "stdout",
     "output_type": "stream",
     "text": [
      "Hello World!\n"
     ]
    }
   ],
   "execution_count": 3
  },
  {
   "metadata": {},
   "cell_type": "raw",
   "source": "",
   "id": "c5ffb378a52b5843"
  },
  {
   "metadata": {
    "ExecuteTime": {
     "end_time": "2025-07-03T07:12:07.602980Z",
     "start_time": "2025-07-03T07:12:07.578291Z"
    }
   },
   "cell_type": "code",
   "source": [
    "\n",
    "x = 3\n",
    "y = 5\n",
    "print(\"합:\", x + y)"
   ],
   "id": "5e4ef874612329f2",
   "outputs": [
    {
     "name": "stdout",
     "output_type": "stream",
     "text": [
      "합: 8\n"
     ]
    }
   ],
   "execution_count": 4
  },
  {
   "metadata": {
    "ExecuteTime": {
     "end_time": "2025-07-05T08:28:06.390054Z",
     "start_time": "2025-07-05T08:28:06.316108Z"
    }
   },
   "cell_type": "code",
   "source": [
    "\n",
    "import pandas as pd\n",
    "import matplotlib.pyplot as plt\n",
    "import platform\n",
    "\n",
    "# 한글 폰트 설정\n",
    "if platform.system() == 'Darwin':  # macOS\n",
    "    plt.rcParams['font.family'] = 'AppleGothic'\n",
    "elif platform.system() == 'Windows':\n",
    "    plt.rcParams['font.family'] = 'Malgun Gothic'\n",
    "else:\n",
    "    plt.rcParams['font.family'] = 'NanumGothic'\n",
    "\n",
    "plt.rcParams['axes.unicode_minus'] = False\n",
    "\n",
    "\n",
    "data = {\n",
    "    '이름': ['홍길동', '이순신', '유관순'],\n",
    "    '점수': [85, 92, 78]\n",
    "}\n",
    "\n",
    "df = pd.DataFrame(data)\n",
    "print(df)\n",
    "\n",
    "# 시각화\n",
    "df.plot(kind='bar', x='이름', y='점수', legend=False)\n",
    "plt.title(\"학생별 점수\")\n",
    "plt.ylabel(\"점수\")\n",
    "plt.show()"
   ],
   "id": "ce7623fc7b4e6b1b",
   "outputs": [
    {
     "name": "stdout",
     "output_type": "stream",
     "text": [
      "    이름  점수\n",
      "0  홍길동  85\n",
      "1  이순신  92\n",
      "2  유관순  78\n"
     ]
    },
    {
     "data": {
      "text/plain": [
       "<Figure size 640x480 with 1 Axes>"
      ],
      "image/png": "[encoded data removed]"
     },
     "metadata": {},
     "output_type": "display_data"
    }
   ],
   "execution_count": 10
  },
  {
   "metadata": {
    "ExecuteTime": {
     "end_time": "2025-07-03T07:16:53.217678Z",
     "start_time": "2025-07-03T07:16:52.230122Z"
    }
   },
   "cell_type": "code",
   "source": [
    "\n",
    "from sklearn.datasets import load_iris\n",
    "from sklearn.ensemble import RandomForestClassifier\n",
    "from sklearn.model_selection import train_test_split\n",
    "\n",
    "iris = load_iris()\n",
    "X, y = iris.data, iris.target\n",
    "X_train, X_test, y_train, y_test = train_test_split(X, y, test_size=0.2)\n",
    "\n",
    "model = RandomForestClassifier()\n",
    "model.fit(X_train, y_train)\n",
    "print(\"정확도:\", model.score(X_test, y_test))"
   ],
   "id": "b8a98cb67c20658f",
   "outputs": [
    {
     "name": "stdout",
     "output_type": "stream",
     "text": [
      "정확도: 0.9333333333333333\n"
     ]
    }
   ],
   "execution_count": 8
  }
 ],
 "metadata": {
  "kernelspec": {
   "display_name": "Python 3",
   "language": "python",
   "name": "python3"
  },
  "language_info": {
   "codemirror_mode": {
    "name": "ipython",
    "version": 2
   },
   "file_extension": ".py",
   "mimetype": "text/x-python",
   "name": "python",
   "nbconvert_exporter": "python",
   "pygments_lexer": "ipython2",
   "version": "2.7.6"
  }
 },
 "nbformat": 4,
 "nbformat_minor": 5
}

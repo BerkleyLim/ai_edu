{
 "cells": [
  {
   "metadata": {},
   "cell_type": "markdown",
   "source": [
    "# 03. 📘 분산의 합 규칙 (Variance Sum Rule)\n",
    "\n",
    "두 확률 변수 X, Y가 **독립**일때,\n",
    "분산의 합은 다음과 같은 규칙을 따릅니다:\n",
    "\n",
    "$$\n",
    "\\mathrm{Var}{X + Y} = \\mathrm{Var}{X} + \\mathrm{Var}{Y}\n",
    "$$\n",
    "\n",
    "이는 공분산이 0일 때 성립합니다. (독립이면 공분산도 0).\n",
    "\n",
    "아래는 이를 실험적으로 확인하는 코드입니다."
   ],
   "id": "8d5ac875681cc6c0"
  },
  {
   "cell_type": "code",
   "id": "initial_id",
   "metadata": {
    "collapsed": true,
    "ExecuteTime": {
     "end_time": "2025-07-12T01:58:12.236779Z",
     "start_time": "2025-07-12T01:58:11.939027Z"
    }
   },
   "source": [
    "import numpy as np\n",
    "import pandas as pd\n",
    "\n",
    "# 시드 고정 (결과 재현 가능하게)\n",
    "np.random.seed(42)\n",
    "\n",
    "# X, Y 각각 독립적인 정규분포에서 샘플 10,000개 생성\n",
    "X = np.random.normal(loc=0, scale=1, size=10000)   # 정규 분포 식 np.random.normal\n",
    "Y = np.random.normal(loc=0, scale=1, size=10000)\n",
    "\n",
    "# 각 분산 계산\n",
    "var_x = np.var(X)\n",
    "var_y = np.var(Y)\n",
    "var_sum = np.var(X + Y)\n",
    "\n",
    "# 결과 비교\n",
    "df = pd.DataFrame({\n",
    "    '항목': ['Var(X)', 'Var(Y)', 'Var(X + Y)', 'Var(X) + Var(Y)'],\n",
    "    '값': [var_x, var_y, var_sum, var_x + var_y]\n",
    "})\n",
    "df\n"
   ],
   "outputs": [
    {
     "data": {
      "text/plain": [
       "                항목         값\n",
       "0           Var(X)  1.006836\n",
       "1           Var(Y)  1.001921\n",
       "2       Var(X + Y)  1.991576\n",
       "3  Var(X) + Var(Y)  2.008757"
      ],
      "text/html": [
       "<div>\n",
       "<style scoped>\n",
       "    .dataframe tbody tr th:only-of-type {\n",
       "        vertical-align: middle;\n",
       "    }\n",
       "\n",
       "    .dataframe tbody tr th {\n",
       "        vertical-align: top;\n",
       "    }\n",
       "\n",
       "    .dataframe thead th {\n",
       "        text-align: right;\n",
       "    }\n",
       "</style>\n",
       "<table border=\"1\" class=\"dataframe\">\n",
       "  <thead>\n",
       "    <tr style=\"text-align: right;\">\n",
       "      <th></th>\n",
       "      <th>항목</th>\n",
       "      <th>값</th>\n",
       "    </tr>\n",
       "  </thead>\n",
       "  <tbody>\n",
       "    <tr>\n",
       "      <th>0</th>\n",
       "      <td>Var(X)</td>\n",
       "      <td>1.006836</td>\n",
       "    </tr>\n",
       "    <tr>\n",
       "      <th>1</th>\n",
       "      <td>Var(Y)</td>\n",
       "      <td>1.001921</td>\n",
       "    </tr>\n",
       "    <tr>\n",
       "      <th>2</th>\n",
       "      <td>Var(X + Y)</td>\n",
       "      <td>1.991576</td>\n",
       "    </tr>\n",
       "    <tr>\n",
       "      <th>3</th>\n",
       "      <td>Var(X) + Var(Y)</td>\n",
       "      <td>2.008757</td>\n",
       "    </tr>\n",
       "  </tbody>\n",
       "</table>\n",
       "</div>"
      ]
     },
     "execution_count": 1,
     "metadata": {},
     "output_type": "execute_result"
    }
   ],
   "execution_count": 1
  }
 ],
 "metadata": {
  "kernelspec": {
   "display_name": "Python 3",
   "language": "python",
   "name": "python3"
  },
  "language_info": {
   "codemirror_mode": {
    "name": "ipython",
    "version": 2
   },
   "file_extension": ".py",
   "mimetype": "text/x-python",
   "name": "python",
   "nbconvert_exporter": "python",
   "pygments_lexer": "ipython2",
   "version": "2.7.6"
  }
 },
 "nbformat": 4,
 "nbformat_minor": 5
}

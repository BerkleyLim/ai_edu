{
 "cells": [
  {
   "metadata": {},
   "cell_type": "markdown",
   "source": "# 4일차 -0250708\n",
   "id": "f67677715bc8b877"
  },
  {
   "cell_type": "code",
   "id": "initial_id",
   "metadata": {
    "collapsed": true,
    "ExecuteTime": {
     "end_time": "2025-07-09T11:15:37.485811Z",
     "start_time": "2025-07-09T11:15:37.230966Z"
    }
   },
   "source": [
    "import numpy as np\n",
    "import pandas as pd\n",
    "\n",
    "# 시험 점수\n",
    "scores = np.array([80, 70, 60, 50, 100, 90, 80, 80, 70, 90])\n",
    "\n",
    "# Sample Mean (표본 평균)\n",
    "sample_mean = np.mean(scores)\n",
    "\n",
    "# 기대값 (Expected Value)\n",
    "value_prob = {\n",
    "    100: 1/10,\n",
    "    90: 2/10,\n",
    "    80: 3/10,\n",
    "    70: 2/10,\n",
    "    60: 1/10,\n",
    "    50: 1/10\n",
    "}\n",
    "expected_value = sum(x * p for x, p in value_prob.items())\n",
    "\n",
    "# 분산 (Variance)\n",
    "variance = sum(((x - expected_value) ** 2) * p for x, p in value_prob.items())\n",
    "alt_variance = sum((x ** 2) * p for x, p in value_prob.items()) - expected_value ** 2\n",
    "\n",
    "# 최빈값 (Mode)\n",
    "mode = pd.Series(scores).mode().tolist()\n",
    "\n",
    "# 출력\n",
    "print(\"📊 통계 요약\")\n",
    "print(f\"Sample Mean: {sample_mean}\")\n",
    "print(f\"Expected Value: {expected_value}\")\n",
    "print(f\"Variance: {variance}\")\n",
    "print(f\"Alternative Variance: {alt_variance}\")\n",
    "print(f\"Mode: {mode}\")"
   ],
   "outputs": [
    {
     "name": "stdout",
     "output_type": "stream",
     "text": [
      "📊 통계 요약\n",
      "Sample Mean: 77.0\n",
      "Expected Value: 77.0\n",
      "Variance: 201.00000000000003\n",
      "Alternative Variance: 201.0\n",
      "Mode: [80]\n"
     ]
    }
   ],
   "execution_count": 2
  }
 ],
 "metadata": {
  "kernelspec": {
   "display_name": "Python 3",
   "language": "python",
   "name": "python3"
  },
  "language_info": {
   "codemirror_mode": {
    "name": "ipython",
    "version": 2
   },
   "file_extension": ".py",
   "mimetype": "text/x-python",
   "name": "python",
   "nbconvert_exporter": "python",
   "pygments_lexer": "ipython2",
   "version": "2.7.6"
  }
 },
 "nbformat": 4,
 "nbformat_minor": 5
}

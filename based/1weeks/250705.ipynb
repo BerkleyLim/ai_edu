{
 "cells": [
  {
   "metadata": {},
   "cell_type": "markdown",
   "source": [
    "# 2일차 - 25년 7월 5일\n",
    "\n",
    "- 완전연결 신경망(Fully-connected net) 구조를 직접 코드로 구성\n",
    "- 예시 데이터는 sklearn.datasets의 분류용 데이터 사용 (make_classification)-\n"
   ],
   "id": "1ba94eb685d7a6e2"
  },
  {
   "metadata": {
    "ExecuteTime": {
     "end_time": "2025-07-05T01:38:03.271932Z",
     "start_time": "2025-07-05T01:38:03.166176Z"
    }
   },
   "cell_type": "code",
   "source": [
    "# 📌 1. 기본 설정\n",
    "import torch\n",
    "import torch.nn as nn\n",
    "import torch.nn.functional as F\n",
    "import torch.optim as optim\n",
    "from sklearn.datasets import make_classification\n",
    "from sklearn.model_selection import train_test_split\n",
    "from sklearn.preprocessing import StandardScaler\n",
    "\n",
    "import matplotlib.pyplot as plt\n",
    "\n",
    "# 데이터 생성\n",
    "X, y = make_classification(n_samples=1000, n_features=10, n_classes=3, n_informative=5, random_state=42)\n",
    "\n",
    "# 정규화\n",
    "scaler = StandardScaler()\n",
    "X = scaler.fit_transform(X)\n",
    "\n",
    "# Tensor 변환\n",
    "X_tensor = torch.tensor(X, dtype=torch.float32)\n",
    "y_tensor = torch.tensor(y, dtype=torch.long)\n",
    "\n",
    "# Train/Test 분리\n",
    "X_train, X_test, y_train, y_test = train_test_split(X_tensor, y_tensor, test_size=0.2, random_state=42)\n",
    "\n",
    "\n",
    "# 📌 2. DNN 모델 정의 (입력 → 은닉층2개 → softmax)\n",
    "\n",
    "class SimpleDNN(nn.Module):\n",
    "    def __init__(self):\n",
    "        super(SimpleDNN, self).__init__()\n",
    "        self.fc1 = nn.Linear(10, 64)     # 입력: 10차원\n",
    "        self.fc2 = nn.Linear(64, 32)     # 은닉층1\n",
    "        self.out = nn.Linear(32, 3)      # 출력: 클래스 3개\n",
    "\n",
    "    def forward(self, x):\n",
    "        x = F.relu(self.fc1(x))          # h(1) = ReLU(W1·x)\n",
    "        x = F.relu(self.fc2(x))          # h(2) = ReLU(W2·h1)\n",
    "        x = self.out(x)                  # W3·h2\n",
    "        return F.log_softmax(x, dim=1)   # softmax(W3·h2)\n",
    "\n",
    "model = SimpleDNN()\n",
    "\n",
    "# 📌 3. 학습 루프 정의\n",
    "\n",
    "optimizer = optim.Adam(model.parameters(), lr=0.01)\n",
    "loss_fn = nn.NLLLoss()\n",
    "\n",
    "epochs = 30\n",
    "loss_history = []\n",
    "\n",
    "for epoch in range(epochs):\n",
    "    model.train()\n",
    "    optimizer.zero_grad()\n",
    "    output = model(X_train)\n",
    "    loss = loss_fn(output, y_train)\n",
    "    loss.backward()\n",
    "    optimizer.step()\n",
    "\n",
    "    loss_history.append(loss.item())\n",
    "    if (epoch+1) % 5 == 0:\n",
    "        print(f\"Epoch {epoch+1}/{epochs}, Loss: {loss.item():.4f}\")\n",
    "\n",
    "# 📌 4. 테스트 정확도 확인\n",
    "\n",
    "model.eval()\n",
    "with torch.no_grad():\n",
    "    pred = model(X_test).argmax(dim=1)\n",
    "    accuracy = (pred == y_test).float().mean()\n",
    "    print(f\"✅ Test Accuracy: {accuracy.item():.2%}\")\n",
    "\n",
    "\n",
    "# 📌 5. 학습 그래프 시각화\n",
    "\n",
    "plt.plot(loss_history)\n",
    "plt.xlabel('Epoch')\n",
    "plt.ylabel('Loss')\n",
    "plt.title('Training Loss')\n",
    "plt.grid()\n",
    "plt.show()"
   ],
   "id": "1c0077c90c159f2d",
   "outputs": [
    {
     "name": "stdout",
     "output_type": "stream",
     "text": [
      "Epoch 5/30, Loss: 0.8756\n",
      "Epoch 10/30, Loss: 0.5895\n",
      "Epoch 15/30, Loss: 0.4354\n",
      "Epoch 20/30, Loss: 0.3558\n",
      "Epoch 25/30, Loss: 0.3059\n",
      "Epoch 30/30, Loss: 0.2593\n",
      "✅ Test Accuracy: 84.50%\n"
     ]
    },
    {
     "data": {
      "text/plain": [
       "<Figure size 640x480 with 1 Axes>"
      ],
      "image/png": "[encoded data removed]"
     },
     "metadata": {},
     "output_type": "display_data"
    }
   ],
   "execution_count": 3
  },
  {
   "metadata": {},
   "cell_type": "markdown",
   "source": [
    "## Adversarial Attack (FGSM) 예제\n",
    "\n",
    "- pyTorch 기반 **MNIST 숫자 분류 모델에 적대적 공격(FGSM)** 적용\n",
    "\n",
    "- 먼저 설치\n",
    "\n",
    "```bash\n",
    "pip install torch torchvision matplotlib\n",
    "```\n",
    "\n",
    "### ✅ 결과\n",
    "- 원래는 맞게 예측되던 이미지가, FGSM 공격 후 잘못된 숫자로 분류됨\n",
    "- 눈엔 거의 동일하지만 AI는 오답으로 판단함 → 이게 Adversarial Attack"
   ],
   "id": "dce9b89d46e94102"
  },
  {
   "cell_type": "code",
   "id": "initial_id",
   "metadata": {
    "collapsed": true,
    "ExecuteTime": {
     "end_time": "2025-07-05T01:59:18.649198Z",
     "start_time": "2025-07-05T01:59:18.627185Z"
    }
   },
   "source": [
    "# 📌 1. 라이브러리 로딩 및 MNIST 데이터 불러오기\n",
    "import torch\n",
    "import torch.nn as nn\n",
    "import torch.optim as optim\n",
    "import torchvision\n",
    "import torchvision.transforms as transforms\n",
    "import matplotlib.pyplot as plt\n",
    "\n",
    "transform = transforms.Compose([transforms.ToTensor()])\n",
    "testset = torchvision.datasets.MNIST(root='./data', train=False, download=True, transform=transform)\n",
    "testloader = torch.utils.data.DataLoader(testset, batch_size=1, shuffle=True)\n",
    "\n",
    "device = torch.device(\"cuda\" if torch.cuda.is_available() else \"cpu\")\n",
    "\n",
    "# 📌 2. 간단한 CNN 모델 정의\n",
    "class SimpleCNN(nn.Module):\n",
    "    def __init__(self):\n",
    "        super(SimpleCNN, self).__init__()\n",
    "        self.conv1 = nn.Conv2d(1, 10, kernel_size=5)\n",
    "        self.pool = nn.MaxPool2d(2, 2)\n",
    "        self.fc1 = nn.Linear(10 * 12 * 12, 10)\n",
    "\n",
    "    def forward(self, x):\n",
    "        x = self.pool(torch.relu(self.conv1(x)))\n",
    "        x = x.view(-1, 10 * 12 * 12)\n",
    "        x = self.fc1(x)\n",
    "        return x\n",
    "\n",
    "model = SimpleCNN().to(device)\n",
    "\n",
    "# 사전 학습된 모델이 없으므로 학습은 생략 (빠르게 테스트만 할 예정)\n",
    "\n",
    "\n",
    "# 📌 3. FGSM 공격 함수 정의\n",
    "def fgsm_attack(image, epsilon, data_grad):\n",
    "    sign_data_grad = data_grad.sign()\n",
    "    perturbed_image = image + epsilon * sign_data_grad\n",
    "    return torch.clamp(perturbed_image, 0, 1)\n",
    "\n",
    "# 📌 4. 테스트 + 공격 시도 (한 장의 이미지로 시연)\n",
    "import torch.nn.functional as F\n",
    "\n",
    "# 손실 함수\n",
    "loss_fn = nn.CrossEntropyLoss()\n",
    "\n",
    "# 모델 평가 모드\n",
    "model.eval()\n",
    "\n",
    "# 테스트 이미지 1장만\n",
    "dataiter = iter(testloader)\n",
    "images, labels = next(dataiter)\n",
    "images, labels = images.to(device), labels.to(device)\n",
    "\n",
    "# 그래디언트 추적 켜기\n",
    "images.requires_grad = True\n",
    "\n",
    "# 예측\n",
    "output = model(images)\n",
    "init_pred = output.max(1, keepdim=True)[1]\n",
    "\n",
    "if init_pred.item() == labels.item():\n",
    "    loss = loss_fn(output, labels)\n",
    "    model.zero_grad()\n",
    "    loss.backward()\n",
    "\n",
    "    # 공격 적용\n",
    "    epsilon = 0.3\n",
    "    data_grad = images.grad.data\n",
    "    perturbed_image = fgsm_attack(images, epsilon, data_grad)\n",
    "\n",
    "    # 다시 예측\n",
    "    output_adv = model(perturbed_image)\n",
    "    final_pred = output_adv.max(1, keepdim=True)[1]\n",
    "\n",
    "    print(f\"🧾 원래 예측: {init_pred.item()}, 공격 후 예측: {final_pred.item()}\")\n",
    "\n",
    "    # 시각화\n",
    "    plt.figure(figsize=(10, 4))\n",
    "    plt.subplot(1, 2, 1)\n",
    "    plt.title(\"Original Image\")\n",
    "    plt.imshow(images.squeeze().detach().cpu().numpy(), cmap=\"gray\")\n",
    "\n",
    "    plt.subplot(1, 2, 2)\n",
    "    plt.title(\"Adversarial Image\")\n",
    "    plt.imshow(perturbed_image.squeeze().detach().cpu().numpy(), cmap=\"gray\")\n",
    "    plt.show()\n",
    "else:\n",
    "    print(\"초기 예측부터 틀려서 공격 테스트 생략됨.\")"
   ],
   "outputs": [
    {
     "name": "stdout",
     "output_type": "stream",
     "text": [
      "초기 예측부터 틀려서 공격 테스트 생략됨.\n"
     ]
    }
   ],
   "execution_count": 8
  },
  {
   "metadata": {},
   "cell_type": "markdown",
   "source": [
    "### Uncertainty Quantification (UQ) 실습 예시\n",
    "\n",
    "- 의료 이미지 예시로 구조 짜기\n",
    "\n"
   ],
   "id": "e975edf026c21215"
  },
  {
   "metadata": {
    "ExecuteTime": {
     "end_time": "2025-07-05T02:18:22.301168Z",
     "start_time": "2025-07-05T02:18:22.296388Z"
    }
   },
   "cell_type": "code",
   "source": [
    "import torch\n",
    "import torch.nn.functional as F\n",
    "from torchvision import datasets, transforms\n",
    "from torch.utils.data import DataLoader\n",
    "import matplotlib.pyplot as plt\n",
    "import numpy as np\n",
    "\n",
    "# softmax 후 엔트로피 계산 함수\n",
    "def entropy(probs):\n",
    "    return -torch.sum(probs * torch.log(probs + 1e-8), dim=1)\n",
    "\n",
    "# 예측 및 불확실성 측정\n",
    "def predict_with_uncertainty(model, x):\n",
    "    model.eval()\n",
    "    with torch.no_grad():\n",
    "        logits = model(x)\n",
    "        probs = F.softmax(logits, dim=1)\n",
    "        ent = entropy(probs)\n",
    "    return probs, ent\n",
    "\n",
    "# 불확실성이 높은 샘플만 필터링\n",
    "def filter_uncertain_samples(inputs, entropy_values, threshold=1.0):\n",
    "    uncertain_idxs = (entropy_values > threshold).nonzero(as_tuple=True)[0]\n",
    "    return inputs[uncertain_idxs], entropy_values[uncertain_idxs]"
   ],
   "id": "3de2f7b91f7932dd",
   "outputs": [],
   "execution_count": 11
  },
  {
   "metadata": {},
   "cell_type": "markdown",
   "source": [
    "## 리뷰 (2025년 7월 4일)\n",
    "\n",
    "--\n"
   ],
   "id": "f96d5c285e7d634b"
  },
  {
   "metadata": {
    "ExecuteTime": {
     "end_time": "2025-07-05T02:55:46.871008Z",
     "start_time": "2025-07-05T02:55:46.812545Z"
    }
   },
   "cell_type": "code",
   "source": [
    "import numpy as np\n",
    "import matplotlib.pyplot as plt\n",
    "\n",
    "# 벡터 정의\n",
    "v = np.array([3, 4])\n",
    "\n",
    "# L2 Norm (유클리디안 노름)\n",
    "l2_norm = np.linalg.norm(v)\n",
    "\n",
    "# L1 Norm (맨해튼 노름)\n",
    "l1_norm = np.sum(np.abs(v))\n",
    "\n",
    "# L∞ Norm (최댓값 노름)\n",
    "linf_norm = np.max(np.abs(v))\n",
    "\n",
    "# 결과 출력\n",
    "print(f\"L2 Norm: {l2_norm}\")\n",
    "print(f\"L1 Norm: {l1_norm}\")\n",
    "print(f\"L∞ Norm: {linf_norm}\")\n",
    "\n",
    "# 시각화\n",
    "origin = [0], [0]\n",
    "plt.quiver(*origin, v[0], v[1], angles='xy', scale_units='xy', scale=1, color='r')\n",
    "plt.text(v[0], v[1], f\"|v|={l2_norm:.2f}\", fontsize=12)\n",
    "\n",
    "plt.xlim(0, 5)\n",
    "plt.ylim(0, 5)\n",
    "plt.grid()\n",
    "plt.gca().set_aspect('equal', adjustable='box')\n",
    "plt.title(\"Vector and L2 Norm\")\n",
    "plt.xlabel(\"X\")\n",
    "plt.ylabel(\"Y\")\n",
    "plt.show()"
   ],
   "id": "7840e45ae6fe519c",
   "outputs": [
    {
     "name": "stdout",
     "output_type": "stream",
     "text": [
      "L2 Norm: 5.0\n",
      "L1 Norm: 7\n",
      "L∞ Norm: 4\n"
     ]
    },
    {
     "data": {
      "text/plain": [
       "<Figure size 640x480 with 1 Axes>"
      ],
      "image/png": "[encoded data removed]"
     },
     "metadata": {},
     "output_type": "display_data"
    }
   ],
   "execution_count": 13
  },
  {
   "metadata": {
    "ExecuteTime": {
     "end_time": "2025-07-05T02:56:08.362957Z",
     "start_time": "2025-07-05T02:56:08.312274Z"
    }
   },
   "cell_type": "code",
   "source": [
    "import numpy as np\n",
    "import matplotlib.pyplot as plt\n",
    "\n",
    "# 벡터 정의\n",
    "x = np.array([1, 2])\n",
    "\n",
    "# L2 Norm (Euclidean norm)\n",
    "l2_norm = np.linalg.norm(x)\n",
    "\n",
    "# 시각화\n",
    "origin = [0], [0]\n",
    "plt.quiver(*origin, x[0], x[1], angles='xy', scale_units='xy', scale=1, color='blue', label='Vector x')\n",
    "\n",
    "# 벡터의 끝에 라벨 추가\n",
    "plt.text(x[0], x[1], f\"|x|={l2_norm:.2f}\", fontsize=12, color='black', ha='left')\n",
    "\n",
    "plt.xlim(-1, 3)\n",
    "plt.ylim(-1, 3)\n",
    "plt.gca().set_aspect('equal', adjustable='box')\n",
    "plt.grid(True)\n",
    "plt.title(\"Vector x and Euclidean Norm\")\n",
    "plt.xlabel(\"x1\")\n",
    "plt.ylabel(\"x2\")\n",
    "plt.legend()\n",
    "plt.show()"
   ],
   "id": "2aa6815d4f01fadd",
   "outputs": [
    {
     "data": {
      "text/plain": [
       "<Figure size 640x480 with 1 Axes>"
      ],
      "image/png": "[encoded data removed]"
     },
     "metadata": {},
     "output_type": "display_data"
    }
   ],
   "execution_count": 14
  }
 ],
 "metadata": {
  "kernelspec": {
   "display_name": "Python 3",
   "language": "python",
   "name": "python3"
  },
  "language_info": {
   "codemirror_mode": {
    "name": "ipython",
    "version": 2
   },
   "file_extension": ".py",
   "mimetype": "text/x-python",
   "name": "python",
   "nbconvert_exporter": "python",
   "pygments_lexer": "ipython2",
   "version": "2.7.6"
  }
 },
 "nbformat": 4,
 "nbformat_minor": 5
}

{
 "cells": [
  {
   "metadata": {},
   "cell_type": "markdown",
   "source": [
    "# 제어문\n",
    "\n",
    "1. 반복 작업의 효율화\n",
    "    - 동일한 작업을 반복해야 하는 경우, 제어문을 사용해 효율적으로 처리할 수 있음. 리스트에 있는 모든 숫자를 출력하거나, 합계를 계산하는 등의 작업에 반복문을 사용함\n",
    "2. 코드의 재사용성과 가독성 향상\n",
    "    - 제어문을 사용하면 중복 코드를 줄이고, 프로그램의 구조를 단순화할 수 있음\n",
    "3. 동적인 프로그램 구현\n",
    "    - 사용자 입력, 실시간 데이터, 이벤트 등에 따라 프로그램의 동작을 변경할 수 있음\n",
    "\n",
    "\n",
    "# 조건문 예제"
   ],
   "id": "48100c6c519322f1"
  },
  {
   "cell_type": "code",
   "id": "initial_id",
   "metadata": {
    "collapsed": true,
    "ExecuteTime": {
     "end_time": "2025-07-05T07:47:30.782175Z",
     "start_time": "2025-07-05T07:47:27.106017Z"
    }
   },
   "source": [
    "# 조건문 예제 1 - 나이 검사\n",
    "age = int(input(\"나이를 입력하세요: \"))\n",
    "\n",
    "if age >= 18:\n",
    "    print(\"회원 가입 가능\")\n",
    "else:\n",
    "    print(\"가입 불가 - 18세 이상만 가입 가능\")"
   ],
   "outputs": [
    {
     "name": "stdout",
     "output_type": "stream",
     "text": [
      "회원 가입 가능\n"
     ]
    }
   ],
   "execution_count": 3
  },
  {
   "metadata": {
    "ExecuteTime": {
     "end_time": "2025-07-05T07:49:30.643391Z",
     "start_time": "2025-07-05T07:49:28.161255Z"
    }
   },
   "cell_type": "code",
   "source": [
    "# 조건문 예제 2 - 점수 로직\n",
    "\n",
    "score = int(input(\"점수를 입력하세요: \"))\n",
    "\n",
    "if score >= 90:\n",
    "    print(\"A학점\")\n",
    "    if score >= 95:\n",
    "        print(\"축하합니다! A+ 학점입니다.\")\n",
    "elif score >= 80:\n",
    "    print(\"B학점\")\n",
    "    if score >= 85:\n",
    "        print(\"좋아요! B+ 학점입니다.\")\n",
    "elif score >= 60:\n",
    "    print(\"C학점 이하\")\n",
    "else:\n",
    "    print(\"불합격입니다.\")"
   ],
   "id": "43d190a32c4e00b8",
   "outputs": [
    {
     "name": "stdout",
     "output_type": "stream",
     "text": [
      "B학점\n"
     ]
    }
   ],
   "execution_count": 4
  },
  {
   "metadata": {},
   "cell_type": "code",
   "outputs": [],
   "execution_count": null,
   "source": [
    "# 조건문 예제 3 - 요일 로직\n",
    "\n",
    "day = int(input(\"요일을 선택하세요 (1~7): \"))\n",
    "match day:\n",
    "    case 1:\n",
    "        print(\"일요일\")\n",
    "    case 2:\n",
    "        print(\"월요일\")\n",
    "    case 3:\n",
    "        print(\"화요일\")\n",
    "    case 4:\n",
    "        print(\"수요일\")\n",
    "    case 5:\n",
    "        print(\"목요일\")\n",
    "    case 6:\n",
    "        print(\"금요일\")\n",
    "    case 7:\n",
    "        print(\"토요일\")\n"
   ],
   "id": "5475fbdc3264d829"
  },
  {
   "metadata": {},
   "cell_type": "markdown",
   "source": [
    "## 반복문\n",
    "1. 반복문(Loop Statement)은 특정 코드 블록을 지속적으로 반복 실행하는 제어문\n",
    "2. 반복 조건이 참(True)인 동안 코드를 실행하며, 조건이 거짓(False)이 되면 반복을 종료\n",
    "\n",
    "### 반복문 필요한 이유\n",
    "1. 반복문 없이 동일한 작업을 여러 번 수행하려면 같은 코드를 여러 번 작성해야함\n",
    "2. 반복문을 사용하면 단 몇 줄의 코드로 수십, 수백 번의 작업을 처리할 수 있음\n",
    "\n",
    "### for 문 활용 예제\n",
    "\n",
    "- Range(5) - 0 부터 시작하여 5이전의 숫자\n",
    "\n",
    "```python\n",
    "for i in range(5):\n",
    "    print(i)\n",
    "```\n",
    "\n",
    "- Range(1, 6) - 1부터 시작해 6까지 정수 생성\n",
    "\n",
    "```python\n",
    "for i in range(1, 6):\n",
    "    print(f\"숫자: {i}\")\n",
    "```"
   ],
   "id": "2ba37b6c9ba44a1f"
  },
  {
   "metadata": {},
   "cell_type": "code",
   "outputs": [],
   "execution_count": null,
   "source": [
    "\n",
    "for i in range(5):\n",
    "    print(i)\n",
    "\n",
    "for i in range(1, 6):\n",
    "    print(f\"숫자: {i}\")\n",
    "\n"
   ],
   "id": "67c8b86c5e5a1afd"
  },
  {
   "metadata": {},
   "cell_type": "markdown",
   "source": [
    "### While문 활용 예제\n",
    "- Count <= 5 조건이 참일 때만 반복\n"
   ],
   "id": "be81b0a904ad2b83"
  },
  {
   "metadata": {
    "ExecuteTime": {
     "end_time": "2025-07-05T08:00:51.431836Z",
     "start_time": "2025-07-05T08:00:51.426206Z"
    }
   },
   "cell_type": "code",
   "source": [
    "count = 1\n",
    "\n",
    "while count < 5:\n",
    "    print(f\"카운트: {count}\")\n",
    "    count += 1"
   ],
   "id": "a316936e7bbd176",
   "outputs": [
    {
     "name": "stdout",
     "output_type": "stream",
     "text": [
      "카운트: 1\n",
      "카운트: 2\n",
      "카운트: 3\n",
      "카운트: 4\n"
     ]
    }
   ],
   "execution_count": 6
  },
  {
   "metadata": {},
   "cell_type": "markdown",
   "source": [
    "#### 사용자 입력 받아서 해보기\n",
    "- 무한 루프 생성 후 사용자가 exit 입력 시 루프 종료\n",
    "- break 문으로 반복 탈출\n"
   ],
   "id": "18cc1b2817f2538d"
  },
  {
   "metadata": {
    "ExecuteTime": {
     "end_time": "2025-07-05T08:02:51.604390Z",
     "start_time": "2025-07-05T08:02:43.828448Z"
    }
   },
   "cell_type": "code",
   "source": [
    "# 사용자 입력을 받아 종료하는 while 반복문\n",
    "while True:\n",
    "    user_input = input(\"종료하려면 'exit'을 입력하세요.\")\n",
    "    if user_input == \"exit\":\n",
    "        print(\"프로그램을 종료합니다.\")\n",
    "        break\n",
    "    else:\n",
    "        print(f\"입력하신 값: {user_input}\")"
   ],
   "id": "6449e44e285171f9",
   "outputs": [
    {
     "name": "stdout",
     "output_type": "stream",
     "text": [
      "입력하신 값: ss\n",
      "s\n",
      "프로그램을 종료합니다.\n"
     ]
    }
   ],
   "execution_count": 7
  },
  {
   "metadata": {},
   "cell_type": "markdown",
   "source": [
    "### Do-While 문\n",
    "- 1 부터 20 까지 순회하며, 3의 배수만 출력 (10 초과시 종료)"
   ],
   "id": "c643340596920fb5"
  },
  {
   "metadata": {
    "ExecuteTime": {
     "end_time": "2025-07-05T08:06:18.633560Z",
     "start_time": "2025-07-05T08:06:18.628897Z"
    }
   },
   "cell_type": "code",
   "source": [
    "for i in range(1, 21):\n",
    "    if i > 10:\n",
    "        print(\"10을 초과했습니다. 반복 종료!\")\n",
    "        break       # 10초과시 종료\n",
    "\n",
    "    if i % 3 != 0:\n",
    "        continue        # 3의 배수 아니면 건너뛰기\n",
    "\n",
    "    print(f\"3의 배수: {i}\")"
   ],
   "id": "ca91753feef2af68",
   "outputs": [
    {
     "name": "stdout",
     "output_type": "stream",
     "text": [
      "3의 배수: 3\n",
      "3의 배수: 6\n",
      "3의 배수: 9\n",
      "10을 초과했습니다. 반복 종료!\n"
     ]
    }
   ],
   "execution_count": 8
  },
  {
   "metadata": {},
   "cell_type": "markdown",
   "source": [
    "## 분기문\n",
    "- 분기문(Jump Statement): 프로그램 흐름 변경, 특정 코드 블록을 건너뛰거나 반복문을 조기 종료하는데 사용되는 제어문\n",
    "- 일반적인 프로그램은 위에서 아래로 순차적으로 실행되지만, 분기문을 사용시 특정 조건에 따라 실행 흐름 변경 가능"
   ],
   "id": "dd0c45613af625a9"
  },
  {
   "metadata": {},
   "cell_type": "code",
   "outputs": [],
   "execution_count": null,
   "source": [
    "# Break 문 실습 - 반복문 즉시 종료 가능\n",
    "\n",
    "for i in range(1, 11):\n",
    "    if i == 5:\n",
    "        print(\"5에서 반복 종료\")\n",
    "        break\n",
    "    print(i)\n",
    "\n"
   ],
   "id": "462555a37b14cc3e"
  },
  {
   "metadata": {
    "ExecuteTime": {
     "end_time": "2025-07-05T08:09:11.056350Z",
     "start_time": "2025-07-05T08:09:11.050641Z"
    }
   },
   "cell_type": "code",
   "source": [
    "# Continue 문 실습 - 현재 반복을 건너 뛰고 다음 반복 진행\n",
    "\n",
    "for i in range(1, 11):\n",
    "    if i % 2 == 0:\n",
    "        continue    # 짝수는 건너뛰기\n",
    "    print(i)"
   ],
   "id": "76281f8a0fd33981",
   "outputs": [
    {
     "name": "stdout",
     "output_type": "stream",
     "text": [
      "1\n",
      "3\n",
      "5\n",
      "7\n",
      "9\n"
     ]
    }
   ],
   "execution_count": 10
  },
  {
   "metadata": {
    "ExecuteTime": {
     "end_time": "2025-07-05T08:10:06.538750Z",
     "start_time": "2025-07-05T08:10:06.533383Z"
    }
   },
   "cell_type": "code",
   "source": [
    "# Return 문 실습 - 함수의 실행을 종료, 결과값을 호출한 곳에 반하는 역할 수행\n",
    "\n",
    "def add(a, b):\n",
    "    return a + b\n",
    "\n",
    "result = add(3, 5)\n",
    "print(f\"3 + 5 = {result}\")"
   ],
   "id": "572d9b3d1958c2f1",
   "outputs": [
    {
     "name": "stdout",
     "output_type": "stream",
     "text": [
      "3 + 5 = 8\n"
     ]
    }
   ],
   "execution_count": 11
  },
  {
   "metadata": {},
   "cell_type": "markdown",
   "source": [
    "## 예외처리문\n",
    "1. 예외: 코드의 논리적 오류 가 아닌, 실행 도중 발생하는 비정상적인 상태를 말함\n",
    "2. 예외 발생시: 프로그램 정상적인 흐름 멈추고, 오류 메시지를 출력하고 종료될 수 있음\n",
    "\n",
    "### 예외 처리 필요 이유\n",
    "1. 예외 발생시 적절히 처리하지 않을 경우 오류 발생하여 비정상적 실행 종료\n",
    "2. 예외처리를 통해 오류 발생 . 프로그램을 안정적으로 유지하기 위함"
   ],
   "id": "9a35671cc6e6886c"
  },
  {
   "metadata": {
    "ExecuteTime": {
     "end_time": "2025-07-05T08:12:43.204857Z",
     "start_time": "2025-07-05T08:12:40.459458Z"
    }
   },
   "cell_type": "code",
   "source": [
    "# 예외 처리 예제 - 0 입력시 예외 발생\n",
    "try:\n",
    "    number = int(input(\"숫자를 입력하세요: \"))\n",
    "    print(10 / number)\n",
    "except ZeroDivisionError:\n",
    "    print(\"0으로 나눌 수 없습니다.\")"
   ],
   "id": "1346b9452e48e39a",
   "outputs": [
    {
     "name": "stdout",
     "output_type": "stream",
     "text": [
      "0으로 나눌 수 없습니다.\n"
     ]
    }
   ],
   "execution_count": 12
  },
  {
   "metadata": {
    "ExecuteTime": {
     "end_time": "2025-07-05T08:15:16.098401Z",
     "start_time": "2025-07-05T08:15:10.860356Z"
    }
   },
   "cell_type": "code",
   "source": [
    "# 예외 처리 예제 - 숫자만 입력 가능한데 문제 입력 시\n",
    "try:\n",
    "    number1 = int(input(\"첫 번째 입력: \"))\n",
    "    number2 = int(input(\"두 번째 입력: \"))\n",
    "    result = number1 / number2\n",
    "    print(f\"결과 : {result}\")\n",
    "except ValueError:\n",
    "    print((\"X 숫자만 입력하세요\"))\n",
    "except ZeroDivisionError:\n",
    "    print((\"X 0으로 나눌 수 없습니다.\"))\n",
    "except Exception as e:\n",
    "    print(f\" 알 수 없는 에러 발생: {e}\")"
   ],
   "id": "79c0c1c4e63ef82b",
   "outputs": [
    {
     "name": "stdout",
     "output_type": "stream",
     "text": [
      "X 숫자만 입력하세요\n"
     ]
    }
   ],
   "execution_count": 13
  },
  {
   "metadata": {},
   "cell_type": "markdown",
   "source": [
    "## 고급제어문\n",
    "- 제어문 응용 (조건문 + 반복문)\n",
    "- 구구단, 별피라미드"
   ],
   "id": "6fe4d560e59651a9"
  },
  {
   "metadata": {
    "ExecuteTime": {
     "end_time": "2025-07-05T08:17:17.429668Z",
     "start_time": "2025-07-05T08:17:17.418266Z"
    }
   },
   "cell_type": "code",
   "source": [
    "# 구구단 출력 - 결과가 짝수만 출력\n",
    "\n",
    "for i in range(2, 10):  # 단\n",
    "    for j in range(1, 10):  # 곱하는 수\n",
    "        if (i * j) % 2 == 0:  # 결과가 짝수일때만 출력\n",
    "           print(f\"{i} * {j} = {i * j}\")\n",
    "    print(\"------------\")"
   ],
   "id": "aff44fd7af1f7556",
   "outputs": [
    {
     "name": "stdout",
     "output_type": "stream",
     "text": [
      "2 * 1 = 2\n",
      "2 * 2 = 4\n",
      "2 * 3 = 6\n",
      "2 * 4 = 8\n",
      "2 * 5 = 10\n",
      "2 * 6 = 12\n",
      "2 * 7 = 14\n",
      "2 * 8 = 16\n",
      "2 * 9 = 18\n",
      "------------\n",
      "3 * 2 = 6\n",
      "3 * 4 = 12\n",
      "3 * 6 = 18\n",
      "3 * 8 = 24\n",
      "------------\n",
      "4 * 1 = 4\n",
      "4 * 2 = 8\n",
      "4 * 3 = 12\n",
      "4 * 4 = 16\n",
      "4 * 5 = 20\n",
      "4 * 6 = 24\n",
      "4 * 7 = 28\n",
      "4 * 8 = 32\n",
      "4 * 9 = 36\n",
      "------------\n",
      "5 * 2 = 10\n",
      "5 * 4 = 20\n",
      "5 * 6 = 30\n",
      "5 * 8 = 40\n",
      "------------\n",
      "6 * 1 = 6\n",
      "6 * 2 = 12\n",
      "6 * 3 = 18\n",
      "6 * 4 = 24\n",
      "6 * 5 = 30\n",
      "6 * 6 = 36\n",
      "6 * 7 = 42\n",
      "6 * 8 = 48\n",
      "6 * 9 = 54\n",
      "------------\n",
      "7 * 2 = 14\n",
      "7 * 4 = 28\n",
      "7 * 6 = 42\n",
      "7 * 8 = 56\n",
      "------------\n",
      "8 * 1 = 8\n",
      "8 * 2 = 16\n",
      "8 * 3 = 24\n",
      "8 * 4 = 32\n",
      "8 * 5 = 40\n",
      "8 * 6 = 48\n",
      "8 * 7 = 56\n",
      "8 * 8 = 64\n",
      "8 * 9 = 72\n",
      "------------\n",
      "9 * 2 = 18\n",
      "9 * 4 = 36\n",
      "9 * 6 = 54\n",
      "9 * 8 = 72\n",
      "------------\n"
     ]
    }
   ],
   "execution_count": 14
  },
  {
   "metadata": {
    "ExecuteTime": {
     "end_time": "2025-07-05T08:19:29.772241Z",
     "start_time": "2025-07-05T08:19:29.768167Z"
    }
   },
   "cell_type": "code",
   "source": [
    "# 별 피아미드 출력\n",
    "\n",
    "rows = 5\n",
    "\n",
    "for i in range(1, rows + 1):\n",
    "    print(\" \" * (rows - i) + \"*\" * (2 * i -1))"
   ],
   "id": "18e02750c4fc98d7",
   "outputs": [
    {
     "name": "stdout",
     "output_type": "stream",
     "text": [
      "    *\n",
      "   ***\n",
      "  *****\n",
      " *******\n",
      "*********\n"
     ]
    }
   ],
   "execution_count": 16
  },
  {
   "metadata": {
    "ExecuteTime": {
     "end_time": "2025-07-05T08:20:40.439808Z",
     "start_time": "2025-07-05T08:20:37.900547Z"
    }
   },
   "cell_type": "code",
   "source": [
    "# 별 피아미드 출력 - 역순\n",
    "\n",
    "rows = int(input(\"역 피라미드 줄 수 입력: \"))\n",
    "\n",
    "for i in range(rows):\n",
    "    spaces = \" \" * i\n",
    "    stars = \"*\" * (2 * (rows - i) - 1)\n",
    "    print(spaces + stars)\n"
   ],
   "id": "5ad8a1897b895cea",
   "outputs": [
    {
     "name": "stdout",
     "output_type": "stream",
     "text": [
      "*********\n",
      " *******\n",
      "  *****\n",
      "   ***\n",
      "    *\n"
     ]
    }
   ],
   "execution_count": 17
  }
 ],
 "metadata": {
  "kernelspec": {
   "display_name": "Python 3",
   "language": "python",
   "name": "python3"
  },
  "language_info": {
   "codemirror_mode": {
    "name": "ipython",
    "version": 2
   },
   "file_extension": ".py",
   "mimetype": "text/x-python",
   "name": "python",
   "nbconvert_exporter": "python",
   "pygments_lexer": "ipython2",
   "version": "2.7.6"
  }
 },
 "nbformat": 4,
 "nbformat_minor": 5
}

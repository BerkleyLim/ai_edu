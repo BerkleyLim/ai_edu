{
 "cells": [
  {
   "metadata": {},
   "cell_type": "markdown",
   "source": [
    "# 제어문\n",
    "\n",
    "1. 반복 작업의 효율화\n",
    "    - 동일한 작업을 반복해야 하는 경우, 제어문을 사용해 효율적으로 처리할 수 있음. 리스트에 있는 모든 숫자를 출력하거나, 합계를 계산하는 등의 작업에 반복문을 사용함\n",
    "2. 코드의 재사용성과 가독성 향상\n",
    "    - 제어문을 사용하면 중복 코드를 줄이고, 프로그램의 구조를 단순화할 수 있음\n",
    "3. 동적인 프로그램 구현\n",
    "    - 사용자 입력, 실시간 데이터, 이벤트 등에 따라 프로그램의 동작을 변경할 수 있음\n",
    "\n",
    "\n",
    "# 조건문 예제"
   ],
   "id": "48100c6c519322f1"
  },
  {
   "cell_type": "code",
   "id": "initial_id",
   "metadata": {
    "collapsed": true,
    "ExecuteTime": {
     "end_time": "2025-07-05T07:47:30.782175Z",
     "start_time": "2025-07-05T07:47:27.106017Z"
    }
   },
   "source": [
    "# 조건문 예제 1 - 나이 검사\n",
    "age = int(input(\"나이를 입력하세요: \"))\n",
    "\n",
    "if age >= 18:\n",
    "    print(\"회원 가입 가능\")\n",
    "else:\n",
    "    print(\"가입 불가 - 18세 이상만 가입 가능\")"
   ],
   "outputs": [
    {
     "name": "stdout",
     "output_type": "stream",
     "text": [
      "회원 가입 가능\n"
     ]
    }
   ],
   "execution_count": 3
  },
  {
   "metadata": {
    "ExecuteTime": {
     "end_time": "2025-07-05T07:49:30.643391Z",
     "start_time": "2025-07-05T07:49:28.161255Z"
    }
   },
   "cell_type": "code",
   "source": [
    "# 조건문 예제 2 - 점수 로직\n",
    "\n",
    "score = int(input(\"점수를 입력하세요: \"))\n",
    "\n",
    "if score >= 90:\n",
    "    print(\"A학점\")\n",
    "    if score >= 95:\n",
    "        print(\"축하합니다! A+ 학점입니다.\")\n",
    "elif score >= 80:\n",
    "    print(\"B학점\")\n",
    "    if score >= 85:\n",
    "        print(\"좋아요! B+ 학점입니다.\")\n",
    "else:\n",
    "    print(\"불합격입니다.\")"
   ],
   "id": "43d190a32c4e00b8",
   "outputs": [
    {
     "name": "stdout",
     "output_type": "stream",
     "text": [
      "B학점\n"
     ]
    }
   ],
   "execution_count": 4
  },
  {
   "metadata": {},
   "cell_type": "code",
   "outputs": [],
   "execution_count": null,
   "source": [
    "# 조건문 예제 3 - 요일 로직\n",
    "\n",
    "day = int(input(\"요일을 선택하세요 (1~7): \"))\n",
    "match day:\n",
    "    case 1:\n",
    "        print(\"일요일\")\n",
    "    case 2:\n",
    "        print(\"월요일\")\n",
    "    case 3:\n",
    "        print(\"화요일\")\n",
    "    case 4:\n",
    "        print(\"수요일\")\n",
    "    case 5:\n",
    "        print(\"목요일\")\n",
    "    case 6:\n",
    "        print(\"금요일\")\n",
    "    case 7:\n",
    "        print(\"토요일\")\n"
   ],
   "id": "5475fbdc3264d829"
  }
 ],
 "metadata": {
  "kernelspec": {
   "display_name": "Python 3",
   "language": "python",
   "name": "python3"
  },
  "language_info": {
   "codemirror_mode": {
    "name": "ipython",
    "version": 2
   },
   "file_extension": ".py",
   "mimetype": "text/x-python",
   "name": "python",
   "nbconvert_exporter": "python",
   "pygments_lexer": "ipython2",
   "version": "2.7.6"
  }
 },
 "nbformat": 4,
 "nbformat_minor": 5
}

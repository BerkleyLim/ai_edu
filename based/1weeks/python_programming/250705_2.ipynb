{
 "cells": [
  {
   "metadata": {},
   "cell_type": "markdown",
   "source": [
    "# 자료구조\n",
    "\n",
    "## 컬렉션 자료형 개념과 필요성\n",
    "1. 프로그래밍 할때 쓰이는 숫자, 문자열 등 자료 형태로 사용하는 모든것\n",
    "2. 변수 이용시 변수 하나에 값 하나만 저장\n",
    "3. 리스트, 튜플, 딕셔너리, 세트라는 컬렉션 자료형 사용\n",
    "\n",
    "- 리스트: []\n",
    "- 딕셔너리: {key:value}\n",
    "- 튜플: ()\n",
    "- 세트: {}\n",
    "\n",
    "\n",
    "### 리스트\n",
    "- 리스트 이용시 오직 하나의 변수 이용하여 여러개의 자료를 효율적으로 저장하고 처리\n",
    "- 리스트 중 number[-2], number[-1] 등 배열에 마이너스 붙히면 뒤에서부터 순차적으로 적용함\n",
    "- 읽고 쓰고 가능하다는 것이 특징(튜플은 읽기전용)"
   ],
   "id": "21026fe69772b4a0"
  },
  {
   "cell_type": "code",
   "id": "initial_id",
   "metadata": {
    "collapsed": true,
    "ExecuteTime": {
     "end_time": "2025-07-05T06:46:59.033345Z",
     "start_time": "2025-07-05T06:46:59.029332Z"
    }
   },
   "source": [
    "# 리스트생성\n",
    "fruits = [\"apple\", \"banana\", \"cherry\"]\n",
    "numbers = [1, 2, 3, 4, 5]\n",
    "mixed = [1, \"hello\", 3.5, True] # 다양하게 사용 가능\n",
    "\n",
    "# 리스트 출력\n",
    "print(fruits)   # ['apple', 'banana', 'cherry']\n",
    "print(numbers[0]) # 첫 번째 요소 접근 (index 0)\n",
    "print(fruits[-1]) # 마지막 요소 접근 (-1 인덱스)\n"
   ],
   "outputs": [
    {
     "name": "stdout",
     "output_type": "stream",
     "text": [
      "['apple', 'banana', 'cherry']\n",
      "1\n",
      "cherry\n"
     ]
    }
   ],
   "execution_count": 17
  },
  {
   "metadata": {
    "ExecuteTime": {
     "end_time": "2025-07-05T06:54:26.603239Z",
     "start_time": "2025-07-05T06:54:26.599025Z"
    }
   },
   "cell_type": "code",
   "source": [
    "# 리스트 응용2 (인덱싱, 슬라이싱(Slicing))\n",
    "\n",
    "# 리스트 생성\n",
    "fruits = [\"apple\", \"banana\", \"cherry\", \"date\", \"elderberry\"]\n",
    "\n",
    "# 양수 인덱스로 접근 (0부터 시작)\n",
    "print(fruits[0]) # apple\n",
    "print(fruits[2]) # cherry\n",
    "print(fruits[4]) # elderberry\n",
    "\n",
    "# 음수 인덱스로 접근 (뒤에서 부터)\n",
    "print(fruits[-1]) # elderberry\n",
    "print(fruits[-3]) # cherry\n"
   ],
   "id": "a949bdd1022f3417",
   "outputs": [
    {
     "name": "stdout",
     "output_type": "stream",
     "text": [
      "apple\n",
      "cherry\n",
      "elderberry\n",
      "elderberry\n",
      "cherry\n"
     ]
    }
   ],
   "execution_count": 19
  },
  {
   "metadata": {},
   "cell_type": "markdown",
   "source": [
    "### 리스트 슬라이싱 응용\n",
    "- 리스트 중 원하는 구간을 잘라서 선택적으로 뽑아냄\n",
    "- 이는 리스트를 변경하기 위해서도 사용 가능\n",
    "\n",
    "```python\n",
    "fruits = [\"apple\", \"banana\", \"cherry\", \"date\", \"elderberry\"]\n",
    "```\n",
    "\n",
    "- fruits가 5개의 배열이 주어질때\n",
    "\n",
    "```python\n",
    "print(fruits[1:3]) # 값: \"banana\", \"cherry\"\n",
    "```\n"
   ],
   "id": "cf1eae60e4a66f8"
  },
  {
   "metadata": {
    "ExecuteTime": {
     "end_time": "2025-07-05T06:57:52.174681Z",
     "start_time": "2025-07-05T06:57:52.168513Z"
    }
   },
   "cell_type": "code",
   "source": [
    "# 리스트 슬라이싱 응용1\n",
    "numbers = [10, 20, 30, 40, 50, 60, 70]\n",
    "\n",
    "print(numbers[1:4])  # [20, 30, 40] - 인덱스 1~3까지\n",
    "print(numbers[:4])   # [10, 20, 30] - 첨부터 2까지\n",
    "print(numbers[3:])   # [40, 50, 60, 70] - 인덱스 3번부터 끝까지\n",
    "print(numbers[:])   # [10, 20, 30, 40, 50, 60, 70] - 전체 리스트 복사"
   ],
   "id": "7792726fe86e04c0",
   "outputs": [
    {
     "name": "stdout",
     "output_type": "stream",
     "text": [
      "[20, 30, 40]\n"
     ]
    }
   ],
   "execution_count": 20
  },
  {
   "metadata": {
    "ExecuteTime": {
     "end_time": "2025-07-05T07:05:32.548715Z",
     "start_time": "2025-07-05T07:05:32.543831Z"
    }
   },
   "cell_type": "code",
   "source": [
    "# 리스트 슬라이싱 응용2\n",
    "number = [10, 20, 30, 40, 50]\n",
    "\n",
    "number[1:3] = [21, 31]  # 인덱스 1~2 번방 21, 31로 변경\n",
    "print(number)   # [10, 21, 31, 40, 50]\n",
    "\n",
    "number[:2] = [1, 2]  # 인덱스 0번방 = 1 / 1번방 = 2 로 변경\n",
    "print(number)   # [1, 2, 31, 40, 50]\n",
    "\n",
    "number[-2] = [99, 100] # 인덱스 마지막에서 2번째 (3번방 = 99), 마지막에서 1번째 (4번방 = 100)\n",
    "print(number)   # [1, 2, 31, 99, 100]"
   ],
   "id": "7238aa6ef258a827",
   "outputs": [
    {
     "name": "stdout",
     "output_type": "stream",
     "text": [
      "[10, 21, 31, 40, 50]\n",
      "[1, 2, 31, 40, 50]\n",
      "[1, 2, 31, [99, 100], 50]\n"
     ]
    }
   ],
   "execution_count": 23
  },
  {
   "metadata": {},
   "cell_type": "markdown",
   "source": [
    "### 🔹 리스트(list) 메서드 정리\n",
    "\n",
    "| 함수명             | 설명                                   | 사용법                                      |\n",
    "|-----------------|----------------------------------------|---------------------------------------------|\n",
    "| `append()`      | 리스트 마지막에 요소를 추가             | `리스트.append(값)`                         |\n",
    "| `insert()`      | 리스트의 해당 위치에 요소를 삽입        | `리스트.insert(위치, 값)`                   |\n",
    "| `sort()`        | 오름차순, 내림차순 정렬                | `리스트.sort()`<br>`리스트.sort(reverse=True)` |\n",
    "| `reverse()`     | 리스트를 거꾸로 정렬                    | `리스트.reverse()`                          |\n",
    "| `pop()`         | 리스트 마지막 요소를 빼내고 삭제        | `리스트.pop()`                              |\n",
    "| `pop(위치)`       | 리스트의 해당 위치 요소 제거            | `리스트.pop(위치)`                          |\n",
    "| `remove()`      | 해당 값을 찾아 삭제                     | `리스트.remove(삭제할 값)`                 |\n",
    "| `count()`       | 해당 요소의 개수를 반환                 | `리스트.count(찾을 값)`                     |\n",
    "| `index()`       | 해당 값의 위치 반환                     | `리스트.index(값)`                          |\n",
    "| `len()`         | 리스트 총 요소 개수 반환                | `len(리스트)`                               |\n"
   ],
   "id": "96c7e4a81730c5a6"
  },
  {
   "metadata": {},
   "cell_type": "markdown",
   "source": [
    "## 튜플(tuple)\n",
    "- 읽기 전용 (Java로 치면 VO (Record 클래스라고 보면 됨))\n",
    "- 한번 저장된 값은 수정 할 수 없고 요소를 실수로 변경하는 상황 방지\n",
    "\n",
    "- 표현식 예\n",
    "```python\n",
    "tuple_exam = ('a', 'b', 'c')\n",
    "```\n"
   ],
   "id": "90c0e62901d23d42"
  },
  {
   "metadata": {},
   "cell_type": "code",
   "outputs": [],
   "execution_count": null,
   "source": [
    "# 튜플 생성\n",
    "fruits = [\"apple\", \"banana\", \"cherry\", \"date\", \"elderberry\"]\n",
    "\n",
    "# 양수 인덱스\n",
    "print(fruits[0])   # apple\n",
    "print(fruits[2])   # cherry\n",
    "print(fruits[4])   # elderberry\n",
    "\n",
    "# 음수 인덱스\n",
    "print(fruits[-1])  # elderberry (마지막 요소)\n",
    "print(fruits[-3])  # cherry (뒤에서 3번재 요소)"
   ],
   "id": "8278ecd1b820053c"
  },
  {
   "metadata": {},
   "cell_type": "markdown",
   "source": [
    "## 딕셔너리(dictionary)\n",
    "\n",
    "- 파이썬 기준: 연관된 값 묶어서 저장하는 용도 (자료형 중 하나)\n",
    "- 순서 없는 컬렉션 자료형이고, key:value\n",
    "- 딕셔너리는 키-값 쌍의 자료 구조로, JSON 또는 자바스크립트 객체와 거의 동일한 구조이다."
   ],
   "id": "b7edfb1d4c08887a"
  },
  {
   "metadata": {
    "ExecuteTime": {
     "end_time": "2025-07-05T07:26:11.699603Z",
     "start_time": "2025-07-05T07:26:11.693407Z"
    }
   },
   "cell_type": "code",
   "source": [
    "# 빈 딕셔너리 생성 후 값 추가 (valina JS 와 동일)\n",
    "person = {}\n",
    "\n",
    "person[\"name\"] = \"Alice\"\n",
    "person[\"age\"] = 25\n",
    "person[\"city\"] = \"Seoul\"\n",
    "\n",
    "print(person)"
   ],
   "id": "1db84c928e82c26e",
   "outputs": [
    {
     "name": "stdout",
     "output_type": "stream",
     "text": [
      "{'name': 'Alice', 'age': 25, 'city': 'Seoul'}\n"
     ]
    }
   ],
   "execution_count": 24
  },
  {
   "metadata": {
    "ExecuteTime": {
     "end_time": "2025-07-05T07:26:55.881886Z",
     "start_time": "2025-07-05T07:26:55.878181Z"
    }
   },
   "cell_type": "code",
   "source": [
    "# 딕셔너리 생성\n",
    "person = {\"name\": \"Alice\", \"age\": 25, \"city\": \"Seoul\"}\n",
    "\n",
    "person[\"name\"] = \"Alice\"\n",
    "person[\"age\"] = 25\n",
    "person[\"city\"] = \"Seoul\"\n",
    "\n",
    "print(person)"
   ],
   "id": "f09d132df72508c3",
   "outputs": [
    {
     "name": "stdout",
     "output_type": "stream",
     "text": [
      "{'name': 'Alice', 'age': 25, 'city': 'Seoul'}\n"
     ]
    }
   ],
   "execution_count": 25
  },
  {
   "metadata": {},
   "cell_type": "markdown",
   "source": [
    "### 🔹 딕셔너리(dictionary) 주요 함수 정리\n",
    "\n",
    "| 함수명      | 설명                              | 사용법                          |\n",
    "|-------------|-----------------------------------|---------------------------------|\n",
    "| `get()`     | 항목 접근하기                     | `딕셔너리.get(key)`             |\n",
    "| `pop()`     | 항목 꺼내고 삭제하기              | `딕셔너리.pop(key)`             |\n",
    "| `del()`     | 항목 삭제하기                     | `del(딕셔너리[key])`            |\n",
    "| `items()`   | 저장된 모든 키와 값 반환          | `딕셔너리.items()`              |\n",
    "| `keys()`    | 저장된 모든 키 반환               | `딕셔너리.keys()`               |\n",
    "| `values()`  | 저장된 모든 값 반환               | `딕셔너리.values()`             |\n"
   ],
   "id": "9204e5ee9b8163c9"
  },
  {
   "metadata": {},
   "cell_type": "markdown",
   "source": [
    "## 세트(Set)\n",
    "- 중복제거형 집합\n",
    "- 순서가 존재하지 않아 indexing 값 얻을 수 없음\n",
    "- 빠른 검색을 위해 사용\n",
    "\n",
    "### 사용 예시\n",
    "```python\n",
    "set_example = {1, 4, 6, 7}\n",
    "```"
   ],
   "id": "7caae0ae71f70bc7"
  },
  {
   "metadata": {
    "ExecuteTime": {
     "end_time": "2025-07-05T07:31:27.290581Z",
     "start_time": "2025-07-05T07:31:27.286416Z"
    }
   },
   "cell_type": "code",
   "source": [
    "# Set 사용 예시\n",
    "# 1. 중괄호 '{}'를 사용하여 세트 생성\n",
    "numbers_a = {5, 10, 15}\n",
    "print(numbers_a) # {5, 10, 15}\n",
    "\n",
    "# 2. 'set()' 생성자를 사용하여 리스트를 세트로 변환\n",
    "number_b = set([5, 10, 15])\n",
    "print(number_b)    # {5, 10, 15}\n",
    "\n",
    "# 3. 중복된 요소가 포함된 세트 생성 (자동으로 중복 제거)\n",
    "number_c = {5, 10, 15, 10, 5}\n",
    "print(number_c)     # {5, 10, 15}"
   ],
   "id": "64623192e5ddd2d3",
   "outputs": [
    {
     "name": "stdout",
     "output_type": "stream",
     "text": [
      "{10, 5, 15}\n",
      "{10, 5, 15}\n",
      "{10, 5, 15}\n"
     ]
    }
   ],
   "execution_count": 28
  },
  {
   "metadata": {
    "ExecuteTime": {
     "end_time": "2025-07-05T07:33:22.280397Z",
     "start_time": "2025-07-05T07:33:22.275658Z"
    }
   },
   "cell_type": "code",
   "source": [
    "# Set 사용 예제2 - 합집합\n",
    "A = {1, 2, 3, 4}\n",
    "B = {3, 4, 5, 6}\n",
    "\n",
    "# '|' 연산자 사용\n",
    "union_set = A | B\n",
    "print(union_set)  # {1, 2, 3, 4, 5, 6}\n",
    "\n",
    "# 'union()' 메서드 사용\n",
    "union_set_method = A.union(B)\n",
    "print(union_set_method) # {1, 2, 3, 4, 5, 6}"
   ],
   "id": "c3a30518ae3b3d1",
   "outputs": [
    {
     "name": "stdout",
     "output_type": "stream",
     "text": [
      "{1, 2, 3, 4, 5, 6}\n",
      "{1, 2, 3, 4, 5, 6}\n"
     ]
    }
   ],
   "execution_count": 29
  },
  {
   "metadata": {
    "ExecuteTime": {
     "end_time": "2025-07-05T07:34:14.592404Z",
     "start_time": "2025-07-05T07:34:14.585250Z"
    }
   },
   "cell_type": "code",
   "source": [
    "# Set 사용 예제3 - 교집합\n",
    "A = {1, 2, 3, 4}\n",
    "B = {3, 4, 5, 6}\n",
    "\n",
    "# '&' 연산자 사용\n",
    "intersection_set = A & B\n",
    "print(intersection_set)  # {3, 4}\n",
    "\n",
    "# 'intersection()' 메서드 사용\n",
    "intersection_set_method = A.intersection(B)\n",
    "print(intersection_set_method) # {3, 4}"
   ],
   "id": "d67813f4b8bd4d7b",
   "outputs": [
    {
     "name": "stdout",
     "output_type": "stream",
     "text": [
      "{3, 4}\n",
      "{3, 4}\n"
     ]
    }
   ],
   "execution_count": 30
  },
  {
   "metadata": {
    "ExecuteTime": {
     "end_time": "2025-07-05T07:36:57.099533Z",
     "start_time": "2025-07-05T07:36:57.090980Z"
    }
   },
   "cell_type": "code",
   "source": [
    "# Set 사용 예제4 - 차집합\n",
    "A = {1, 2, 3, 4}\n",
    "B = {3, 4, 5, 6}\n",
    "\n",
    "# '-' 연산자 사용\n",
    "difference_set = A - B\n",
    "print(difference_set)  # {1, 2}\n",
    "\n",
    "# 'difference()' 메서드 사용\n",
    "difference_set_method = A.difference(B)\n",
    "print(difference_set_method) # {1, 2}\n",
    "\n",
    "# 반대로 B에서 A의 요소를 제거\n",
    "difference_set_BA = B - A\n",
    "print(difference_set_BA) # {5, 6}"
   ],
   "id": "415d287f53c883d5",
   "outputs": [
    {
     "name": "stdout",
     "output_type": "stream",
     "text": [
      "{1, 2}\n",
      "{1, 2}\n",
      "{5, 6}\n"
     ]
    }
   ],
   "execution_count": 33
  },
  {
   "metadata": {},
   "cell_type": "markdown",
   "source": [
    "### 🔹 세트(set) 주요 함수 정리\n",
    "\n",
    "| 함수명        | 설명        | 사용법            |\n",
    "|------------|-----------|----------------|\n",
    "| `add()`    | 값 1개 추가   | `세트.add(값)`    |\n",
    "| `update()` | 값 여러 개 추가 | `세트.update(값)` |\n",
    "| `remove()` | 특정 값 삭제   | `세트.remove(값)` |"
   ],
   "id": "d499e7be05ab8369"
  },
  {
   "metadata": {},
   "cell_type": "markdown",
   "source": [
    "## 리스트 컴프리 헨션\n",
    "1. 원하는 자료들을 조회 or 추출하여 리스트로 변환하는 표현식\n",
    "2. 짧고 간결한 문법 사용하여 기존의 for문을 이용한 리스트 생성방식보다 가독성 up\n",
    "3. 조건식 이용하여 같은 연산을 전체 항목 or 일부 항목에 적용 가능\n",
    "4. 항목들을 대문자 or 소문자로 바꾸는 작업 처리 활용 가능"
   ],
   "id": "bd780762188f5dfa"
  },
  {
   "metadata": {
    "ExecuteTime": {
     "end_time": "2025-07-05T07:42:24.961358Z",
     "start_time": "2025-07-05T07:42:24.955138Z"
    }
   },
   "cell_type": "code",
   "source": [
    "# 기존 for 문 이용한 리스트 생성\n",
    "numbers = []\n",
    "for i in range(5):\n",
    "    numbers.append(i)\n",
    "\n",
    "print(numbers) # [0, 1, 2, 3, 4]\n",
    "\n",
    "# 리스트 컴프리핸션을 사용한 동일 코드\n",
    "numbers = [i for i in range(5)]\n",
    "print(numbers)  # [0, 1, 2, 3, 4]"
   ],
   "id": "6bc47786190e07dc",
   "outputs": [
    {
     "name": "stdout",
     "output_type": "stream",
     "text": [
      "[0, 1, 2, 3, 4]\n",
      "[0, 1, 2, 3, 4]\n"
     ]
    }
   ],
   "execution_count": 34
  },
  {
   "metadata": {
    "ExecuteTime": {
     "end_time": "2025-07-05T07:43:31.960508Z",
     "start_time": "2025-07-05T07:43:31.957390Z"
    }
   },
   "cell_type": "code",
   "source": [
    "# 짝수만 포함한 리스트 생성\n",
    "even_numbers = [i for i in range(10) if i % 2 == 0]\n",
    "print(even_numbers)  # [0, 2, 4, 6, 8]\n",
    "\n",
    "# 3의 배수만 포함하는 리스트 생성\n",
    "multiples_of_3 = [i for i in range(20) if i % 3 == 0]\n",
    "print(multiples_of_3)"
   ],
   "id": "c68e390d7d5275f7",
   "outputs": [
    {
     "name": "stdout",
     "output_type": "stream",
     "text": [
      "[0, 2, 4, 6, 8]\n",
      "[0, 3, 6, 9, 12, 15, 18]\n"
     ]
    }
   ],
   "execution_count": 37
  }
 ],
 "metadata": {
  "kernelspec": {
   "display_name": "Python 3",
   "language": "python",
   "name": "python3"
  },
  "language_info": {
   "codemirror_mode": {
    "name": "ipython",
    "version": 2
   },
   "file_extension": ".py",
   "mimetype": "text/x-python",
   "name": "python",
   "nbconvert_exporter": "python",
   "pygments_lexer": "ipython2",
   "version": "2.7.6"
  }
 },
 "nbformat": 4,
 "nbformat_minor": 5
}

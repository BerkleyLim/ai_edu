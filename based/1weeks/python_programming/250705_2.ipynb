{
 "cells": [
  {
   "metadata": {},
   "cell_type": "markdown",
   "source": [
    "# 자료구조\n",
    "\n",
    "## 컬렉션 자료형 개념과 필요성\n",
    "1. 프로그래밍 할때 쓰이는 숫자, 문자열 등 자료 형태로 사용하는 모든것\n",
    "2. 변수 이용시 변수 하나에 값 하나만 저장\n",
    "3. 리스트, 튜플, 딕셔너리, 세트라는 컬렉션 자료형 사용\n",
    "\n",
    "- 리스트: []\n",
    "- 딕셔너리: {key:value}\n",
    "- 튜플: ()\n",
    "- 세트: {}\n",
    "\n",
    "\n",
    "### 리스트\n",
    "- 리스트 이용시 오직 하나의 변수 이용하여 여러개의 자료를 효율적으로 저장하고 처리\n",
    "- 리스트 중 number[-2], number[-1] 등 배열에 마이너스 붙히면 뒤에서부터 순차적으로 적용함"
   ],
   "id": "21026fe69772b4a0"
  },
  {
   "cell_type": "code",
   "id": "initial_id",
   "metadata": {
    "collapsed": true,
    "ExecuteTime": {
     "end_time": "2025-07-05T06:46:59.033345Z",
     "start_time": "2025-07-05T06:46:59.029332Z"
    }
   },
   "source": [
    "# 리스트생성\n",
    "fruits = [\"apple\", \"banana\", \"cherry\"]\n",
    "numbers = [1, 2, 3, 4, 5]\n",
    "mixed = [1, \"hello\", 3.5, True] # 다양하게 사용 가능\n",
    "\n",
    "# 리스트 출력\n",
    "print(fruits)   # ['apple', 'banana', 'cherry']\n",
    "print(numbers[0]) # 첫 번째 요소 접근 (index 0)\n",
    "print(fruits[-1]) # 마지막 요소 접근 (-1 인덱스)\n"
   ],
   "outputs": [
    {
     "name": "stdout",
     "output_type": "stream",
     "text": [
      "['apple', 'banana', 'cherry']\n",
      "1\n",
      "cherry\n"
     ]
    }
   ],
   "execution_count": 17
  },
  {
   "metadata": {
    "ExecuteTime": {
     "end_time": "2025-07-05T06:54:26.603239Z",
     "start_time": "2025-07-05T06:54:26.599025Z"
    }
   },
   "cell_type": "code",
   "source": [
    "# 리스트 응용2 (인덱싱, 슬라이싱(Slicing))\n",
    "\n",
    "# 리스트 생성\n",
    "fruits = [\"apple\", \"banana\", \"cherry\", \"date\", \"elderberry\"]\n",
    "\n",
    "# 양수 인덱스로 접근 (0부터 시작)\n",
    "print(fruits[0]) # apple\n",
    "print(fruits[2]) # cherry\n",
    "print(fruits[4]) # elderberry\n",
    "\n",
    "# 음수 인덱스로 접근 (뒤에서 부터)\n",
    "print(fruits[-1]) # elderberry\n",
    "print(fruits[-3]) # cherry\n"
   ],
   "id": "a949bdd1022f3417",
   "outputs": [
    {
     "name": "stdout",
     "output_type": "stream",
     "text": [
      "apple\n",
      "cherry\n",
      "elderberry\n",
      "elderberry\n",
      "cherry\n"
     ]
    }
   ],
   "execution_count": 19
  },
  {
   "metadata": {},
   "cell_type": "markdown",
   "source": [
    "### 리스트 슬라이싱 응용\n",
    "- 리스트 중 원하는 구간을 잘라서 선택적으로 뽑아냄\n",
    "- 이는 리스트를 변경하기 위해서도 사용 가능\n",
    "\n",
    "```python\n",
    "fruits = [\"apple\", \"banana\", \"cherry\", \"date\", \"elderberry\"]\n",
    "```\n",
    "\n",
    "- fruits가 5개의 배열이 주어질때\n",
    "\n",
    "```python\n",
    "print(fruits[1:3]) # 값: \"banana\", \"cherry\"\n",
    "```\n"
   ],
   "id": "cf1eae60e4a66f8"
  },
  {
   "metadata": {
    "ExecuteTime": {
     "end_time": "2025-07-05T06:57:52.174681Z",
     "start_time": "2025-07-05T06:57:52.168513Z"
    }
   },
   "cell_type": "code",
   "source": [
    "# 리스트 슬라이싱 응용1\n",
    "numbers = [10, 20, 30, 40, 50, 60, 70]\n",
    "\n",
    "print(numbers[1:4])  # [20, 30, 40] - 인덱스 1~3까지\n",
    "print(numbers[:4])   # [10, 20, 30] - 첨부터 2까지\n",
    "print(numbers[3:])   # [40, 50, 60, 70] - 인덱스 3번부터 끝까지\n",
    "print(numbers[:])   # [10, 20, 30, 40, 50, 60, 70] - 전체 리스트 복사"
   ],
   "id": "7792726fe86e04c0",
   "outputs": [
    {
     "name": "stdout",
     "output_type": "stream",
     "text": [
      "[20, 30, 40]\n"
     ]
    }
   ],
   "execution_count": 20
  },
  {
   "metadata": {
    "ExecuteTime": {
     "end_time": "2025-07-05T07:05:32.548715Z",
     "start_time": "2025-07-05T07:05:32.543831Z"
    }
   },
   "cell_type": "code",
   "source": [
    "# 리스트 슬라이싱 응용2\n",
    "number = [10, 20, 30, 40, 50]\n",
    "\n",
    "number[1:3] = [21, 31]  # 인덱스 1~2 번방 21, 31로 변경\n",
    "print(number)   # [10, 21, 31, 40, 50]\n",
    "\n",
    "number[:2] = [1, 2]  # 인덱스 0번방 = 1 / 1번방 = 2 로 변경\n",
    "print(number)   # [1, 2, 31, 40, 50]\n",
    "\n",
    "number[-2] = [99, 100] # 인덱스 마지막에서 2번째 (3번방 = 99), 마지막에서 1번째 (4번방 = 100)\n",
    "print(number)   # [1, 2, 31, 99, 100]"
   ],
   "id": "7238aa6ef258a827",
   "outputs": [
    {
     "name": "stdout",
     "output_type": "stream",
     "text": [
      "[10, 21, 31, 40, 50]\n",
      "[1, 2, 31, 40, 50]\n",
      "[1, 2, 31, [99, 100], 50]\n"
     ]
    }
   ],
   "execution_count": 23
  },
  {
   "metadata": {},
   "cell_type": "markdown",
   "source": [
    "### 🔹 리스트(list) 메서드 정리\n",
    "\n",
    "| 함수명         | 설명                                   | 사용법                                      |\n",
    "|----------------|----------------------------------------|---------------------------------------------|\n",
    "| `append()`     | 리스트 마지막에 요소를 추가             | `리스트.append(값)`                         |\n",
    "| `insert()`     | 리스트의 해당 위치에 요소를 삽입        | `리스트.insert(위치, 값)`                   |\n",
    "| `sort()`       | 오름차순, 내림차순 정렬                | `리스트.sort()`<br>`리스트.sort(reverse=True)` |\n",
    "| `reverse()`    | 리스트를 거꾸로 정렬                    | `리스트.reverse()`                          |\n",
    "| `pop()`        | 리스트 마지막 요소를 빼내고 삭제        | `리스트.pop()`                              |\n",
    "| `pop(위치)`    | 리스트의 해당 위치 요소 제거            | `리스트.pop(위치)`                          |\n",
    "| `remove()`     | 해당 값을 찾아 삭제                     | `리스트.remove(삭제할 값)`                 |\n",
    "| `count()`      | 해당 요소의 개수를 반환                 | `리스트.count(찾을 값)`                     |\n",
    "| `index()`      | 해당 값의 위치 반환                     | `리스트.index(값)`                          |\n",
    "| `len()`        | 리스트 총 요소 개수 반환                | `len(리스트)`                               |\n"
   ],
   "id": "96c7e4a81730c5a6"
  }
 ],
 "metadata": {
  "kernelspec": {
   "display_name": "Python 3",
   "language": "python",
   "name": "python3"
  },
  "language_info": {
   "codemirror_mode": {
    "name": "ipython",
    "version": 2
   },
   "file_extension": ".py",
   "mimetype": "text/x-python",
   "name": "python",
   "nbconvert_exporter": "python",
   "pygments_lexer": "ipython2",
   "version": "2.7.6"
  }
 },
 "nbformat": 4,
 "nbformat_minor": 5
}

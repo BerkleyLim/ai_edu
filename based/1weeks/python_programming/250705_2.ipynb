{
 "cells": [
  {
   "metadata": {},
   "cell_type": "markdown",
   "source": [
    "# 파이썬 기초\n",
    "\n",
    "## 딥러닝 사용 방법\n",
    "- 코랩(Colab), 아나콘다(Anaconda)\n",
    "- 코랩 사용 (개발용)\n",
    "- Jupyter Notebook 사용시 말 그대로 Anaconda로 생각하기"
   ],
   "id": "eb954ab8f8fd71b1"
  },
  {
   "cell_type": "code",
   "execution_count": null,
   "id": "initial_id",
   "metadata": {
    "collapsed": true
   },
   "outputs": [],
   "source": [
    ""
   ]
  }
 ],
 "metadata": {
  "kernelspec": {
   "display_name": "Python 3",
   "language": "python",
   "name": "python3"
  },
  "language_info": {
   "codemirror_mode": {
    "name": "ipython",
    "version": 2
   },
   "file_extension": ".py",
   "mimetype": "text/x-python",
   "name": "python",
   "nbconvert_exporter": "python",
   "pygments_lexer": "ipython2",
   "version": "2.7.6"
  }
 },
 "nbformat": 4,
 "nbformat_minor": 5
}

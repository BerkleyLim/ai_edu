{
 "cells": [
  {
   "metadata": {},
   "cell_type": "markdown",
   "source": [
    "# 파이썬 기초\n",
    "\n",
    "## 딥러닝 사용 방법\n",
    "- 코랩(Colab), 아나콘다(Anaconda)\n",
    "- 코랩 사용 (개발용)\n",
    "- Jupyter Notebook 사용시 말 그대로 Anaconda로 생각하기\n",
    "\n",
    "\n",
    "### 예제 입력\n"
   ],
   "id": "f4ac91990f73dfb4"
  },
  {
   "metadata": {
    "ExecuteTime": {
     "end_time": "2025-07-05T05:41:10.871077Z",
     "start_time": "2025-07-05T05:41:10.867700Z"
    }
   },
   "cell_type": "code",
   "source": "print(\"Hello, Sungkyunkwan!\")",
   "id": "14d9556fb4f44c8",
   "outputs": [
    {
     "name": "stdout",
     "output_type": "stream",
     "text": [
      "Hello, Sungkyunkwan!\n"
     ]
    }
   ],
   "execution_count": 1
  },
  {
   "metadata": {},
   "cell_type": "markdown",
   "source": [
    "## 딥러닝에 필요 라이브러리\n",
    "\n",
    "- tensorflow 라이브러리 필수\n"
   ],
   "id": "f6421f7f08134299"
  },
  {
   "metadata": {
    "ExecuteTime": {
     "end_time": "2025-07-05T05:45:18.657064Z",
     "start_time": "2025-07-05T05:44:57.464016Z"
    }
   },
   "cell_type": "code",
   "source": [
    "import tensorflow as tf\n",
    "print(tf.__version__)"
   ],
   "id": "a7cc004e81f1ed78",
   "outputs": [
    {
     "name": "stdout",
     "output_type": "stream",
     "text": [
      "2.18.0\n"
     ]
    }
   ],
   "execution_count": 2
  },
  {
   "metadata": {},
   "cell_type": "markdown",
   "source": [
    "## 변수\n",
    "- 데이터 값 저장하는 공간\n",
    "\n",
    "### 파이션 변수 특징\n",
    "1. 동적 타이핑 (Dynamic Typing)\n",
    "2. 데이터의 종류(정수, 실수, 문자열 등) 미리 선언 안함\n",
    "\n",
    "\n",
    "```python\n",
    "a = 10     # a는 정수형(int)로 자동 설정\n",
    "a = \"hello\"   # 같은 변수 a에 문자열(str) 할당해도 에러 발생 안함\n",
    "```\n",
    "\n",
    "3. 한 번 만든 변수의 데이터 타입은 나중에 다른 값으로 바뀔 수 있음\n",
    "4. 재 할당 가능 (Mutable vs Immutable)\n",
    "5. 변수에 새로운 값 할당 시 이전 값은 덮어 쓰여짐\n",
    "\n",
    "```python\n",
    "x = 5 # x에 5라는 값 저장\n",
    "x = 10 # x에 10이라는 새로운 값 저장 (이제 5는 더이상 x에 저장 안함)\n",
    "```\n",
    "\n",
    "6. 런타임 타입 검사\n",
    "7. 파이썬에서는 변수 타입 검사 시점: 프로그램 실행 하는 도중 (런타임)\n",
    "8. 빠른 코드 작성 가능, 타입 변경되어 의도치 않은 결과 발생할 수 있음 주의 필요\n",
    "\n",
    "### 파이썬 변수 생성 규칙\n",
    "\n",
    "```python\n",
    "age = 25 # 숫자 값 변수 할당\n",
    "\n",
    "name = \"Alice\" # 문자열 값 변수 할당\n",
    "\n",
    "height = 170.5  # 실수 값 변수에 할당\n",
    "\n",
    "is_student = True # 불리언 값 변수에 할당\n",
    "```\n",
    "\n",
    "#### 주의사항\n",
    "1. 예약어로 변수명 X\n",
    "2. 대소문자 구분\n",
    "3. 첫 글자는 문자(알파벳), 밑줄(_)\n",
    "\n",
    "\n",
    "## 변수 사용 실 예시"
   ],
   "id": "9d693ea48b0bee0a"
  },
  {
   "metadata": {
    "ExecuteTime": {
     "end_time": "2025-07-05T05:56:17.190896Z",
     "start_time": "2025-07-05T05:56:17.182047Z"
    }
   },
   "cell_type": "code",
   "source": [
    "first_name = \"John\"\n",
    "last_name = \"Doe\"\n",
    "full_name = first_name + \" \" + last_name\n",
    "\n",
    "print(\"전체 이름 : \", full_name)\n",
    "\n",
    "\n",
    "\n",
    "\n",
    "\n",
    "\n",
    "# 올바른 변수명\n",
    "student_age = 20     # 숫자를 저장하는 변수\n",
    "student_name = \"Bob\"  # 문자열들 저장하는 변수\n",
    "_is_active = True    # 불리언 값을 저장하는 변수\n",
    "print(student_age)   # 출력 : 20\n",
    "print(student_name)  # 출력 : Bob\n",
    "print(_is_active)    # 출력 : True\n",
    "\n",
    "# 잘못된 변수명 (에러 발생 예시 - 주석으로 표시)\n",
    "# 1st_student_name = \"Alice\" # 숫자로 시작하면 안됨\n",
    "# student_name = \"John\"     # 공백 포함 불가\n",
    "# if = 10                 # 예약어는 변수명으로 사용 불가"
   ],
   "id": "a0bb1afbdc3fc1f1",
   "outputs": [
    {
     "name": "stdout",
     "output_type": "stream",
     "text": [
      "전체 이름 :  John Doe\n",
      "20\n",
      "Bob\n",
      "True\n"
     ]
    }
   ],
   "execution_count": 4
  },
  {
   "metadata": {},
   "cell_type": "markdown",
   "source": [
    "## 연산자\n",
    "- 프로그래밍에서 데이터 간 연산 및 처리 수행하는 기호 or 키워드\n",
    "\n",
    "### 산출 연산자\n",
    "1. 덧셈: +\n",
    "2. 뺄셈: -\n",
    "3. 곱셈: *\n",
    "4. 나눗셈: /\n",
    "5. 정수 나눗셈: //\n",
    "6. 나머지: %\n",
    "7. 거듭제곱: **"
   ],
   "id": "83b5ecda5b3f22df"
  },
  {
   "metadata": {
    "ExecuteTime": {
     "end_time": "2025-07-05T05:59:47.157435Z",
     "start_time": "2025-07-05T05:59:47.151678Z"
    }
   },
   "cell_type": "code",
   "source": [
    "# 산술연산자 예시\n",
    "a = 10\n",
    "b = 3\n",
    "print(\"덧셈: \", a + b)  # 13\n",
    "print(\"뺄셈: \", a - b)  # 3\n",
    "print(\"곱셈: \", a * b)  # 30\n",
    "print(\"나눗셈: \", a / b)  # 3.33333\n",
    "print(\"정수 나눗셈: \", a // b)  # 3\n",
    "print(\"나머지: \", a % b)  # 1\n",
    "print(\"거듭제곱급: \", a ** b)  # 10의 3제곱 : 1000"
   ],
   "id": "41c0f0ec48ab1760",
   "outputs": [
    {
     "name": "stdout",
     "output_type": "stream",
     "text": [
      "덧셈:  13\n",
      "뺄셈:  7\n",
      "곱셈:  30\n",
      "나눗셈:  3.3333333333333335\n",
      "정수 나눗셈:  3\n",
      "나머지:  1\n",
      "거듭제곱급:  1000\n"
     ]
    }
   ],
   "execution_count": 5
  },
  {
   "metadata": {},
   "cell_type": "markdown",
   "source": [
    "### 대입 연산자\n",
    "- 변수의 값을 저장할때 사용\n",
    "\n",
    "1. 기본 대입: =\n",
    "2. 복합 대입\n",
    "    - += : 변수 오른쪽 값 더한 후 할당\n",
    "    - -= : 변수 왼쪽 값 더한 후 할당\n",
    "    - *= : 변수 오른쪽 값 곱한 후할당\n",
    "    - /- : 변수 오른쪽 값 나눈 후 할당\n",
    "    - //= : 정수 나눈셈 후 할당\n",
    "    - %= : 나머지 연산 후 할당\n",
    "    - **= : 거듭제곱 후 연산"
   ],
   "id": "4a82589dadf97483"
  },
  {
   "metadata": {
    "ExecuteTime": {
     "end_time": "2025-07-05T06:31:43.379672Z",
     "start_time": "2025-07-05T06:31:43.372779Z"
    }
   },
   "cell_type": "code",
   "source": [
    "# 대입연산자 실습\n",
    "x = 10   # x 에 10 할당\n",
    "print(\"초기 x:\", x)  # 출력 10\n",
    "x += 5   # x = x + 5\n",
    "print (\"x += 5: \", x) # 15\n",
    "x -= 3  # x = x - 3\n",
    "print (\"x -= 3: \", x) # 12\n",
    "x *= 2   # x = x * 2\n",
    "print (\"x *= 2: \", x) # 24\n",
    "x /= 4\n",
    "print (\"x /= 4: \", x) # 6.0\n",
    "x //= 2\n",
    "print (\"x //= 2: \", x) # 3.0\n",
    "x %= 2\n",
    "print (\"x %= 2: \", x) # 1.0\n",
    "x **= 3\n",
    "print (\"x **= 3: \", x) # 1.0"
   ],
   "id": "4d00654ef4593671",
   "outputs": [
    {
     "name": "stdout",
     "output_type": "stream",
     "text": [
      "초기 x: 10\n",
      "x += 5:  15\n",
      "x -= 3:  12\n",
      "x *= 2:  24\n"
     ]
    }
   ],
   "execution_count": 15
  },
  {
   "metadata": {},
   "cell_type": "markdown",
   "source": [
    "### 비교연산자\n",
    "- 두 값 or 표현식을 비교하여 결과를 boolean값 return\n",
    "\n",
    "1. 동등비교: ==\n",
    "2. 부등 비교: !=\n",
    "3. 크다/작자 비교: > , <\n",
    "4. 크거나 같다 / 작거나 같다: >=, <=\n"
   ],
   "id": "f00cd10ecf1a6b74"
  },
  {
   "metadata": {},
   "cell_type": "code",
   "outputs": [],
   "execution_count": null,
   "source": [
    "# 비교연산자\n",
    "a = 10\n",
    "b = 20\n",
    "print(\"a == b :\", a == b) # False (10은 20과 같지 않음)\n",
    "print(\"a != b :\", a != b) # True (10은 20과 다름)\n",
    "print(\"a < b :\", a < b) # True (10은 20보다 작음)\n",
    "print(\"a > b:\", a > b) # False (10은 20보다 크지 않음)\n",
    "print(\"a <= 10 :\", a <= 10) # True (10은 10보다 작거나 같음)\n",
    "print(\"b >= 15 :\", b >= 15)  # True (20은 15보다 크거나 같음)\n"
   ],
   "id": "770a5112b3874b56"
  },
  {
   "metadata": {},
   "cell_type": "markdown",
   "source": [
    "### 논리연산자\n",
    "- 불리언 값 결합 후 복합적 조건 구성\n",
    "\n",
    "1. and : 모든 조건 True 일때 true\n",
    "2. or : 하나라도 true 일때 true\n",
    "3. not : 조건의 반대를 반환 (true 일때 false, false 일때 true)"
   ],
   "id": "c13e077ae989111d"
  },
  {
   "metadata": {
    "ExecuteTime": {
     "end_time": "2025-07-05T06:06:27.848063Z",
     "start_time": "2025-07-05T06:06:27.840114Z"
    }
   },
   "cell_type": "code",
   "source": [
    "# 논리 연산자\n",
    "\n",
    "a = True\n",
    "b = False\n",
    "\n",
    "print(\"a and b : \", a and b)\n",
    "print(\"a or b : \", a or b)\n",
    "print(\"not a : \", not a)\n",
    "\n",
    "\n",
    "# 복합 조건 예시\n",
    "x = 15\n",
    "print(\"15는 10보다 크고 20보다 작다\", (x > 10) and (x < 20))\n",
    "print(\"15는 10보다 크거나 5보다 작다\", (x > 10) and (x < 5))\n"
   ],
   "id": "a6085daa0335c435",
   "outputs": [
    {
     "name": "stdout",
     "output_type": "stream",
     "text": [
      "a and b :  False\n",
      "a or b :  True\n",
      "not a :  False\n",
      "15는 10보다 크고 20보다 작다 True\n",
      "15는 10보다 크거나 5보다 작다 False\n"
     ]
    }
   ],
   "execution_count": 7
  },
  {
   "metadata": {},
   "cell_type": "markdown",
   "source": [
    "### 문자열 연산자 (String Operators)\n",
    "- 문자열 데이터 처리 or 결합\n",
    "\n",
    "1. 덧셈(+) : 문자열 연결(Concatenation)\n",
    "2. 곱셈(*) : 문자열 반복\n"
   ],
   "id": "f4fa6d89e705bf91"
  },
  {
   "metadata": {
    "ExecuteTime": {
     "end_time": "2025-07-05T06:09:24.140640Z",
     "start_time": "2025-07-05T06:09:24.135182Z"
    }
   },
   "cell_type": "code",
   "source": [
    "# 문자열 연결 예시\n",
    "greeting = \"Hello\"\n",
    "name = \"Alice\"\n",
    "message = greeting + \" \" + name    # 공백을 넣고 연결\n",
    "print(message)                      # 출력 : Hello Alice\n",
    "\n",
    "# 문자열 반복 예시\n",
    "repeat_word = \"Python! \"\n",
    "print(\"반복된 문자열 : \", repeat_word * 3)\n",
    "# 출력: Python! Python! Python!\n",
    "\n",
    "# 다른 산출연산자들은 문자열에 사용 불가\n",
    "# 예: \"Heool\" - \"H와 같은 연산은 오류를 발생시킵니다.\""
   ],
   "id": "43f99a9323cc8630",
   "outputs": [
    {
     "name": "stdout",
     "output_type": "stream",
     "text": [
      "Hello Alice\n",
      "반복된 문자열 :  Python! Python! Python! \n"
     ]
    }
   ],
   "execution_count": 8
  },
  {
   "metadata": {},
   "cell_type": "markdown",
   "source": [
    "## 연산자 우선순위\n",
    "- 거듭제곱(**) > 곱셈(*)\n",
    "- 필요시 괄호 () 사용하여 연산 우선순위 조절 가능"
   ],
   "id": "6eac3728d4b918c1"
  },
  {
   "metadata": {},
   "cell_type": "code",
   "outputs": [],
   "execution_count": null,
   "source": "# 연산자 우선순위",
   "id": "2bc0ab391793f58f"
  },
  {
   "metadata": {},
   "cell_type": "markdown",
   "source": [
    "## 표준 입출력\n",
    "1. 표준 입력(Standard Input): 프로그램이 데이터를 입력받는 기본 채널, 키보드를 통해 사용자가 입력하는 값\n",
    "    - input() 함수 사용\n",
    "\n",
    "```python\n",
    "name = input(\"이름을 입력하세요: \")\n",
    "print(\"안녕하세요, \", name, \"님!\")\n",
    "```\n",
    "\n",
    "2. 표준 출력(Standard Output): 프로그램이 처리한 결과를 출력하는 기본 채널, 보통 화면(콘솔, 터미널) 결과가 출력\n",
    "    - print() 함수 사용\n",
    "    - print() 안에 sep은 파라미터 사이 구분자 지정 / end는 줄바꿈 대신 지정한 문자열 지정\n",
    "\n",
    "```python\n",
    "# sep과 end 옵션 사용 예제\n",
    "print(\"Python\", \"Java\", \"C++\", sep=\", \")  # 각 단어 사이에 \", \"를 삽입하여 출력\n",
    "print(\"첫번째 줄\", end = \"...\")    # 출력 후 기본 줄 바꿈 대신 ...로 끌어내기\n",
    "print(\"두번째 줄\")\n",
    "```\n"
   ],
   "id": "cac7bc3e0147424"
  },
  {
   "metadata": {
    "ExecuteTime": {
     "end_time": "2025-07-05T06:13:04.432585Z",
     "start_time": "2025-07-05T06:13:00.662990Z"
    }
   },
   "cell_type": "code",
   "source": [
    "# 입력부분 실습\n",
    "name = input(\"이름을 입력하세요: \") # 홍길동\n",
    "print(\"안녕하세요, \", name, \"님!\")"
   ],
   "id": "febc083c48b82e8b",
   "outputs": [
    {
     "name": "stdout",
     "output_type": "stream",
     "text": [
      "안녕하세요,  홍길동 님!\n"
     ]
    }
   ],
   "execution_count": 9
  },
  {
   "metadata": {
    "ExecuteTime": {
     "end_time": "2025-07-05T06:15:26.772782Z",
     "start_time": "2025-07-05T06:15:26.767385Z"
    }
   },
   "cell_type": "code",
   "source": [
    "# 출력부분 실습\n",
    "print(\"Hello, World!\") # 단순 문자열 출력\n",
    "\n",
    "# 여러 값을 출력할 때\n",
    "a = 10\n",
    "b = 20\n",
    "print(\"a의 값: \", a, \"이고, b의 값: \", b) # 값 사이에 기본적으로 공백을 삽입하여 출력\n",
    "\n",
    "# sep과 end 옵션 사용 예제\n",
    "print(\"Python\", \"Java\", \"C++\", sep=\", \")  # 각 단어 사이에 \", \"를 삽입하여 출력\n",
    "print(\"첫번째 줄\", end = \"...\")    # 출력 후 기본 줄 바꿈 대신 ...로 끌어내기\n",
    "print(\"두번째 줄\")"
   ],
   "id": "2f7de9f6dfd65f1",
   "outputs": [
    {
     "name": "stdout",
     "output_type": "stream",
     "text": [
      "Hello, World!\n",
      "a의 값:  10 이고, b의 값:  20\n",
      "Python, Java, C++\n",
      "첫번째 줄...두번째 줄\n"
     ]
    }
   ],
   "execution_count": 10
  },
  {
   "metadata": {},
   "cell_type": "markdown",
   "source": [
    "### 입출력 활용\n",
    "\n",
    "1. input() 활용 예시\n",
    "    - 함수 내에 안내할 문자열을 포함시켜서 활용\n",
    "    - 입력 받은 자료를 저장하기 위해 변수를 이용\n",
    "    - 기본 문자열\n",
    "2. int()\n",
    "    - 정수형 입력\n",
    "3. float()\n",
    "    - 실수형 입력"
   ],
   "id": "a5e6b6dce9ddb963"
  },
  {
   "metadata": {
    "ExecuteTime": {
     "end_time": "2025-07-05T06:20:03.243398Z",
     "start_time": "2025-07-05T06:19:52.802877Z"
    }
   },
   "cell_type": "code",
   "source": [
    "name = input(\"이름을 입력하세요.\")\n",
    "print(\"안녕하세요. \", name, \"님!\")\n",
    "\n",
    "age = int(input(\"나이를 입력하세요: \")) # 정수 변환\n",
    "print(\"내년에는\", age + 1, \"살이 됩니다.\")\n",
    "\n",
    "height = float(input(\"키를 입력하세요.\")) # 실수 변환\n",
    "print(\"키는\", height, \"cm 입니다.\")"
   ],
   "id": "8fa7d23ee96310cb",
   "outputs": [
    {
     "name": "stdout",
     "output_type": "stream",
     "text": [
      "안녕하세요.  김기남 님!\n",
      "내년에는 14 살이 됩니다.\n",
      "키는 177.0 cm 입니다.\n"
     ]
    }
   ],
   "execution_count": 11
  },
  {
   "metadata": {},
   "cell_type": "markdown",
   "source": [
    "### 출력 실습 활용\n",
    "- print() 출력방법\n",
    "    1. 콤마(,) 이용\n",
    "    2. % 형식 지정자 이용\n",
    "    3. format() 함수 이용\n",
    "    4. f-string 포맷팅 이용\n"
   ],
   "id": "d5561e57a8353ed3"
  },
  {
   "metadata": {
    "ExecuteTime": {
     "end_time": "2025-07-05T06:28:23.935415Z",
     "start_time": "2025-07-05T06:28:23.923095Z"
    }
   },
   "cell_type": "code",
   "source": [
    "# 1. 콤마 활용\n",
    "name = \"Alice\"\n",
    "age = 25\n",
    "\n",
    "print(\"이름:\",name,\"나이:\",age)\n",
    "print(10,20,30)\n",
    "\n",
    "# 2. % 형식 지정자 이용\n",
    "name = \"Bob\"\n",
    "age = 30\n",
    "height = 175.5\n",
    "\n",
    "print(\"이름: %s, 나이: %d, 키: %.1fcm\" %(name, age, height))\n",
    "\n",
    "# 3. format() 함수 입력\n",
    "# 위치 기반\n",
    "print(\"이름: {}, 나이: {}, 키 {:.2f}cm\".format(\"Charlie\", 28, 180.456))\n",
    "\n",
    "# 인덱스 저장 기능\n",
    "print(\"이름: {0}, 나이: {1}, 키 {2:.2f}cm\".format(\"David\", 35, 178.3))\n",
    "\n",
    "# 키워드 기반반\n",
    "print(\"이름: {name}, 나이: {age}, 키 {height:.1f}cm\".format(name=\"emma\", age=27, height=165.3))\n",
    "\n",
    "\n",
    "# 4. f-string 포맷팅 이용\n",
    "name = \"Frank\"\n",
    "age = 40\n",
    "height = 172.8\n",
    "\n",
    "print(f\"이름: {name}, 나이: {age}, 키: {height:.2f}cm\")\n"
   ],
   "id": "251414dd40fb0119",
   "outputs": [
    {
     "name": "stdout",
     "output_type": "stream",
     "text": [
      "이름: Alice 나이: 25\n",
      "10 20 30\n",
      "이름: Bob, 나이: 30, 키: 175.5cm\n",
      "이름: Charlie, 나이: 28, 키 180.46cm\n",
      "이름: David, 나이: 35, 키 178.30cm\n",
      "이름: emma, 나이: 27, 키 165.3cm\n",
      "이름: Frank, 나이: 40, 키: 172.80cm\n"
     ]
    }
   ],
   "execution_count": 14
  }
 ],
 "metadata": {
  "kernelspec": {
   "display_name": "Python 3",
   "language": "python",
   "name": "python3"
  },
  "language_info": {
   "codemirror_mode": {
    "name": "ipython",
    "version": 2
   },
   "file_extension": ".py",
   "mimetype": "text/x-python",
   "name": "python",
   "nbconvert_exporter": "python",
   "pygments_lexer": "ipython2",
   "version": "2.7.6"
  }
 },
 "nbformat": 4,
 "nbformat_minor": 5
}

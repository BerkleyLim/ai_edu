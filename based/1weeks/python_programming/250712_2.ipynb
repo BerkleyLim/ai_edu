{
 "cells": [
  {
   "metadata": {},
   "cell_type": "markdown",
   "source": [
    "# Numpy\n",
    "- Numerical Python 줄인말, 수치 연산 전용 라이브러리\n",
    "- np.array(): 파이썬 리스트를 넘파이 배열(N-dimensional array)로 변환\n",
    "- a.shape : 배열의 구조(차원)을 알려줌\n",
    "- a.dtype : 배열 안의 데이터 타입\n",
    "\n",
    "## 사용 목적\n",
    "| 파이썬 리스트    | numpy 배열 |\n",
    "|------------|------------|\n",
    "| 일반적 연산에 적합 | 수치 계산에 특화 |\n",
    "| for문 많이 씀 | 벡터화 연산 가능 (빠름!) |\n",
    "| 느림 | 빠름 (C 기반) |\n",
    "| 타입이 섞임 | 통일된 타입 (효율적 메모리) |\n",
    "\n",
    "\n",
    "## ✅ 핵심 요약\n",
    "- numpy.array는 고성능 배열\n",
    "- 데이터 과학, AI, 행렬 연산 필수\n",
    "- pandas도 내부적으로 numpy 기반\n"
   ],
   "id": "3bd996549b2f3ef5"
  },
  {
   "cell_type": "code",
   "id": "initial_id",
   "metadata": {
    "collapsed": true,
    "ExecuteTime": {
     "end_time": "2025-07-12T07:44:04.820264Z",
     "start_time": "2025-07-12T07:44:04.766285Z"
    }
   },
   "source": [
    "# 기본 배열 생성\n",
    "import numpy as np\n",
    "\n",
    "# 배열 생성\n",
    "a = np.array([1, 2, 3, 4, 5])\n",
    "\n",
    "print(\"Array a: \", a)\n",
    "print(\"Type: \", type(a))\n",
    "print(\"Shape: \", a.shape)"
   ],
   "outputs": [
    {
     "name": "stdout",
     "output_type": "stream",
     "text": [
      "Array a:  [1 2 3 4 5]\n",
      "Type:  <class 'numpy.ndarray'>\n",
      "Shape:  (5,)\n"
     ]
    }
   ],
   "execution_count": 1
  },
  {
   "metadata": {
    "ExecuteTime": {
     "end_time": "2025-07-12T07:50:46.920840Z",
     "start_time": "2025-07-12T07:50:46.917998Z"
    }
   },
   "cell_type": "code",
   "source": [
    "# 리스트 덧셈 (에러 아님, 결과는 붙이기)\n",
    "a = [1, 2, 3] + [4, 5, 6]  # 결과: [1, 2, 3, 4, 5, 6]\n",
    "\n",
    "# numpy 덧셈 (원소별 계산)\n",
    "b = np.array([1, 2, 3]) + np.array([4, 5, 6])  # 결과: [5 7 9]\n",
    "\n",
    "print(\"Array a: \", a)\n",
    "print(\"Array b: \", b)\n"
   ],
   "id": "df2e23372161ba71",
   "outputs": [
    {
     "name": "stdout",
     "output_type": "stream",
     "text": [
      "Array a:  [1, 2, 3, 4, 5, 6]\n",
      "Array b:  [5 7 9]\n"
     ]
    }
   ],
   "execution_count": 3
  },
  {
   "metadata": {
    "ExecuteTime": {
     "end_time": "2025-07-12T07:52:13.462076Z",
     "start_time": "2025-07-12T07:52:13.457431Z"
    }
   },
   "cell_type": "code",
   "source": [
    "# 연속 수열 생성\n",
    "\n",
    "# 0 부터 9 까지 정수 생성\n",
    "arr = np.arange(10)\n",
    "print(\"\\nArange array:\", arr)\n",
    "\n",
    "# 시작, 끝, 간격 지정\n",
    "arr2 = np.arange(1, 11, 2)\n",
    "print(\"Arange with step:\", arr2)"
   ],
   "id": "3925d46b461570b9",
   "outputs": [
    {
     "name": "stdout",
     "output_type": "stream",
     "text": [
      "\n",
      "Arange array: [0 1 2 3 4 5 6 7 8 9]\n",
      "Arange with step: [1 3 5 7 9]\n"
     ]
    }
   ],
   "execution_count": 4
  },
  {
   "metadata": {
    "ExecuteTime": {
     "end_time": "2025-07-12T07:53:27.227636Z",
     "start_time": "2025-07-12T07:53:27.222913Z"
    }
   },
   "cell_type": "code",
   "source": [
    "# 배열 모양 바꾸기\n",
    "\n",
    "# 1차원 배열을 2차원으로 변#\n",
    "arr = np.arange(12)\n",
    "reshaped_arr = arr.reshape(3, 4)\n",
    "print(\"\\nReshaped array:\\n\", reshaped_arr)"
   ],
   "id": "530a049d068e7672",
   "outputs": [
    {
     "name": "stdout",
     "output_type": "stream",
     "text": [
      "\n",
      "Reshaped array:\n",
      " [[ 0  1  2  3]\n",
      " [ 4  5  6  7]\n",
      " [ 8  9 10 11]]\n"
     ]
    }
   ],
   "execution_count": 6
  },
  {
   "metadata": {
    "ExecuteTime": {
     "end_time": "2025-07-12T07:55:59.226855Z",
     "start_time": "2025-07-12T07:55:59.221618Z"
    }
   },
   "cell_type": "code",
   "source": [
    "# Numpy Slicing\n",
    "\n",
    "# 1차원 슬라이싱\n",
    "arr = np.arange(10)\n",
    "print(\"\\nOriginal array:\\n\", arr)\n",
    "print(\"Slice 2 to 5: \", arr[2:5])\n",
    "\n",
    "\n",
    "# 2차원 슬라이싱\n",
    "matrix = np.arange(1, 13).reshape(3, 4) # 1~12까지 1차원 배열 생성후 3*4배열로 변환\n",
    "print(\"\\nMatrix:\\n\", matrix)\n",
    "print(\"First two rows and first two columns:\\n\", matrix[:2, :2])\n",
    "print(\"Last row:\\n\", matrix[-1, :])\n"
   ],
   "id": "81ab1e280ac2ca37",
   "outputs": [
    {
     "name": "stdout",
     "output_type": "stream",
     "text": [
      "\n",
      "Original array:\n",
      " [0 1 2 3 4 5 6 7 8 9]\n",
      "Slice 2 to 5:  [2 3 4]\n",
      "\n",
      "Matrix:\n",
      " [[ 1  2  3  4]\n",
      " [ 5  6  7  8]\n",
      " [ 9 10 11 12]]\n",
      "First two rows and first two columns:\n",
      " [[1 2]\n",
      " [5 6]]\n",
      "Last row:\n",
      " [ 9 10 11 12]\n"
     ]
    }
   ],
   "execution_count": 7
  },
  {
   "metadata": {
    "ExecuteTime": {
     "end_time": "2025-07-12T07:58:14.251686Z",
     "start_time": "2025-07-12T07:58:14.246798Z"
    }
   },
   "cell_type": "code",
   "source": [
    "# Numpy 정수 인덱싱 - 특정 위치의 값 선택\n",
    "matrix = np.array([[10, 20, 30], [40, 50, 60], [70, 80, 90]])\n",
    "print(\"\\nMatrix:\\n\", matrix)\n",
    "\n",
    "selected = matrix[[0, 1, 2], [0, 1, 2]]\n",
    "print(\"\\nSelected values (diagonal):\\n\", selected)\n",
    "\n",
    "selected2 = matrix[[0, 1, 2], [2, 0, 1]]\n",
    "print(\"\\nSelected values :\\n\", selected2)"
   ],
   "id": "63dfc16c2b93c83e",
   "outputs": [
    {
     "name": "stdout",
     "output_type": "stream",
     "text": [
      "\n",
      "Matrix:\n",
      " [[10 20 30]\n",
      " [40 50 60]\n",
      " [70 80 90]]\n",
      "\n",
      "Selected values (diagonal):\n",
      " [10 50 90]\n",
      "\n",
      "Selected values :\n",
      " [30 40 80]\n"
     ]
    }
   ],
   "execution_count": 9
  },
  {
   "metadata": {
    "ExecuteTime": {
     "end_time": "2025-07-12T07:58:53.207762Z",
     "start_time": "2025-07-12T07:58:53.201852Z"
    }
   },
   "cell_type": "code",
   "source": [
    "# 기본 산술 연산\n",
    "arr = np.array([1, 2, 3, 4, 5])\n",
    "print(\"\\nOriginal array:\", arr)\n",
    "print(\"Add 10:\", arr + 10)\n",
    "print(\"Multiply by 2:\", arr * 2)\n",
    "print(\"Square:\", arr ** 2)\n",
    "\n",
    "\n",
    "arr2 = np.array([5, 4, 3, 2, 1])\n",
    "print(\"\\nArray 2:\", arr2)\n",
    "print(\"Addition:\", arr + arr2)\n",
    "print(\"Multiplication:\", arr * arr2)"
   ],
   "id": "10feff9f0923c292",
   "outputs": [
    {
     "name": "stdout",
     "output_type": "stream",
     "text": [
      "\n",
      "Original array: [1 2 3 4 5]\n",
      "Add 10: [11 12 13 14 15]\n",
      "Multiply by 2: [ 2  4  6  8 10]\n",
      "Square: [ 1  4  9 16 25]\n",
      "\n",
      "Array 2: [5 4 3 2 1]\n",
      "Addition: [6 6 6 6 6]\n",
      "Multiplication: [5 8 9 8 5]\n"
     ]
    }
   ],
   "execution_count": 10
  },
  {
   "metadata": {
    "ExecuteTime": {
     "end_time": "2025-07-12T08:01:16.230814Z",
     "start_time": "2025-07-12T08:01:16.228093Z"
    }
   },
   "cell_type": "code",
   "source": [
    "# Numpy 논리 인덱싱 - 조건 필터링\n",
    "\n",
    "arr = np.arange(10)\n",
    "print(\"\\nOriginal array:\", arr)\n",
    "\n",
    "# 5보다 큰 값만\n",
    "filtered = arr[arr > 5]\n",
    "print(\"Value greater than 5:\", filtered)\n",
    "\n",
    "# 짝수만\n",
    "even = arr[arr % 2 == 0]\n",
    "print(\"\\nEven numbers:\", even)"
   ],
   "id": "8f987e996ed35e2e",
   "outputs": [
    {
     "name": "stdout",
     "output_type": "stream",
     "text": [
      "\n",
      "Original array: [0 1 2 3 4 5 6 7 8 9]\n",
      "Value greater than 5: [6 7 8 9]\n",
      "\n",
      "Even numbers: [0 2 4 6 8]\n"
     ]
    }
   ],
   "execution_count": 11
  },
  {
   "metadata": {},
   "cell_type": "markdown",
   "source": [
    "# 예제 3: 결정계수 R² (R-squared) 직접 구현 vs sklearn 비교\n",
    "\n",
    "## 목적\n",
    "- 선형 회귀 모델 학습\n",
    "- R² (결정계수)를 직접 수식으로 구현\n",
    "- `sklearn.metrics.r2_score` 결과와 비교\n",
    "\n",
    "## 정의:\n",
    "\n",
    "$$\n",
    "R^2 = 1 - \\frac{RSS}{TSS}\n",
    "$$\n",
    "\n",
    "- RSS: 잔차 제곱합\n",
    "  $$ \\sum (y_i - \\hat{y}_i)^2 $$\n",
    "- TSS: 전체 제곱합\n",
    "  $$ \\sum (y_i - \\bar{y})^2 $$\n",
    "\n",
    "## 개념\n",
    "\n",
    "### 1. RSS (Residual Sum of Squares)\n",
    "$$\n",
    "RSS = \\sum_{i=1}^n (y_i - \\hat{y}_i)^2\n",
    "$$\n",
    "- 실제값과 예측값의 차이 → 오차 제곱합\n",
    "\n",
    "### 2. TSS (Total Sum of Squares)\n",
    "$$\n",
    "TSS = \\sum_{i=1}^n (y_i - \\bar{y})^2\n",
    "$$\n",
    "- 전체 분산 (데이터의 퍼짐 정도)\n",
    "\n",
    "### 3. R² (결정계수)\n",
    "$$\n",
    "R^2 = 1 - \\frac{RSS}{TSS}\n",
    "$$\n",
    "- 모델이 전체 분산 중 **얼마나 설명했는가**를 비율로 나타냄\n",
    "\n",
    "\n",
    "\n",
    "## 의미:\n",
    "- $$R^2 = 1$$: 완벽한 예측\n",
    "- $$R^2 = 0$$: 평균값보다 못한 예측\n",
    "- $$R^2 < 0$$: 오히려 모델이 분산을 더 키움 (나쁜 모델)\n",
    "\n",
    "이번 예제에서는:\n",
    "- 선형 회귀 모델 학습\n",
    "- 직접 수식으로 $$R^2$$ 계산\n",
    "- `sklearn.metrics.r2_score` 와 결과 비교\n",
    "\n",
    "\n",
    "\n",
    "### 정리\n",
    "- R²는 항상 1에 가까울수록 좋음\n",
    "- 모델이 데이터를 얼마나 잘 설명했는가를 정량적으로 보여줌\n",
    "- 수식 직접 구현 시 핵심은:\n",
    "    - 예측값 vs 실제값의 차이\n",
    "\t- 전체 데이터의 분산 대비 얼마나 설명했는가"
   ],
   "id": "8b7f61da065dc9ab"
  },
  {
   "metadata": {
    "ExecuteTime": {
     "end_time": "2025-07-14T12:31:15.462743Z",
     "start_time": "2025-07-14T12:31:15.398747Z"
    }
   },
   "cell_type": "code",
   "source": [
    "import numpy as np\n",
    "import matplotlib.pyplot as plt\n",
    "import matplotlib.font_manager as fm\n",
    "from sklearn.linear_model import LinearRegression\n",
    "from sklearn.metrics import r2_score\n",
    "\n",
    "# 0. macOS 한글 폰트 경로 지정\n",
    "font_path = '/System/Library/Fonts/AppleSDGothicNeo.ttc'  # macOS 기본 한글 폰트\n",
    "font_name = fm.FontProperties(fname=font_path).get_name()\n",
    "\n",
    "\n",
    "# 1. 데이터 생성\n",
    "x = np.array([1, 2, 3, 4, 5]).reshape(-1, 1)       # 독립변수 x\n",
    "y = np.array([1.2, 2.8, 2.9, 4.4, 5.1]).reshape(-1, 1)  # 종속변수 y (노이즈 포함)\n",
    "\n",
    "# 2. 모델 학습\n",
    "model = LinearRegression()\n",
    "model.fit(x, y)\n",
    "\n",
    "# 3. 예측값 계산\n",
    "y_pred = model.predict(x)\n",
    "\n",
    "# 4. R² 수식 직접 구현\n",
    "y_mean = np.mean(y)                    # 전체 평균값\n",
    "rss = np.sum((y - y_pred) ** 2)        # 잔차 제곱합 (RSS)\n",
    "tss = np.sum((y - y_mean) ** 2)        # 전체 제곱합 (TSS)\n",
    "r2_manual = 1 - rss / tss              # 수식 기반 R² 계산\n",
    "\n",
    "# 5. 라이브러리 계산값\n",
    "r2_lib = r2_score(y, y_pred)\n",
    "\n",
    "# 6. 결과 출력\n",
    "print(f\"📌 y 평균값 (ȳ): {y_mean:.3f}\")\n",
    "print(f\"🔸 RSS (잔차 제곱합): {rss:.4f}\")\n",
    "print(f\"🔸 TSS (전체 제곱합): {tss:.4f}\")\n",
    "print(f\"✅ R² (직접 계산): {r2_manual:.4f}\")\n",
    "print(f\"✅ R² (sklearn):  {r2_lib:.4f}\")\n",
    "\n",
    "# 7. 시각화\n",
    "plt.figure(figsize=(6, 4))\n",
    "plt.scatter(x, y, color='black', label='데이터 (y)')\n",
    "plt.plot(x, y_pred, color='blue', label='회귀선 (ŷ)')\n",
    "plt.axhline(y_mean, color='gray', linestyle='--', label='y 평균 (ȳ)')\n",
    "plt.title(f'회귀선과 데이터 (R² = {r2_manual:.3f})')\n",
    "plt.xlabel('x')\n",
    "plt.ylabel('y')\n",
    "plt.legend()\n",
    "plt.grid(True)\n",
    "plt.show()"
   ],
   "id": "3ade562a5624d106",
   "outputs": [
    {
     "name": "stdout",
     "output_type": "stream",
     "text": [
      "📌 y 평균값 (ȳ): 3.280\n",
      "🔸 RSS (잔차 제곱합): 0.4320\n",
      "🔸 TSS (전체 제곱합): 9.2680\n",
      "✅ R² (직접 계산): 0.9534\n",
      "✅ R² (sklearn):  0.9534\n"
     ]
    },
    {
     "name": "stderr",
     "output_type": "stream",
     "text": [
      "/Users/imhyeonsig/miniconda3/lib/python3.12/site-packages/IPython/core/pylabtools.py:170: UserWarning: Glyph 54924 (\\N{HANGUL SYLLABLE HOE}) missing from font(s) DejaVu Sans.\n",
      "  fig.canvas.print_figure(bytes_io, **kw)\n",
      "/Users/imhyeonsig/miniconda3/lib/python3.12/site-packages/IPython/core/pylabtools.py:170: UserWarning: Glyph 44480 (\\N{HANGUL SYLLABLE GWI}) missing from font(s) DejaVu Sans.\n",
      "  fig.canvas.print_figure(bytes_io, **kw)\n",
      "/Users/imhyeonsig/miniconda3/lib/python3.12/site-packages/IPython/core/pylabtools.py:170: UserWarning: Glyph 49440 (\\N{HANGUL SYLLABLE SEON}) missing from font(s) DejaVu Sans.\n",
      "  fig.canvas.print_figure(bytes_io, **kw)\n",
      "/Users/imhyeonsig/miniconda3/lib/python3.12/site-packages/IPython/core/pylabtools.py:170: UserWarning: Glyph 44284 (\\N{HANGUL SYLLABLE GWA}) missing from font(s) DejaVu Sans.\n",
      "  fig.canvas.print_figure(bytes_io, **kw)\n",
      "/Users/imhyeonsig/miniconda3/lib/python3.12/site-packages/IPython/core/pylabtools.py:170: UserWarning: Glyph 45936 (\\N{HANGUL SYLLABLE DE}) missing from font(s) DejaVu Sans.\n",
      "  fig.canvas.print_figure(bytes_io, **kw)\n",
      "/Users/imhyeonsig/miniconda3/lib/python3.12/site-packages/IPython/core/pylabtools.py:170: UserWarning: Glyph 51060 (\\N{HANGUL SYLLABLE I}) missing from font(s) DejaVu Sans.\n",
      "  fig.canvas.print_figure(bytes_io, **kw)\n",
      "/Users/imhyeonsig/miniconda3/lib/python3.12/site-packages/IPython/core/pylabtools.py:170: UserWarning: Glyph 53552 (\\N{HANGUL SYLLABLE TEO}) missing from font(s) DejaVu Sans.\n",
      "  fig.canvas.print_figure(bytes_io, **kw)\n",
      "/Users/imhyeonsig/miniconda3/lib/python3.12/site-packages/IPython/core/pylabtools.py:170: UserWarning: Glyph 54217 (\\N{HANGUL SYLLABLE PYEONG}) missing from font(s) DejaVu Sans.\n",
      "  fig.canvas.print_figure(bytes_io, **kw)\n",
      "/Users/imhyeonsig/miniconda3/lib/python3.12/site-packages/IPython/core/pylabtools.py:170: UserWarning: Glyph 44512 (\\N{HANGUL SYLLABLE GYUN}) missing from font(s) DejaVu Sans.\n",
      "  fig.canvas.print_figure(bytes_io, **kw)\n"
     ]
    },
    {
     "data": {
      "text/plain": [
       "<Figure size 600x400 with 1 Axes>"
      ],
      "image/png": "[encoded data removed]"
     },
     "metadata": {},
     "output_type": "display_data"
    }
   ],
   "execution_count": 17
  },
  {
   "metadata": {},
   "cell_type": "markdown",
   "source": [
    "# 예제 4: Leverage + Residual 시각화로 영향력 점 분석\n",
    "\n",
    "## 목적\n",
    "- 단순히 leverage가 크다고 해서 이상치(outlier)는 아님\n",
    "- 실제로는 **leverage + 잔차(residual)가 둘 다 큰 경우**, 예측에 큰 영향을 주는 데이터 → **influential point**\n",
    "\n",
    "---\n",
    "\n",
    "## 구성\n",
    "- 잔차: $$ r_i = y_i - \\hat{y}_i $$\n",
    "- leverage: $$ h_i = \\text{diag}(H) $$\n",
    "- 영향력 점: $$ r_i^2 \\times h_i $$ 또는 Cook’s Distance로도 표현 가능\n",
    "\n",
    "---\n",
    "\n",
    "## 시각화\n",
    "- x축: leverage score\n",
    "- y축: 절대값 residual\n",
    "- 점이 오른쪽 위로 갈수록 영향력 ↑"
   ],
   "id": "527bca9612047e1"
  },
  {
   "metadata": {
    "ExecuteTime": {
     "end_time": "2025-07-14T12:19:17.954272Z",
     "start_time": "2025-07-14T12:19:17.820764Z"
    }
   },
   "cell_type": "code",
   "source": [
    "import numpy as np\n",
    "import matplotlib.pyplot as plt\n",
    "from sklearn.linear_model import LinearRegression\n",
    "\n",
    "# 1. 데이터 정의 (마지막 샘플은 이상치)\n",
    "x = np.array([1, 2, 3, 4, 20]).reshape(-1, 1)\n",
    "y = np.array([1.2, 2.2, 3.0, 3.8, 6.0]).reshape(-1, 1)\n",
    "\n",
    "# 2. Design matrix 및 Hat matrix\n",
    "X = np.hstack([np.ones_like(x), x])\n",
    "H = X @ np.linalg.inv(X.T @ X) @ X.T\n",
    "leverage_scores = np.diag(H)\n",
    "\n",
    "# 3. 회귀 모델 학습 및 예측\n",
    "model = LinearRegression()\n",
    "model.fit(x, y)\n",
    "y_pred = model.predict(x)\n",
    "\n",
    "# 4. 잔차 계산\n",
    "residuals = y.ravel() - y_pred.ravel()\n",
    "abs_residuals = np.abs(residuals)\n",
    "\n",
    "# 5. 시각화: Leverage vs. Residual\n",
    "plt.figure(figsize=(8, 5))\n",
    "plt.scatter(leverage_scores, abs_residuals, color='blue', s=80)\n",
    "for i, (h, r) in enumerate(zip(leverage_scores, abs_residuals)):\n",
    "    plt.text(h + 0.01, r, f\"#{i}\", fontsize=9)\n",
    "plt.axvline(np.mean(leverage_scores), linestyle='--', color='green', label='평균 leverage')\n",
    "plt.axhline(np.mean(abs_residuals), linestyle='--', color='gray', label='평균 residual')\n",
    "plt.xlabel('Leverage Score')\n",
    "plt.ylabel('Absolute Residual')\n",
    "plt.title('Leverage vs. Residual (Influential Point Detection)')\n",
    "plt.grid(True)\n",
    "plt.legend()\n",
    "plt.show()\n",
    "\n",
    "# 6. 영향력 점 후보 출력\n",
    "influential_idx = np.where((leverage_scores > 2 * np.mean(leverage_scores)) &\n",
    "                           (abs_residuals > 1.5 * np.mean(abs_residuals)))[0]\n",
    "print(\"📌 영향력 점으로 의심되는 인덱스:\", influential_idx)"
   ],
   "id": "bb20a6cbf8edb9b9",
   "outputs": [
    {
     "name": "stderr",
     "output_type": "stream",
     "text": [
      "/Users/imhyeonsig/miniconda3/lib/python3.12/site-packages/IPython/core/pylabtools.py:170: UserWarning: Glyph 54217 (\\N{HANGUL SYLLABLE PYEONG}) missing from font(s) DejaVu Sans.\n",
      "  fig.canvas.print_figure(bytes_io, **kw)\n",
      "/Users/imhyeonsig/miniconda3/lib/python3.12/site-packages/IPython/core/pylabtools.py:170: UserWarning: Glyph 44512 (\\N{HANGUL SYLLABLE GYUN}) missing from font(s) DejaVu Sans.\n",
      "  fig.canvas.print_figure(bytes_io, **kw)\n"
     ]
    },
    {
     "data": {
      "text/plain": [
       "<Figure size 800x500 with 1 Axes>"
      ],
      "image/png": "[encoded data removed]"
     },
     "metadata": {},
     "output_type": "display_data"
    },
    {
     "name": "stdout",
     "output_type": "stream",
     "text": [
      "📌 영향력 점으로 의심되는 인덱스: []\n"
     ]
    }
   ],
   "execution_count": 14
  }
 ],
 "metadata": {
  "kernelspec": {
   "display_name": "Python 3",
   "language": "python",
   "name": "python3"
  },
  "language_info": {
   "codemirror_mode": {
    "name": "ipython",
    "version": 2
   },
   "file_extension": ".py",
   "mimetype": "text/x-python",
   "name": "python",
   "nbconvert_exporter": "python",
   "pygments_lexer": "ipython2",
   "version": "2.7.6"
  }
 },
 "nbformat": 4,
 "nbformat_minor": 5
}

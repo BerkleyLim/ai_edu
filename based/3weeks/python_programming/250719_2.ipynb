{
 "cells": [
  {
   "metadata": {},
   "cell_type": "markdown",
   "source": [
    "## CNN - AlexNet\n",
    "- 2012년 개최된 ILSVRC(ImageNet Large Scale Visual Recognition Challenge) 대회의 우승을 차지한 CNN 구조의 네트워크\n",
    "- CNN의 부흥에 큰 역할을 했으며, 발표 논문의 첫 저자인 Alex Khrizevsky의 이름을 따 AlexNet\n",
    "- 합성곱 계층과 풀링 계층을 반복하며 마지막엔 완전연결 계층을 거쳐 결과 출력\n",
    "- CNN의 다른 대표 모델들과의 구조적인 틀에서 크게 다르지 않지만 AlexNet만 다음\n",
    "    - Local Response Normalization(국소 정규화) 계층 사용\n",
    "    - ReLU 활성화 함수 사용\n",
    "    - Dropout 사용\n",
    "-"
   ],
   "id": "e450facd24cbe59a"
  },
  {
   "metadata": {
    "ExecuteTime": {
     "end_time": "2025-07-19T07:18:06.456734Z",
     "start_time": "2025-07-19T07:18:06.287109Z"
    }
   },
   "cell_type": "code",
   "source": [
    "import numpy as np                                # numpy를 불러와서 np라고 부르기\n",
    "import pandas as pd                                # pandas를 불러와서 pd라고 부르기\n",
    "import matplotlib.pyplot as plt                      # matplotlib의 그래프 도구를 불러와서 plt라고 부르기\n",
    "# Jupyter 노트북에서 그래프를 바로 화면에 출력하기 위한 설정\n",
    "%matplotlib inline\n",
    "import seaborn as sns                              # seaborn 을 불러와서 sns라고 부르기\n",
    "\n",
    "from sklearn.utils import shuffle                     # 데이터를 무작위로 섞기 위한 함수\n",
    "\n",
    "import tensorflow as tf                             # 텐서플로 전체를 tf라는 이름으로 불러오기\n",
    "from tensorflow import keras                       # 텐서플로 안에 있는 케라스 불러오기\n",
    "from keras.layers import Dropout, MaxPool2D, Dense, Conv2D, Flatten, BatchNormalization,GlobalAveragePooling2D\n",
    "                                                    # 딥러닝 모델을 만들 때 사용할 다양한 신경망 구성 요소들 불러오기\n",
    "from keras.models import Sequential\n",
    "               # 모델을 차곡차곡 쌓기 위한 클래스 -> Sequential은 위에서 불러온 구성 요소들을 순서대로 차례차례 쌓아올릴 수 있게 해주는 구조\n",
    "from keras.callbacks import EarlyStopping\n",
    "# 학습을 조기 종료하는 기능(EarlyStopping은 모델이 더 이상 좋아지지 않을 때 학습을 자동으로 멈추게 해주는 기능)\n",
    "from keras.applications.mobilenet import MobileNet                                  # 사전학습된 MobileNet 모델 불러오기\n",
    "from sklearn.metrics import confusion_matrix,classification_report                     # 성능 평가 지표\n",
    "\n",
    "from skimage.transform import resize               # 이미지 크기를 조절하는 함수\n",
    "import cv2                                         # 이미지 처리 도구 OpenCV\n",
    "\n",
    "from tqdm import tqdm                           # 진행률 표시줄\n",
    "import gc                                         # 메모리 정리를 위한 도구 (garbage collector)\n"
   ],
   "id": "89e6d2dadea122ea",
   "outputs": [],
   "execution_count": 6
  }
 ],
 "metadata": {
  "kernelspec": {
   "display_name": "Python 3",
   "language": "python",
   "name": "python3"
  },
  "language_info": {
   "codemirror_mode": {
    "name": "ipython",
    "version": 2
   },
   "file_extension": ".py",
   "mimetype": "text/x-python",
   "name": "python",
   "nbconvert_exporter": "python",
   "pygments_lexer": "ipython2",
   "version": "2.7.6"
  }
 },
 "nbformat": 4,
 "nbformat_minor": 5
}

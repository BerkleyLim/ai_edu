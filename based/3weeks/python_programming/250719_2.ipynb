{
 "cells": [
  {
   "metadata": {},
   "cell_type": "markdown",
   "source": [
    "## CNN - AlexNet\n",
    "- 2012년 개최된 ILSVRC(ImageNet Large Scale Visual Recognition Challenge) 대회의 우승을 차지한 CNN 구조의 네트워크\n",
    "- CNN의 부흥에 큰 역할을 했으며, 발표 논문의 첫 저자인 Alex Khrizevsky의 이름을 따 AlexNet\n",
    "- 합성곱 계층과 풀링 계층을 반복하며 마지막엔 완전연결 계층을 거쳐 결과 출력\n",
    "- CNN의 다른 대표 모델들과의 구조적인 틀에서 크게 다르지 않지만 AlexNet만 다음\n",
    "    - Local Response Normalization(국소 정규화) 계층 사용\n",
    "    - ReLU 활성화 함수 사용\n",
    "    - Dropout 사용\n",
    "-"
   ],
   "id": "e450facd24cbe59a"
  },
  {
   "metadata": {
    "ExecuteTime": {
     "end_time": "2025-07-19T07:18:06.456734Z",
     "start_time": "2025-07-19T07:18:06.287109Z"
    }
   },
   "cell_type": "code",
   "source": [
    "import numpy as np                                # numpy를 불러와서 np라고 부르기\n",
    "import pandas as pd                                # pandas를 불러와서 pd라고 부르기\n",
    "import matplotlib.pyplot as plt                      # matplotlib의 그래프 도구를 불러와서 plt라고 부르기\n",
    "# Jupyter 노트북에서 그래프를 바로 화면에 출력하기 위한 설정\n",
    "%matplotlib inline\n",
    "import seaborn as sns                              # seaborn 을 불러와서 sns라고 부르기\n",
    "\n",
    "from sklearn.utils import shuffle                     # 데이터를 무작위로 섞기 위한 함수\n",
    "\n",
    "import tensorflow as tf                             # 텐서플로 전체를 tf라는 이름으로 불러오기\n",
    "from tensorflow import keras                       # 텐서플로 안에 있는 케라스 불러오기\n",
    "from keras.layers import Dropout, MaxPool2D, Dense, Conv2D, Flatten, BatchNormalization,GlobalAveragePooling2D\n",
    "                                                    # 딥러닝 모델을 만들 때 사용할 다양한 신경망 구성 요소들 불러오기\n",
    "from keras.models import Sequential\n",
    "               # 모델을 차곡차곡 쌓기 위한 클래스 -> Sequential은 위에서 불러온 구성 요소들을 순서대로 차례차례 쌓아올릴 수 있게 해주는 구조\n",
    "from keras.callbacks import EarlyStopping\n",
    "# 학습을 조기 종료하는 기능(EarlyStopping은 모델이 더 이상 좋아지지 않을 때 학습을 자동으로 멈추게 해주는 기능)\n",
    "from keras.applications.mobilenet import MobileNet                                  # 사전학습된 MobileNet 모델 불러오기\n",
    "from sklearn.metrics import confusion_matrix,classification_report                     # 성능 평가 지표\n",
    "\n",
    "from skimage.transform import resize               # 이미지 크기를 조절하는 함수\n",
    "import cv2                                         # 이미지 처리 도구 OpenCV\n",
    "\n",
    "from tqdm import tqdm                           # 진행률 표시줄\n",
    "import gc                                         # 메모리 정리를 위한 도구 (garbage collector)\n"
   ],
   "id": "89e6d2dadea122ea",
   "outputs": [],
   "execution_count": 6
  },
  {
   "metadata": {},
   "cell_type": "markdown",
   "source": [
    "### 위의 실습 코드 - AlexNet\n",
    "\n",
    "#### 각 라이브러리 설명\n",
    "- numpy, pandas -> 데이터 처리\n",
    "- matplotlib.pyplot, seaborn -> 데이터 시각화\n",
    "- sklearn.utils.shuffle -> 데이터를 랜덤하게 섞는 함수\n",
    "- tensorflow.keras -> 신경망 모델 구현\n",
    "- cv2 (OpenVC), skimage.transform.resize -> 이미지 변환 및 크기 조정\n",
    "- tqdm -> 코드 실행 진행 상황을 시각적으로 확인"
   ],
   "id": "b4e719320ca9c6c"
  },
  {
   "metadata": {
    "ExecuteTime": {
     "end_time": "2025-07-19T07:50:01.151561Z",
     "start_time": "2025-07-19T07:50:01.003135Z"
    }
   },
   "cell_type": "code",
   "source": [
    "alexnet_img_size = (227, 227, 3) # 입력 크기 (227, 227, 3)\n",
    "(x_train, y_train), (x_test, y_test) = keras.datasets.mnist.load_data()\n",
    "\n",
    "no_of_images = 2000\n",
    "\n",
    "x_train = x_train[:no_of_images]\n",
    "y_train = y_train[:no_of_images]\n",
    "x_test = x_test[:int(no_of_images)]\n",
    "y_test = y_test[:int(no_of_images)]\n",
    "\n",
    "# print(x_train)\n",
    "# print(y_train)\n",
    "# print(x_test)\n",
    "# print(y_test)"
   ],
   "id": "9d7721181d806da1",
   "outputs": [],
   "execution_count": 11
  },
  {
   "metadata": {
    "ExecuteTime": {
     "end_time": "2025-07-19T07:33:28.500528Z",
     "start_time": "2025-07-19T07:33:28.497389Z"
    }
   },
   "cell_type": "code",
   "source": [
    "# # 중간에서 선택 -직접 정의했을 경우\n",
    "# x_train = x_train[1000:3000]\n",
    "#\n",
    "# print(x_train)\n",
    "#\n",
    "# # 중간에서 선택 - 87페이지처럼 앞에서 정의\n",
    "# start_idx = 1000\n",
    "# end_idx = 3000\n",
    "# x_train = x_train[start_idx:end_idx] # 1000번째부터 3000번째까지\n",
    "#\n",
    "# print(x_train)"
   ],
   "id": "9df74f49d56fa943",
   "outputs": [
    {
     "name": "stdout",
     "output_type": "stream",
     "text": [
      "[]\n",
      "[]\n"
     ]
    }
   ],
   "execution_count": 10
  },
  {
   "metadata": {
    "ExecuteTime": {
     "end_time": "2025-07-19T07:50:36.023370Z",
     "start_time": "2025-07-19T07:50:36.020320Z"
    }
   },
   "cell_type": "code",
   "source": [
    "# Shape of Dataset\n",
    "test_shape = np.shape(x_test)\n",
    "train_shape = np.shape(x_train)\n",
    "\n",
    "print(\"Shape of Test Dataset: \", test_shape)\n",
    "print(\"Shape of Train Dataset: \", train_shape)"
   ],
   "id": "68280a86f29130aa",
   "outputs": [
    {
     "name": "stdout",
     "output_type": "stream",
     "text": [
      "Shape of Test Dataset:  (2000, 28, 28)\n",
      "Shape of Train Dataset:  (2000, 28, 28)\n"
     ]
    }
   ],
   "execution_count": 13
  },
  {
   "metadata": {
    "ExecuteTime": {
     "end_time": "2025-07-19T08:13:51.628465Z",
     "start_time": "2025-07-19T08:13:51.460207Z"
    }
   },
   "cell_type": "code",
   "source": [
    "n = np.random.randint(0, train_shape[0]) # 랜덤한 숫자 선택\n",
    "sample = x_train[n]\n",
    "\n",
    "plt.imshow(sample) # MNIST 숫자 이미지를 시각화\n",
    "plt.title('Digit : ' + str(y_train[n])) # 해당 이미지의 라벨 출력"
   ],
   "id": "e1d4943698a00aca",
   "outputs": [
    {
     "name": "stdout",
     "output_type": "stream",
     "text": [
      "Loading train data for AlexNet : \n"
     ]
    },
    {
     "ename": "TypeError",
     "evalue": "only integer scalar arrays can be converted to a scalar index",
     "output_type": "error",
     "traceback": [
      "\u001B[31m---------------------------------------------------------------------------\u001B[39m",
      "\u001B[31mTypeError\u001B[39m                                 Traceback (most recent call last)",
      "\u001B[36mCell\u001B[39m\u001B[36m \u001B[39m\u001B[32mIn[51]\u001B[39m\u001B[32m, line 19\u001B[39m\n\u001B[32m     16\u001B[39m     \u001B[38;5;28;01mreturn\u001B[39;00m np.array(resized_images, dtype =\u001B[33m'\u001B[39m\u001B[33mfloat32\u001B[39m\u001B[33m'\u001B[39m)\n\u001B[32m     18\u001B[39m \u001B[38;5;28mprint\u001B[39m(\u001B[33m'\u001B[39m\u001B[33mLoading train data for AlexNet : \u001B[39m\u001B[33m'\u001B[39m)\n\u001B[32m---> \u001B[39m\u001B[32m19\u001B[39m alex_train = \u001B[43mresize_images\u001B[49m\u001B[43m(\u001B[49m\u001B[43mx_train\u001B[49m\u001B[43m,\u001B[49m\u001B[43m \u001B[49m\u001B[43malexnet_img_size\u001B[49m\u001B[43m)\u001B[49m\n\u001B[32m     21\u001B[39m \u001B[38;5;28mprint\u001B[39m(\u001B[33m'\u001B[39m\u001B[33mLoading test data for AlexNet : \u001B[39m\u001B[33m'\u001B[39m)\n\u001B[32m     22\u001B[39m alex_test = resize_images(x_test, alexnet_img_size)\n",
      "\u001B[36mCell\u001B[39m\u001B[36m \u001B[39m\u001B[32mIn[51]\u001B[39m\u001B[32m, line 12\u001B[39m, in \u001B[36mresize_images\u001B[39m\u001B[34m(images, img_size)\u001B[39m\n\u001B[32m      9\u001B[39m \u001B[38;5;28;01mdef\u001B[39;00m\u001B[38;5;250m \u001B[39m\u001B[34mresize_images\u001B[39m(images, img_size):\n\u001B[32m     10\u001B[39m     resized_images = []\n\u001B[32m---> \u001B[39m\u001B[32m12\u001B[39m     \u001B[38;5;28;01mfor\u001B[39;00m i \u001B[38;5;129;01min\u001B[39;00m tqdm(\u001B[38;5;28;43mrange\u001B[39;49m\u001B[43m(\u001B[49m\u001B[43mimages\u001B[49m\u001B[43m)\u001B[49m):\n\u001B[32m     13\u001B[39m         img = cv2.cvtColor(images[i], cv2.COLOR_GRAY2RGB)\n\u001B[32m     14\u001B[39m         resized_images.append(resize(img, (img_size), mode=\u001B[33m'\u001B[39m\u001B[33mconstant\u001B[39m\u001B[33m'\u001B[39m))\n",
      "\u001B[31mTypeError\u001B[39m: only integer scalar arrays can be converted to a scalar index"
     ]
    },
    {
     "data": {
      "text/plain": [
       "<Figure size 640x480 with 1 Axes>"
      ],
      "image/png": "[encoded data removed]"
     },
     "metadata": {},
     "output_type": "display_data"
    }
   ],
   "execution_count": 51
  },
  {
   "metadata": {
    "ExecuteTime": {
     "end_time": "2025-07-19T08:17:21.882490Z",
     "start_time": "2025-07-19T08:16:44.449662Z"
    }
   },
   "cell_type": "code",
   "source": [
    "# 이미지 크기 조정 함수\n",
    "def resize_images(images, img_size):\n",
    "    resized_images = []\n",
    "\n",
    "    for i in tqdm(range(len(images))):\n",
    "        img = cv2.cvtColor(images[i], cv2.COLOR_GRAY2RGB)\n",
    "        resized_images.append(resize(img, img_size, mode='constant'))\n",
    "\n",
    "    return np.array(resized_images, dtype ='float32')\n",
    "\n",
    "print('Loading train data for AlexNet : ')\n",
    "alex_train = resize_images(x_train, alexnet_img_size)\n",
    "\n",
    "print('Loading test data for AlexNet : ')\n",
    "alex_test = resize_images(x_test, alexnet_img_size)"
   ],
   "id": "1dea61dff267f15c",
   "outputs": [
    {
     "name": "stdout",
     "output_type": "stream",
     "text": [
      "Loading train data for AlexNet : \n"
     ]
    },
    {
     "name": "stderr",
     "output_type": "stream",
     "text": [
      "100%|██████████| 2000/2000 [00:17<00:00, 112.69it/s]\n"
     ]
    },
    {
     "name": "stdout",
     "output_type": "stream",
     "text": [
      "Loading test data for AlexNet : \n"
     ]
    },
    {
     "name": "stderr",
     "output_type": "stream",
     "text": [
      "100%|██████████| 2000/2000 [00:17<00:00, 112.77it/s]\n"
     ]
    }
   ],
   "execution_count": 54
  },
  {
   "metadata": {
    "ExecuteTime": {
     "end_time": "2025-07-19T08:21:08.939289Z",
     "start_time": "2025-07-19T08:21:08.506709Z"
    }
   },
   "cell_type": "code",
   "source": [
    "# 데이터 셔플 및 검증 데이터 분할\n",
    "alex_train, alex_train_labels = shuffle(alex_train, y_train, random_state=10)\n",
    "\n",
    "alex_val, alex_val_labels = alex_train[:int(no_of_images/5)], alex_train_labels[:int(no_of_images/5)]\n",
    "\n",
    "alex_sample = alex_train[n]\n",
    "\n",
    "plt.subplot(1, 2, 1)\n",
    "plt.imshow(alex_sample)\n",
    "plt.title('Digit : ' + str(alex_train_labels[n]))\n"
   ],
   "id": "6e2f2ec1bb11a66f",
   "outputs": [
    {
     "data": {
      "text/plain": [
       "Text(0.5, 1.0, 'Digit : 5')"
      ]
     },
     "execution_count": 58,
     "metadata": {},
     "output_type": "execute_result"
    },
    {
     "data": {
      "text/plain": [
       "<Figure size 640x480 with 1 Axes>"
      ],
      "image/png": "[encoded data removed]"
     },
     "metadata": {},
     "output_type": "display_data"
    }
   ],
   "execution_count": 58
  }
 ],
 "metadata": {
  "kernelspec": {
   "display_name": "Python 3",
   "language": "python",
   "name": "python3"
  },
  "language_info": {
   "codemirror_mode": {
    "name": "ipython",
    "version": 2
   },
   "file_extension": ".py",
   "mimetype": "text/x-python",
   "name": "python",
   "nbconvert_exporter": "python",
   "pygments_lexer": "ipython2",
   "version": "2.7.6"
  }
 },
 "nbformat": 4,
 "nbformat_minor": 5
}

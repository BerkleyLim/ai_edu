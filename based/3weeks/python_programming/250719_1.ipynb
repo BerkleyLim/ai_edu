{
 "cells": [
  {
   "metadata": {},
   "cell_type": "markdown",
   "source": "# 3주차 - 250719",
   "id": "344e0b7dde47b730"
  },
  {
   "metadata": {},
   "cell_type": "markdown",
   "source": [
    "# CNN\n",
    "## CNN(Convolution Neural Network) 역사\n",
    "- 1989년 LeCun이 발표한 논문 \"Backpropagation applied to handwritten zip code recognition\" 에서 처음 소개됨\n",
    "- 2003년 Behnke의 논문 \"Hierarchical Neural Networks for Image Interpretation\"을 통해 일반화\n",
    "- Simard 논문 \"Best Practices for Convolutional Neural Networks Applied to Visual Document Analysis\"에서 단순화\n",
    "\n",
    "## 기존 MLNN(Multi-Layer NN) 문제점\n",
    "- 변수 갯수\n",
    "- 네트워크 크기\n",
    "- 학습 시간\n",
    "\n",
    "## CNN 구조\n",
    "- 합성곱 계층(Convolutional Layer)과 풀링 계층(Pooling Layer) 추가\n",
    "\n",
    "### 합성곱 계층 (Convolution Layer) - 위에서 아래로 순서대로 CNN 작동\n",
    "- 패딩(padding), 스트라이트(Stride)\n",
    "- 필터(Filter, 또는 합성곱 커널)\n",
    "- 특성 맵(Feature map)\n",
    "- 풀링 계층(Pooling Layer)\n",
    "\n",
    "#### 합성곱 계층 특징\n",
    "- 이미지 데이터는 세로, 가로 채널(색상)으로 구성된 데이터\n",
    "- MNIST 데이터는 원래 (1, 28, 28)인 3차원 데이터\n",
    "    -> Affine 계층에 입력 시 (28 * 28 = 784)개의 1차원 입력\n",
    "- 합성곱 계층의 입출력 데이터를 특징 맵 (Feature Map)이라고 함\n",
    "- 합성곱 계층에서 입력 데이터를 3차원으로 입력 받으며, 출력 또한 3차원으로 출력\n",
    "\n",
    "#### 합성곱 계층 - 연산\n",
    "- 합성곱 계층에서 연산 수행 -> 필터(커널) 연산\n",
    "- 데이터와 필터의 형상을 (높이, 너비)로 표기\n",
    "- 윈도우를 일정 간격(Stride)으로 이동하며 계산\n",
    "\n",
    "#### 합성곱 계층 - 패딩(Padding)\n",
    "- 합성곱 연산을 수행하기 전, 입력 데이터 주변을 특정값으로 채우는 것\n",
    "- 패딩은 출력데이터의 공간적 크기를 조절하기 위해 사용\n",
    "- 패딩은 hyperparameter로 어떤 값으로 채울지 결정할 수 있음\n",
    "- Padding을 사용하지 않을 경우, 데이터의 Spatial 크기는 Conv 레이어를 지날 때 마다 작아지게 되고, 가장자리의 정보들이 사라지게 되므로 사용\n",
    "- 대부분 바깥은 0으로\n",
    "\n",
    "\n",
    "#### 합성곱 계층 - 스트라이트(Stride)\n",
    "- 필터의 적용하는 위치의 간격\n",
    "- Stride는 출력 데이터의 크기를 조정하기 위해 사용\n",
    "- Stride 값은 보통 1과 같이 작은 값이 더 잘 작동\n",
    "- Stride 값이 1일 경우, 데이터의 Spatial 크기는 Padding 계층에서만 조절 가능\n",
    "\n",
    "\n",
    "#### 합성곱 계층 - 필터(Filter)\n",
    "- 추출하려는 이미지의 특징이 대상 데이터에 있는지 없는지 검출해주는 함수\n",
    "\n",
    "\n",
    "#### 합성곱 계층 - 특징맵(Feature Map)\n",
    "\n",
    "\n",
    "\n",
    "#### 합성곱 계층 - 3차원 데이터의 연산\n",
    "\n",
    "\n",
    "\n",
    "\n",
    "#### 합성곱 계층 - 배치처리\n",
    "- 데이터의 차원을 늘려 4차원 데이터로 저장\n",
    "- (데이터 수, 채널 수, 높이, 너비)로 저장\n",
    "\n",
    "\n",
    "\n",
    "#### 합성곱 계층 - 폴링 계층(Pooling Layer)\n",
    "- 데이터의 공간적 크기를 축소하는데 사용\n",
    "- 평균적으로 윈도우 크기와 스트라이드 값은 같은 값으로 설정\n",
    "    - ex) 윈도우 3*3, 스트라이트 3\n",
    "- 합성곱 계층에서도 Padding과 Stride를 통해 출력 데이터의 크기를 조정할 수 있음\n",
    "- Conv 레이어에서는 출력 데이터의 Spatial 크기를 입력 데이터의 크기를 그대로 유지하고, Pooling 계층에서만 Spatial 크기를 조절할 수 있도록 함\n",
    "\n",
    "\n",
    "\n",
    "#### CNN 활용 사례\n",
    "- 이미지 분류(Image Classification) : 개, 고양이, 자동차 등 다양한 객체를 분류\n",
    "- 객체 탐지(Object Detection): 사진 속 특정 객체 위치를 인식 (YOLO, Faster R-CNN)\n",
    "-\n",
    "\n",
    "\n"
   ],
   "id": "1dc96e15ecf35264"
  },
  {
   "cell_type": "code",
   "id": "initial_id",
   "metadata": {
    "collapsed": true,
    "ExecuteTime": {
     "end_time": "2025-07-19T05:15:31.905032Z",
     "start_time": "2025-07-19T05:15:31.729657Z"
    }
   },
   "source": [
    "# MNIST 실습 코드\n",
    "from tensorflow.keras.datasets import mnist\n",
    "from tensorflow.keras.utils import to_categorical\n",
    "\n",
    "import matplotlib.pyplot as plt\n",
    "import sys\n",
    "\n",
    "# 로컬인경우 표현하실분\n",
    "path = '.'\n",
    "# 코랩인경우\n",
    "# path = '/content/drive/MyDrive/★ 클뉴즈sw/인공지능(AI) 교육/코랩실습/3주차'\n",
    "\n",
    "\n",
    "\n",
    "# MNIST 데이터셋을 불러와 학습셋과 테스트셋으로 저장합니다.\n",
    "(X_train, y_train), (X_test, y_test) = mnist.load_data()\n",
    "\n",
    "# 학습셋과 테스트셋이 각각 몇 개의 이미지로 되어 있는지 확인합니다.\n",
    "print(\"학습셋 이미지 수 : %d 개\" % (X_train.shape[0]))\n",
    "print(\"테스트셋 이미지 수 : %d 개\" % (X_test.shape[0]))\n"
   ],
   "outputs": [
    {
     "name": "stdout",
     "output_type": "stream",
     "text": [
      "학습셋 이미지 수 : 60000 개\n",
      "테스트셋 이미지 수 : 10000 개\n"
     ]
    }
   ],
   "execution_count": 2
  }
 ],
 "metadata": {
  "kernelspec": {
   "display_name": "Python 3",
   "language": "python",
   "name": "python3"
  },
  "language_info": {
   "codemirror_mode": {
    "name": "ipython",
    "version": 2
   },
   "file_extension": ".py",
   "mimetype": "text/x-python",
   "name": "python",
   "nbconvert_exporter": "python",
   "pygments_lexer": "ipython2",
   "version": "2.7.6"
  }
 },
 "nbformat": 4,
 "nbformat_minor": 5
}

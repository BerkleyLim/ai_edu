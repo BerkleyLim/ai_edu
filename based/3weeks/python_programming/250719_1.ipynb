{
 "cells": [
  {
   "metadata": {},
   "cell_type": "markdown",
   "source": "# 3주차 - 250719",
   "id": "344e0b7dde47b730"
  },
  {
   "metadata": {},
   "cell_type": "markdown",
   "source": [
    "# CNN\n",
    "## CNN(Convolution Neural Network) 역사\n",
    "- 1989년 LeCun이 발표한 논문 \"Backpropagation applied to handwritten zip code recognition\" 에서 처음 소개됨\n",
    "- 2003년 Behnke의 논문 \"Hierarchical Neural Networks for Image Interpretation\"을 통해 일반화\n",
    "- Simard 논문 \"Best Practices for Convolutional Neural Networks Applied to Visual Document Analysis\"에서 단순화\n",
    "\n",
    "## 기존 MLNN(Multi-Layer NN) 문제점\n",
    "- 변수 갯수\n",
    "- 네트워크 크기\n",
    "- 학습 시간\n",
    "\n",
    "## CNN 구조\n",
    "- 합성곱 계층(Convolutional Layer)과 풀링 계층(Pooling Layer) 추가\n",
    "\n",
    "### 합성곱 계층 (Convolution Layer)\n",
    "- 패딩(padding), 스트라이트(Stride)\n",
    "- 필터(Filter, 또는 합성곱 커널)\n",
    "- 특성 맵(Feature map)\n",
    "- 풀링 계층(Pooling Layer)\n",
    "\n",
    "#### 합성곱 계층 특징\n",
    "- 이미지 데이터는 세로, 가로 채널(색상)으로 구성된 데이터\n",
    "- MNIST 데이터는 원래 (1, 28, 28)인 3차원 데이터\n",
    "    -> Affine 계층에 입력 시 (28 * 28 = 784)개의 1차원 입력\n",
    "- 합성곱 계층의 입출력 데이터를 특징 맵 (Feature Map)이라고 함\n",
    "- 합성곱 계층에서 입력 데이터를 3차원으로 입력 받으며, 출력 또한"
   ],
   "id": "1dc96e15ecf35264"
  },
  {
   "cell_type": "code",
   "execution_count": null,
   "id": "initial_id",
   "metadata": {
    "collapsed": true
   },
   "outputs": [],
   "source": [
    ""
   ]
  }
 ],
 "metadata": {
  "kernelspec": {
   "display_name": "Python 3",
   "language": "python",
   "name": "python3"
  },
  "language_info": {
   "codemirror_mode": {
    "name": "ipython",
    "version": 2
   },
   "file_extension": ".py",
   "mimetype": "text/x-python",
   "name": "python",
   "nbconvert_exporter": "python",
   "pygments_lexer": "ipython2",
   "version": "2.7.6"
  }
 },
 "nbformat": 4,
 "nbformat_minor": 5
}

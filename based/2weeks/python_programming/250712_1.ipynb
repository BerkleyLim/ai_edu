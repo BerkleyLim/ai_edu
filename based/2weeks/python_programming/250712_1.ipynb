{
 "cells": [
  {
   "metadata": {},
   "cell_type": "markdown",
   "source": [
    "# 데이터 핸들링\n",
    "- 데이터 분석을 위한 기본 개념과 Python에서 데이터 다루는 법 학습\n",
    "\n",
    "## 데이터 사이언스\n",
    "- 데이터를 수집, 처리, 분석하여 가치 있는 정보를 도출하는 과정\n",
    "\n",
    "## 데이터의 핸들링의 중요성\n",
    "- 데이터를 올바르게 다루지 않으면 분석 결과를 신뢰할 수 없음\n",
    "- 잘 정리된 데이터는 더 나은 모델과 의사 결정을 가능하게 함\n",
    "\n",
    "## 데이터 종류\n",
    "1. 정형 데이터: 테이블 형테 (엑셀, 관계형 데이터베이스 등)\n",
    "2. 반정형 데이터: 구조가 있지만 유연함 (JSON, XML, 로그 데이터 등)\n",
    "3. 비정형 데이터: 텍스트, 이미지, 오디오, 영상 등\n",
    "\n",
    "## 데이터 분석 기본 프로세스\n",
    "1. 데이터 수집: 웹 크롤링, 데이터베이스, API 등\n",
    "2. 데이터 전처리: 결측치(비어있는 값) 처리, 중복 제거, 정규화 등\n",
    "3. 탐색적 데이터 분석: 시각화 및 패턴 분석\n",
    "4. 데이터 모델링: 머신러닝, 통계 분석, 딥러닝\n",
    "5. 결과 해석 및 시각화\n",
    "\n",
    "## 주요 사용하는 Python 라이브러리\n",
    "- Numpy: 다차원 배열, 수치 연산\n",
    "- Pandas: 데이터 프레임 이용한 데이터 조작\n",
    "- Matplotlib/Seaborn: 데이터 시각화\n",
    "- Scikit-learn: 머신러닝 및 모델링\n",
    "- BeautifulSoup/Selenium: 웹 크롤링"
   ],
   "id": "9fe1cce9ea2314c6"
  },
  {
   "metadata": {},
   "cell_type": "code",
   "outputs": [],
   "execution_count": null,
   "source": [
    "# colab 사용시 환경 드라이버\n",
    "from google.colab import drive\n",
    "drive.mount('/content/drive')"
   ],
   "id": "d8a33a1d3406e028"
  },
  {
   "metadata": {},
   "cell_type": "markdown",
   "source": [
    "# Pandas 란?\n",
    "- 데이터 분석을 위한 Python 라이브러리, 테이블 형태의 데이터를 쉽게 조작하고 분석 가능\n",
    "- Dataframe 메서드로 엑셀과 비슷한 표 데이터 다룰 수 있음\n",
    "\n",
    "## Pandas의 데이터 종류\n",
    "- Series: 1차원배열\n",
    "- Dataframe: 2차원배열\n",
    "- 각 인덱스를 가지고 있고, 순서를 나타내는 숫자, 사전형에서 사용하는 키 인덱스 모두 포함\n",
    "\n",
    "## Pandas 주요 기능\n",
    "1. 데이터 로딩 및 저장\n",
    "    - CSV, 엑셀, 데이터베이스 등 데이터 파일 불러오고, 분석 결과를 원하는 포맷으로 저장\n",
    "2. 데이터 변환\n",
    "    - 필터링: 원하는 데이터만 골라내는 역할\n",
    "    - 정렬: 특정 기준에 따라 데이터 나타냄\n",
    "    - 그룹화: 특정 항목 기준으로 데이터 묶어서 통계화\n",
    "3. 결측치(비어있는 값) 처리\n",
    "4. 데이터시각화\n",
    "\n"
   ],
   "id": "6cfccb16f4148bd"
  },
  {
   "cell_type": "code",
   "id": "initial_id",
   "metadata": {
    "collapsed": true,
    "ExecuteTime": {
     "end_time": "2025-07-12T05:12:51.220538Z",
     "start_time": "2025-07-12T05:12:51.218220Z"
    }
   },
   "source": [
    "# pandas 라이브러리 불러오기\n",
    "# 미리 !pip install pandas 로 설치 후 사용할것\n",
    "import pandas as pd\n",
    "\n",
    "# series 생성\n",
    "s = pd.Series([10, 20, 30, 40], index=['a', 'b', 'c', 'd'])\n",
    "print(s);"
   ],
   "outputs": [
    {
     "name": "stdout",
     "output_type": "stream",
     "text": [
      "a    10\n",
      "b    20\n",
      "c    30\n",
      "d    40\n",
      "dtype: int64\n"
     ]
    }
   ],
   "execution_count": 2
  },
  {
   "metadata": {
    "ExecuteTime": {
     "end_time": "2025-07-12T05:15:14.927810Z",
     "start_time": "2025-07-12T05:15:14.920741Z"
    }
   },
   "cell_type": "code",
   "source": [
    "# pandas 라이브러리 불러오기\n",
    "# 미리 !pip install pandas 로 설치 후 사용할것\n",
    "import pandas as pd\n",
    "\n",
    "# dataframe 생성\n",
    "data = {'이름': ['홍길동', '이몽룡', '성춘향'],\n",
    "        '나이': [25, 22, 24],\n",
    "        '점수': [90, 85, 88]}\n",
    "df = pd.DataFrame(data)\n",
    "print(df)"
   ],
   "id": "633958e65061283a",
   "outputs": [
    {
     "name": "stdout",
     "output_type": "stream",
     "text": [
      "    이름  나이  점수\n",
      "0  홍길동  25  90\n",
      "1  이몽룡  22  85\n",
      "2  성춘향  24  88\n"
     ]
    }
   ],
   "execution_count": 4
  },
  {
   "metadata": {
    "ExecuteTime": {
     "end_time": "2025-07-12T05:23:04.620368Z",
     "start_time": "2025-07-12T05:23:04.603176Z"
    }
   },
   "cell_type": "code",
   "source": [
    "# pandas 라이브러리 불러오기\n",
    "# 미리 !pip install pandas 로 설치 후 사용할것\n",
    "import pandas as pd\n",
    "\n",
    "# dataframe 생성\n",
    "data = {'이름': ['홍길동', '이몽룡', '성춘향'],\n",
    "        '나이': [25, 22, 24],\n",
    "        '점수': [90, 85, 88]}\n",
    "df = pd.DataFrame(data)\n",
    "\n",
    "print(df.info()) # 데이터 구조 확인\n",
    "print(df.describe()) # 통계 요약"
   ],
   "id": "738ebaa6baa4cac6",
   "outputs": [
    {
     "name": "stdout",
     "output_type": "stream",
     "text": [
      "<class 'pandas.core.frame.DataFrame'>\n",
      "RangeIndex: 3 entries, 0 to 2\n",
      "Data columns (total 3 columns):\n",
      " #   Column  Non-Null Count  Dtype \n",
      "---  ------  --------------  ----- \n",
      " 0   이름      3 non-null      object\n",
      " 1   나이      3 non-null      int64 \n",
      " 2   점수      3 non-null      int64 \n",
      "dtypes: int64(2), object(1)\n",
      "memory usage: 204.0+ bytes\n",
      "None\n",
      "              나이         점수\n",
      "count   3.000000   3.000000\n",
      "mean   23.666667  87.666667\n",
      "std     1.527525   2.516611\n",
      "min    22.000000  85.000000\n",
      "25%    23.000000  86.500000\n",
      "50%    24.000000  88.000000\n",
      "75%    24.500000  89.000000\n",
      "max    25.000000  90.000000\n"
     ]
    }
   ],
   "execution_count": 5
  },
  {
   "metadata": {
    "ExecuteTime": {
     "end_time": "2025-07-12T05:24:24.932831Z",
     "start_time": "2025-07-12T05:24:24.927494Z"
    }
   },
   "cell_type": "code",
   "source": [
    "# pandas 라이브러리 불러오기\n",
    "# 미리 !pip install pandas 로 설치 후 사용할것\n",
    "import pandas as pd\n",
    "\n",
    "# dataframe 생성\n",
    "data = {'이름': ['홍길동', '이몽룡', '성춘향'],\n",
    "        '나이': [25, 22, 24],\n",
    "        '점수': [90, 85, 88]}\n",
    "df = pd.DataFrame(data)\n",
    "df.index = ['학생1', '학생2', '학생3']\n",
    "\n",
    "print(df) # 데이터 인덱스 조회"
   ],
   "id": "d62c2ba6b0bab9a3",
   "outputs": [
    {
     "name": "stdout",
     "output_type": "stream",
     "text": [
      "      이름  나이  점수\n",
      "학생1  홍길동  25  90\n",
      "학생2  이몽룡  22  85\n",
      "학생3  성춘향  24  88\n"
     ]
    }
   ],
   "execution_count": 6
  },
  {
   "metadata": {},
   "cell_type": "code",
   "outputs": [],
   "execution_count": null,
   "source": [
    "# CSV 데이터 생성\n",
    "\n",
    "import pandas as pd\n",
    "\n",
    "# 예제 데이터 생성\n",
    "data = {\n",
    "    '이름': ['홍길동', '이']\n",
    "}\n"
   ],
   "id": "c54c81c1fdf4f6fb"
  }
 ],
 "metadata": {
  "kernelspec": {
   "display_name": "Python 3",
   "language": "python",
   "name": "python3"
  },
  "language_info": {
   "codemirror_mode": {
    "name": "ipython",
    "version": 2
   },
   "file_extension": ".py",
   "mimetype": "text/x-python",
   "name": "python",
   "nbconvert_exporter": "python",
   "pygments_lexer": "ipython2",
   "version": "2.7.6"
  }
 },
 "nbformat": 4,
 "nbformat_minor": 5
}

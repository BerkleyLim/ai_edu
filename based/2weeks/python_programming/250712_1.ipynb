{
 "cells": [
  {
   "metadata": {},
   "cell_type": "markdown",
   "source": [
    "# 데이터 핸들링\n",
    "- 데이터 분석을 위한 기본 개념과 Python에서 데이터 다루는 법 학습\n",
    "\n",
    "## 데이터 사이언스\n",
    "- 데이터를 수집, 처리, 분석하여 가치 있는 정보를 도출하는 과정\n",
    "\n",
    "## 데이터의 핸들링의 중요성\n",
    "- 데이터를 올바르게 다루지 않으면 분석 결과를 신뢰할 수 없음\n",
    "- 잘 정리된 데이터는 더 나은 모델과 의사 결정을 가능하게 함\n",
    "\n",
    "## 데이터 종류\n",
    "1. 정형 데이터: 테이블 형테 (엑셀, 관계형 데이터베이스 등)\n",
    "2. 반정형 데이터: 구조가 있지만 유연함 (JSON, XML, 로그 데이터 등)\n",
    "3. 비정형 데이터: 텍스트, 이미지, 오디오, 영상 등\n",
    "\n",
    "## 데이터 분석 기본 프로세스\n",
    "1. 데이터 수집: 웹 크롤링, 데이터베이스, API 등\n",
    "2. 데이터 전처리: 결측치(비어있는 값) 처리, 중복 제거, 정규화 등\n",
    "3. 탐색적 데이터 분석: 시각화 및 패턴 분석\n",
    "4. 데이터 모델링: 머신러닝, 통계 분석, 딥러닝\n",
    "5. 결과 해석 및 시각화\n",
    "\n",
    "## 주요 사용하는 Python 라이브러리\n",
    "- Numpy: 다차원 배열, 수치 연산\n",
    "- Pandas: 데이터 프레임 이용한 데이터 조작\n",
    "- Matplotlib/Seaborn: 데이터 시각화\n",
    "- Scikit-learn: 머신러닝 및 모델링\n",
    "- BeautifulSoup/Selenium: 웹 크롤링"
   ],
   "id": "9fe1cce9ea2314c6"
  },
  {
   "metadata": {},
   "cell_type": "code",
   "outputs": [],
   "execution_count": null,
   "source": [
    "# colab 사용시 환경 드라이버\n",
    "from google.colab import drive\n",
    "drive.mount('/content/drive')"
   ],
   "id": "d8a33a1d3406e028"
  },
  {
   "metadata": {},
   "cell_type": "markdown",
   "source": [
    "# Pandas 란?\n",
    "- 데이터 분석을 위한 Python 라이브러리, 테이블 형태의 데이터를 쉽게 조작하고 분석 가능\n",
    "- Dataframe 메서드로 엑셀과 비슷한 표 데이터 다룰 수 있음\n",
    "\n",
    "## Pandas의 데이터 종류\n",
    "- Series: 1차원배열\n",
    "- Dataframe: 2차원배열\n",
    "- 각 인덱스를 가지고 있고, 순서를 나타내는 숫자, 사전형에서 사용하는 키 인덱스 모두 포함\n",
    "\n",
    "## Pandas 주요 기능\n",
    "1. 데이터 로딩 및 저장\n",
    "    - CSV, 엑셀, 데이터베이스 등 데이터 파일 불러오고, 분석 결과를 원하는 포맷으로 저장\n",
    "2. 데이터 변환\n",
    "    - 필터링: 원하는 데이터만 골라내는 역할\n",
    "    - 정렬: 특정 기준에 따라 데이터 나타냄\n",
    "    - 그룹화: 특정 항목 기준으로 데이터 묶어서 통계화\n",
    "3. 결측치(비어있는 값) 처리\n",
    "4. 데이터시각화\n",
    "\n"
   ],
   "id": "6cfccb16f4148bd"
  },
  {
   "cell_type": "code",
   "id": "initial_id",
   "metadata": {
    "collapsed": true,
    "ExecuteTime": {
     "end_time": "2025-07-12T05:12:51.220538Z",
     "start_time": "2025-07-12T05:12:51.218220Z"
    }
   },
   "source": [
    "# pandas 라이브러리 불러오기\n",
    "# 미리 !pip install pandas 로 설치 후 사용할것\n",
    "import pandas as pd\n",
    "\n",
    "# series 생성\n",
    "s = pd.Series([10, 20, 30, 40], index=['a', 'b', 'c', 'd'])\n",
    "print(s);"
   ],
   "outputs": [
    {
     "name": "stdout",
     "output_type": "stream",
     "text": [
      "a    10\n",
      "b    20\n",
      "c    30\n",
      "d    40\n",
      "dtype: int64\n"
     ]
    }
   ],
   "execution_count": 2
  },
  {
   "metadata": {
    "ExecuteTime": {
     "end_time": "2025-07-12T05:15:14.927810Z",
     "start_time": "2025-07-12T05:15:14.920741Z"
    }
   },
   "cell_type": "code",
   "source": [
    "# pandas 라이브러리 불러오기\n",
    "# 미리 !pip install pandas 로 설치 후 사용할것\n",
    "import pandas as pd\n",
    "\n",
    "# dataframe 생성\n",
    "data = {'이름': ['홍길동', '이몽룡', '성춘향'],\n",
    "        '나이': [25, 22, 24],\n",
    "        '점수': [90, 85, 88]}\n",
    "df = pd.DataFrame(data)\n",
    "print(df)"
   ],
   "id": "633958e65061283a",
   "outputs": [
    {
     "name": "stdout",
     "output_type": "stream",
     "text": [
      "    이름  나이  점수\n",
      "0  홍길동  25  90\n",
      "1  이몽룡  22  85\n",
      "2  성춘향  24  88\n"
     ]
    }
   ],
   "execution_count": 4
  },
  {
   "metadata": {
    "ExecuteTime": {
     "end_time": "2025-07-12T05:23:04.620368Z",
     "start_time": "2025-07-12T05:23:04.603176Z"
    }
   },
   "cell_type": "code",
   "source": [
    "# pandas 라이브러리 불러오기\n",
    "# 미리 !pip install pandas 로 설치 후 사용할것\n",
    "import pandas as pd\n",
    "\n",
    "# dataframe 생성\n",
    "data = {'이름': ['홍길동', '이몽룡', '성춘향'],\n",
    "        '나이': [25, 22, 24],\n",
    "        '점수': [90, 85, 88]}\n",
    "df = pd.DataFrame(data)\n",
    "\n",
    "print(df.info()) # 데이터 구조 확인\n",
    "print(df.describe()) # 통계 요약"
   ],
   "id": "738ebaa6baa4cac6",
   "outputs": [
    {
     "name": "stdout",
     "output_type": "stream",
     "text": [
      "<class 'pandas.core.frame.DataFrame'>\n",
      "RangeIndex: 3 entries, 0 to 2\n",
      "Data columns (total 3 columns):\n",
      " #   Column  Non-Null Count  Dtype \n",
      "---  ------  --------------  ----- \n",
      " 0   이름      3 non-null      object\n",
      " 1   나이      3 non-null      int64 \n",
      " 2   점수      3 non-null      int64 \n",
      "dtypes: int64(2), object(1)\n",
      "memory usage: 204.0+ bytes\n",
      "None\n",
      "              나이         점수\n",
      "count   3.000000   3.000000\n",
      "mean   23.666667  87.666667\n",
      "std     1.527525   2.516611\n",
      "min    22.000000  85.000000\n",
      "25%    23.000000  86.500000\n",
      "50%    24.000000  88.000000\n",
      "75%    24.500000  89.000000\n",
      "max    25.000000  90.000000\n"
     ]
    }
   ],
   "execution_count": 5
  },
  {
   "metadata": {
    "ExecuteTime": {
     "end_time": "2025-07-12T05:24:24.932831Z",
     "start_time": "2025-07-12T05:24:24.927494Z"
    }
   },
   "cell_type": "code",
   "source": [
    "# pandas 라이브러리 불러오기\n",
    "# 미리 !pip install pandas 로 설치 후 사용할것\n",
    "import pandas as pd\n",
    "\n",
    "# dataframe 생성\n",
    "data = {'이름': ['홍길동', '이몽룡', '성춘향'],\n",
    "        '나이': [25, 22, 24],\n",
    "        '점수': [90, 85, 88]}\n",
    "df = pd.DataFrame(data)\n",
    "df.index = ['학생1', '학생2', '학생3']\n",
    "\n",
    "print(df) # 데이터 인덱스 조회"
   ],
   "id": "d62c2ba6b0bab9a3",
   "outputs": [
    {
     "name": "stdout",
     "output_type": "stream",
     "text": [
      "      이름  나이  점수\n",
      "학생1  홍길동  25  90\n",
      "학생2  이몽룡  22  85\n",
      "학생3  성춘향  24  88\n"
     ]
    }
   ],
   "execution_count": 6
  },
  {
   "metadata": {
    "ExecuteTime": {
     "end_time": "2025-07-12T05:46:13.402031Z",
     "start_time": "2025-07-12T05:46:13.389527Z"
    }
   },
   "cell_type": "code",
   "source": [
    "# EXCEL 데이터 생성\n",
    "import pandas as pd\n",
    "# import os\n",
    "\n",
    "# 예제 데이터 생성\n",
    "data = {\n",
    "    '이름': ['홍길동', '이몽룡', '성춘향', '변학도', '박문수'],\n",
    "    '나이': [25, 22, 24, 27, 26],\n",
    "    '점수': [90, 85, 88, 76, 95],\n",
    "    '도시': ['서울', '부산', '서울', '대구', '광주']\n",
    "}\n",
    "\n",
    "# 데이터 프레임 생성\n",
    "df = pd.DataFrame(data)\n",
    "\n",
    "# csv 파일로 저장\n",
    "\n",
    "# 로컬인경우 표현하실분\n",
    "path = './week2_data'\n",
    "# os.makedirs(path, exist_ok=True)\n",
    "# 코랩인경우\n",
    "# path = '/content/drive/MyDrive/★ 클뉴즈sw/인공지능(AI) 교육/코랩실습/2주차/week2_data'\n",
    "# df.to_excel(f'{path}/pandas_example2.xlsx', sheet_name='학생정보')  # 코랩용\n",
    "df.to_excel(f'{path}/pandas_example2.xlsx', sheet_name='학생정보', engine='openpyxl') # 주피터노트용\n",
    "\n"
   ],
   "id": "c54c81c1fdf4f6fb",
   "outputs": [],
   "execution_count": 21
  },
  {
   "metadata": {},
   "cell_type": "code",
   "outputs": [],
   "execution_count": null,
   "source": [
    "#  데이터 생성\n",
    "import pandas as pd\n",
    "# import os\n",
    "\n",
    "# 예제 데이터 생성\n",
    "data = {\n",
    "    '이름': ['홍길동', '이몽룡', '성춘향', '변학도', '박문수'],\n",
    "    '나이': [25, 22, 24, 27, 26],\n",
    "    '점수': [90, 85, 88, 76, 95],\n",
    "    '도시': ['서울', '부산', '서울', '대구', '광주']\n",
    "}\n",
    "\n",
    "# 데이터 프레임 생성\n",
    "df = pd.DataFrame(data)\n",
    "\n",
    "# csv 파일로 저장\n",
    "\n",
    "# 로컬인경우 표현하실분\n",
    "path = './week2_data'\n",
    "# os.makedirs(path, exist_ok=True)\n",
    "# 코랩인경우\n",
    "# path = '/content/drive/MyDrive/★ 클뉴즈sw/인공지능(AI) 교육/코랩실습/2주차/week2_data'\n",
    "df.to_csv(f'{path}/pandas_example1.csv', index=False, encoding='utf-8-sig')\n"
   ],
   "id": "47ba8c148ebfe1b7"
  },
  {
   "metadata": {
    "ExecuteTime": {
     "end_time": "2025-07-12T05:38:18.790633Z",
     "start_time": "2025-07-12T05:38:18.784240Z"
    }
   },
   "cell_type": "code",
   "source": [
    "# CSV 데이터 불러오기\n",
    "import pandas as pd\n",
    "\n",
    "# 로컬인경우 표현하실분\n",
    "path = './week2_data'\n",
    "# os.makedirs(path, exist_ok=True)\n",
    "# 코랩인경우\n",
    "# path = '/content/drive/MyDrive/★ 클뉴즈sw/인공지능(AI) 교육/코랩실습/2주차/week2_data'\n",
    "\n",
    "df = pd.read_csv(f'{path}/pandas_example1.csv')\n",
    "print(df.head()) # 상위 5개 행 출력\n"
   ],
   "id": "63cf8128519a8cb7",
   "outputs": [
    {
     "name": "stdout",
     "output_type": "stream",
     "text": [
      "    이름  나이  점수  도시\n",
      "0  홍길동  25  90  서울\n",
      "1  이몽룡  22  85  부산\n",
      "2  성춘향  24  88  서울\n",
      "3  변학도  27  76  대구\n",
      "4  박문수  26  95  광주\n"
     ]
    }
   ],
   "execution_count": 16
  },
  {
   "metadata": {
    "ExecuteTime": {
     "end_time": "2025-07-12T05:46:46.033473Z",
     "start_time": "2025-07-12T05:46:46.020410Z"
    }
   },
   "cell_type": "code",
   "source": [
    "# Excel 데이터 불러오기\n",
    "import pandas as pd\n",
    "\n",
    "# 로컬인경우 표현하실분\n",
    "path = './week2_data'\n",
    "# os.makedirs(path, exist_ok=True)\n",
    "# 코랩인경우\n",
    "# path = '/content/drive/MyDrive/★ 클뉴즈sw/인공지능(AI) 교육/코랩실습/2주차/week2_data'\n",
    "\n",
    "df = pd.read_excel(f'{path}/pandas_example2.xlsx')\n",
    "print(df.head()) # 상위 5개 행 출력\n"
   ],
   "id": "daa0747dbdf8fa4",
   "outputs": [
    {
     "name": "stdout",
     "output_type": "stream",
     "text": [
      "   Unnamed: 0   이름  나이  점수  도시\n",
      "0           0  홍길동  25  90  서울\n",
      "1           1  이몽룡  22  85  부산\n",
      "2           2  성춘향  24  88  서울\n",
      "3           3  변학도  27  76  대구\n",
      "4           4  박문수  26  95  광주\n"
     ]
    }
   ],
   "execution_count": 22
  },
  {
   "metadata": {
    "ExecuteTime": {
     "end_time": "2025-07-12T05:52:43.489276Z",
     "start_time": "2025-07-12T05:52:43.477776Z"
    }
   },
   "cell_type": "code",
   "source": [
    "import pandas as pd\n",
    "\n",
    "data = {\n",
    "    '이름': ['홍길동', '이몽룡', '성춘향', '변학도', '박문수'],\n",
    "    '나이': [25, 22, 24, 27, 26],\n",
    "    '점수': [90, 85, 88, 76, 95],\n",
    "    '도시': ['서울', '부산', '서울', '대구', '광주']\n",
    "}\n",
    "\n",
    "# 데이터 프레임 생성\n",
    "df = pd.DataFrame(data)\n",
    "\n",
    "# 로컬인경우 표현하실분\n",
    "path = './week2_data'\n",
    "# 코랩인경우\n",
    "# path = '/content/drive/MyDrive/★ 클뉴즈sw/인공지능(AI) 교육/코랩실습/2주차/week2_data'\n",
    "\n",
    "\n",
    "# 데이터 저장하기\n",
    "df.to_csv(f'{path}/pandas_example3.csv', index=False)\n",
    "df.to_excel(f'{path}/pandas_example4.xlsx', index=False)"
   ],
   "id": "92b60da3ef96e82f",
   "outputs": [],
   "execution_count": 23
  },
  {
   "metadata": {},
   "cell_type": "markdown",
   "source": [
    "### 데이터 확인 방법\n",
    "\n",
    "| 명령어(함수 및 속성)     | 설명                                       |\n",
    "|---------------------------|--------------------------------------------|\n",
    "| `info()`                  | 데이터 변수 확인                          |\n",
    "| `head()`                  | 첫번째부터 n행 확인 (기본값 n=5)          |\n",
    "| `tail()`                  | 마지막부터 n행 확인 (기본값 n=5)         |\n",
    "| `describe()`              | 숫자형 데이터 확인                        |\n",
    "| `shape`                   | 데이터의 행, 열 크기 확인                 |\n",
    "| `index`                   | 데이터프레임의 인덱스 확인                |\n",
    "| `columns`                 | 데이터프레임의 컬럼 명 확인               |\n",
    "| `dtypes`                  | 데이터프레임 자료형 확인                  |\n",
    "| `sort_values()`           | 데이터를 크기순으로 정렬하여 확인         |\n",
    "| `value_counts()`          | 데이터 빈도수 확인                        |\n",
    "| `unique()`                | 컬럼의 고유값 확인                        |\n",
    "\n",
    "### 데이터 통계 출력 함수 - describe() 정보 확인\n",
    "\n",
    "| 출력     | 설명                           |\n",
    "|----------|--------------------------------|\n",
    "| `count`  | 데이터 개수                    |\n",
    "| `mean`   | 평균                           |\n",
    "| `std`    | 표준편차                       |\n",
    "| `min`    | 최소값                         |\n",
    "| `25%`    | 1사분위수: 하위 25%            |\n",
    "| `50%`    | 2사분위수: 하위 50% (중앙값)   |\n",
    "| `75%`    | 3사분위수: 하위 75%            |\n",
    "| `max`    | 최대값                         |\n",
    "\n",
    "\n",
    "### 데이터 타입 확인\n",
    "\n",
    "| 타입         | 설명                  |\n",
    "|--------------|-----------------------|\n",
    "| `int64`      | 정수형                |\n",
    "| `float64`    | 실수형                |\n",
    "| `bool`       | 부울형                |\n",
    "| `datetime64` | 날짜 표현             |\n",
    "| `object`     | 문자열 또는 복합형    |\n",
    "| `category`   | 카테고리형            |\n",
    "\n",
    "\n",
    "### 데이터 정렬\n",
    "- sort_values() 함수 사용해서 데이터 크기순으로 정렬\n",
    "- DataFrame.sort_values(by=[‘정렬변수1’, ‘정렬변수2’,], ascending=False,\n",
    "inplace=True)\n",
    ">- inplace=True : 정렬 결과가 동일한 데이터프레임 이름으로 저장\n",
    ">- ascending=True : 디폴트가 오름차순 정렬로 생략 가능\n",
    ">- 내림차순일 때 ascending=False 사용\n",
    "\n",
    "\n",
    "\n",
    "### 불 인덱싱\n",
    "- []와 논리연산자를 이용시 각 행의 조건에 맞는지 True, False로 확인\n",
    "- 여러 조건을 동시에 충족하는 행 추출 시 and 연산자(&) 이용한 조건식 나열\n",
    "- 여러 조건 중 하나 이상을 충족하는 행 추출 시 or 연산자(|) 이용한 조건식 나열\n",
    "- 각 조건식을 괄호 (())로 묶어줌\n",
    "\n"
   ],
   "id": "57a8dbe39fdcfe14"
  },
  {
   "metadata": {
    "ExecuteTime": {
     "end_time": "2025-07-12T06:14:45.039727Z",
     "start_time": "2025-07-12T06:14:45.031595Z"
    }
   },
   "cell_type": "code",
   "source": [
    "# 데이터 프레임 만들기 (csv)\n",
    "import pandas as pd\n",
    "\n",
    "# 로컬인경우 표현하실분\n",
    "path = './week2_data'\n",
    "# 코랩인경우\n",
    "# path = '/content/drive/MyDrive/★ 클뉴즈sw/인공지능(AI) 교육/코랩실습/2주차/week2_data'\n",
    "\n",
    "# csv파일 불려와 데이터플레임 생성\n",
    "filename = f'{path}/pandas_example5.csv'\n",
    "df = pd.read_csv(filename)\n",
    "# df\n",
    "\n",
    "# 변수 속성 확인\n",
    "# 컬럼명, 자료형, null 여부, 행과 열의 크기 등 정보 표시\n",
    "# df.info()\n",
    "\n",
    "# 상위 5개행 출력\n",
    "# df.head()\n",
    "\n",
    "# 상위 n개행 출력 - 7개\n",
    "# df.head(7)\n",
    "\n",
    "# 하위 n개행 출력 - 7개\n",
    "# df.tail(7)\n",
    "\n",
    "# 데이터 통계 출력 - 요약 통계량 확인 (수치형 컬럼)\n",
    "# df.describe()\n",
    "\n",
    "# 데이터 통계 출력 - 요약 통계량 확인하기 (문자형 컬럼)\n",
    "# df.describe(include='object')\n",
    "\n",
    "# 데이터 행/열 크기 확인 - 프레임 크기 (행, 열) 확인 가능\n",
    "# df.shape\n",
    "\n",
    "# 데이터 인덱스/컬럼 명 확인 - index와 columns 속성\n",
    "# df.index\n",
    "\n",
    "# 데이터 인덱스/컬럼 명 확인 - 해당 데이터 프레임 컬럼명 확인 가능\n",
    "# df.columns\n",
    "\n",
    "# 데이터 타입 확인 - 각 컬럼의 데이터 타입 확인 가능\n",
    "# df.dtypes\n",
    "\n",
    "# 오름차순 정렬 'Salary' 기준\n",
    "# df.sort_values('Salary')\n",
    "\n",
    "# 'JoinData' 컬럼 값의 크기 따라 내림 차순으로 정렬\n",
    "# df.sort_values('JoinDate', ascending=False)\n",
    "\n",
    "# 데이터 빈도수 출력 - unique value들의 빈도수 출력함\n",
    "# cnt = df['Department'].value_counts()\n",
    "# pd.DataFrame(cnt)\n",
    "\n",
    "# 데이터 고윳값 출력 - 컬럼 고유값 출력\n",
    "df['Department'].unique()\n"
   ],
   "id": "dfc3c56b329b4",
   "outputs": [
    {
     "data": {
      "text/plain": [
       "array(['Sales', 'Marketing', 'HR', 'Development', 'Finance'], dtype=object)"
      ]
     },
     "execution_count": 44,
     "metadata": {},
     "output_type": "execute_result"
    }
   ],
   "execution_count": 44
  },
  {
   "metadata": {
    "ExecuteTime": {
     "end_time": "2025-07-12T06:45:57.810045Z",
     "start_time": "2025-07-12T06:45:57.795061Z"
    }
   },
   "cell_type": "code",
   "source": [
    "import pandas as pd\n",
    "\n",
    "# 로컬인경우 표현하실분\n",
    "path = './week2_data'\n",
    "# 코랩인경우\n",
    "# path = '/content/drive/MyDrive/★ 클뉴즈sw/인공지능(AI) 교육/코랩실습/2주차/week2_data'\n",
    "\n",
    "\n",
    "# 엑셀 파일 불려와 데이터 프레임 생성\n",
    "filename = f'{path}/pandas_example6.xlsx'\n",
    "df = pd.read_excel(filename)\n",
    "# df.head()\n",
    "\n",
    "# 단일 컬럼 선택\n",
    "# df['평균기온']  # 평균기온 컬럼명만\n",
    "\n",
    "\n",
    "# 컬럼(열) 선택 - 전체 행 중 여러 컬럼 선택1 -  [] 버전\n",
    "# df[['최저기온', '최고기온']] # 최저기온, 최고기온 추출\n",
    "\n",
    "\n",
    "# 컬럼(열) 선택 - 전체 행 중 여러 컬럼 선택2 -  loc[] 버전\n",
    "# df.loc[:, ['날짜', '최고기온']] # 날짜, 최고기온 추출\n",
    "\n",
    "# 컬럼(열) 선택 - 전체 행 중 여러 컬럼 선택2 -  loc[] 버전\n",
    "# df.loc[0:3, ['날짜', '최고기온']] # 날짜, 최고기온 추출\n",
    "\n",
    "\n",
    "# 레이블 or 조건 표현 선택 - 인덱스 지정 후 컬럼 선택\n",
    "# df.index=df['날짜']\n",
    "# df.loc['2023-01-27', ['최저기온', '최고기온']]\n",
    "\n",
    "\n",
    "# 레이블 or 조건 표현 선택 - 조건을 충족하는 행 선택 (평균기온이 5도 이상)\n",
    "# df.loc[df['평균기온']>=5]\n",
    "\n",
    "# 레이블 or 조건 표현 선택 - 조건을 충족하는 행 선택 (평균기온이 5도 이상인 최고 기온만)\n",
    "# df.loc[df['평균기온']>=5, ['최고기온']]\n",
    "\n",
    "# 불 인덱싱 1 - 조건에 맞는 데이터 선택 [] - 최고 기온이 10도 이상일때\n",
    "# w = df['최고기온'] >= 10\n",
    "# df[w]\n",
    "\n",
    "# 불 인덱싱 2 -조건에 맞는 행에서 특정 컬럼 선택 [] - 최고 기온이 10도 이상일때 최저기온/최고기온만 출력\n",
    "# w = df['최고기온'] >= 10\n",
    "# df[w][['최저기온', '최고기온']]\n",
    "\n",
    "# 불 인덱싱 3 - 조건에 맞는 데이터 선택 [] - 가장 최고 기온이 높은 데이터만 출력\n",
    "w = df['최고기온'] == df['최고기온'].max()\n",
    "df[w]\n",
    "\n"
   ],
   "id": "7feccd8344128317",
   "outputs": [
    {
     "data": {
      "text/plain": [
       "           날짜  평균기온  최저기온  최고기온\n",
       "1  2023-01-02   9.3   8.1  13.1\n",
       "7  2023-01-08   9.7   5.2  13.1"
      ],
      "text/html": [
       "<div>\n",
       "<style scoped>\n",
       "    .dataframe tbody tr th:only-of-type {\n",
       "        vertical-align: middle;\n",
       "    }\n",
       "\n",
       "    .dataframe tbody tr th {\n",
       "        vertical-align: top;\n",
       "    }\n",
       "\n",
       "    .dataframe thead th {\n",
       "        text-align: right;\n",
       "    }\n",
       "</style>\n",
       "<table border=\"1\" class=\"dataframe\">\n",
       "  <thead>\n",
       "    <tr style=\"text-align: right;\">\n",
       "      <th></th>\n",
       "      <th>날짜</th>\n",
       "      <th>평균기온</th>\n",
       "      <th>최저기온</th>\n",
       "      <th>최고기온</th>\n",
       "    </tr>\n",
       "  </thead>\n",
       "  <tbody>\n",
       "    <tr>\n",
       "      <th>1</th>\n",
       "      <td>2023-01-02</td>\n",
       "      <td>9.3</td>\n",
       "      <td>8.1</td>\n",
       "      <td>13.1</td>\n",
       "    </tr>\n",
       "    <tr>\n",
       "      <th>7</th>\n",
       "      <td>2023-01-08</td>\n",
       "      <td>9.7</td>\n",
       "      <td>5.2</td>\n",
       "      <td>13.1</td>\n",
       "    </tr>\n",
       "  </tbody>\n",
       "</table>\n",
       "</div>"
      ]
     },
     "execution_count": 58,
     "metadata": {},
     "output_type": "execute_result"
    }
   ],
   "execution_count": 58
  },
  {
   "metadata": {},
   "cell_type": "markdown",
   "source": [
    "### 컬럼 삭제 함수 (Pandas)\n",
    "\n",
    "| 매개변수       | 설명                                |\n",
    "|----------------|-------------------------------------|\n",
    "| `labels`       | 삭제할 레이블 명과 axis 지정        |\n",
    "| `axis`         | 0: index / 1: columns labels        |\n",
    "| `index`        | 삭제할 인덱스 명 입력               |\n",
    "| `columns`      | 삭제할 컬럼 명 입력                 |\n",
    "| `level`        | 멀티인덱스의 레벨 지정              |\n",
    "| `inplace`      | `True`일 경우 원본 변경             |\n",
    "| `errors`       | 오류 출력 여부                      |"
   ],
   "id": "65a5f651d95bf11"
  },
  {
   "metadata": {
    "ExecuteTime": {
     "end_time": "2025-07-12T06:54:27.468333Z",
     "start_time": "2025-07-12T06:54:27.452721Z"
    }
   },
   "cell_type": "code",
   "source": [
    "import pandas as pd\n",
    "\n",
    "# 로컬인경우 표현하실분\n",
    "path = './week2_data'\n",
    "# 코랩인경우\n",
    "# path = '/content/drive/MyDrive/★ 클뉴즈sw/인공지능(AI) 교육/코랩실습/2주차/week2_data'\n",
    "\n",
    "\n",
    "# 엑셀 파일 불려와 데이터 프레임 생성\n",
    "filename=f'{path}/pandas_example7.xlsx'\n",
    "df = pd.read_excel(filename)\n",
    "# df\n",
    "\n",
    "# 여러 컬럼 삭제하기 - 브랜드, 납품날짜 삭제\n",
    "df.drop(['브랜드', '납품날짜'], axis=1, inplace=True)\n",
    "# df.columns\n",
    "\n",
    "# 컬럼이름 변경 후 확인하기\n",
    "df.columns=['제품이름', '제품종류', '행사상품', '가격', '소비기한']\n",
    "# df.head()\n",
    "\n",
    "# 컬럼 데이터형 확인하기\n",
    "# df.dtypes\n",
    "\n",
    "# 데이터 그룹핑 - 한 열을 기준으로 그룹화하기\n",
    "newdata=df.groupby('제품종류').size()\n",
    "newdata\n"
   ],
   "id": "4345582a2f3bafcc",
   "outputs": [
    {
     "data": {
      "text/plain": [
       "제품종류\n",
       "간편식사    2\n",
       "디저트     5\n",
       "스낵      3\n",
       "음료      4\n",
       "즉석식품    6\n",
       "dtype: int64"
      ]
     },
     "execution_count": 70,
     "metadata": {},
     "output_type": "execute_result"
    }
   ],
   "execution_count": 70
  },
  {
   "metadata": {},
   "cell_type": "markdown",
   "source": [
    "### 예제 실습 데이터셋 Titanic 설명\n",
    "\n",
    "| 변수명        | 변수 설명                    |\n",
    "|---------------|-----------------------------|\n",
    "| `PassengerID` | 승객번호                    |\n",
    "| `Survived`    | 생존 여부                   |\n",
    "| `Pclass`      | 객실 등급                   |\n",
    "| `name`        | 승객 이름                   |\n",
    "| `Sex`         | 성별                        |\n",
    "| `Age`         | 나이                        |\n",
    "| `SibSp`       | 함께 탑승한 형제와 배우자   |\n",
    "| `Parch`       | 함께 탑승한 사람 수         |\n",
    "| `Ticket`      | 티켓 번호                   |\n",
    "| `Fare`        | 탑승 요금                   |\n",
    "| `Cabin`       | 객실 번호                   |\n",
    "| `Embarked`    | 탑승 항구 (`C`, `Q`, `S`)   |\n",
    "\n"
   ],
   "id": "94fd5d4e33edbcf7"
  },
  {
   "metadata": {
    "ExecuteTime": {
     "end_time": "2025-07-12T07:20:25.878182Z",
     "start_time": "2025-07-12T07:20:25.870051Z"
    }
   },
   "cell_type": "code",
   "source": [
    "import pandas as pd\n",
    "\n",
    "# 로컬인경우 표현하실분\n",
    "path = './week2_data'\n",
    "# 코랩인경우\n",
    "# path = '/content/drive/MyDrive/★ 클뉴즈sw/인공지능(AI) 교육/코랩실습/2주차/week2_data'\n",
    "\n",
    "\n",
    "# csv 파일 불려와 데이터 프레임 생성\n",
    "filename=f'{path}/pandas_example8.csv'\n",
    "df = pd.read_csv(filename)\n",
    "# df.head()\n",
    "\n",
    "# Embarked 결측 데이터 확인\n",
    "# df[df['Embarked'].isna()]\n",
    "\n",
    "# 컬럼별 결측 데이터 갯수 확인하기\n",
    "# df.isnull().sum()\n",
    "\n",
    "# 결측 데이터 포함된 컬럼 삭제  - Cabin 기준\n",
    "# df.drop('Cabin', axis=1, inplace=True)\n",
    "# df.columns\n",
    "\n",
    "# 결측 데이터 최빈값 찾기\n",
    "embarked_mode = df['Embarked'].mode()\n",
    "# embarked_mode\n",
    "\n",
    "# 결측 데이터 최빈값으로 대처하기\n",
    "df['Embarked'].fillna(embarked_mode[0])\n",
    "# df.isnull().sum()\n",
    "\n",
    "# 결축 데이터 - 평균값으로 대처\n",
    "avg = df['Age'].mean()\n",
    "df['Age'] = df['Age'].fillna(avg)\n",
    "df.isnull().sum()"
   ],
   "id": "e8168ff673dfbb8b",
   "outputs": [
    {
     "data": {
      "text/plain": [
       "PassengerId      0\n",
       "Survived         0\n",
       "Pclass           0\n",
       "Name             0\n",
       "Sex              0\n",
       "Age              0\n",
       "SibSp            0\n",
       "Parch            0\n",
       "Ticket           0\n",
       "Fare             0\n",
       "Cabin          687\n",
       "Embarked         2\n",
       "dtype: int64"
      ]
     },
     "execution_count": 97,
     "metadata": {},
     "output_type": "execute_result"
    }
   ],
   "execution_count": 97
  },
  {
   "metadata": {},
   "cell_type": "markdown",
   "source": [
    "# 참조\n",
    "\n",
    "## value_counts()와 groupby() 비교\n",
    "\n",
    "https://colab.research.google.com/drive/1iAL5AskwWqUwmLyUmcJ_O0fDIHDaAPb9?usp=sharing"
   ],
   "id": "57a9acbf014f01f4"
  }
 ],
 "metadata": {
  "kernelspec": {
   "display_name": "Python 3",
   "language": "python",
   "name": "python3"
  },
  "language_info": {
   "codemirror_mode": {
    "name": "ipython",
    "version": 2
   },
   "file_extension": ".py",
   "mimetype": "text/x-python",
   "name": "python",
   "nbconvert_exporter": "python",
   "pygments_lexer": "ipython2",
   "version": "2.7.6"
  }
 },
 "nbformat": 4,
 "nbformat_minor": 5
}

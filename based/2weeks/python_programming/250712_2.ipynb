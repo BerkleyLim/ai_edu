{
 "cells": [
  {
   "metadata": {},
   "cell_type": "markdown",
   "source": [
    "# Numpy\n",
    "- Numerical Python 줄인말, 수치 연산 전용 라이브러리\n",
    "- np.array(): 파이썬 리스트를 넘파이 배열(N-dimensional array)로 변환\n",
    "- a.shape : 배열의 구조(차원)을 알려줌\n",
    "- a.dtype : 배열 안의 데이터 타입\n",
    "\n",
    "## 사용 목적\n",
    "| 파이썬 리스트    | numpy 배열 |\n",
    "|------------|------------|\n",
    "| 일반적 연산에 적합 | 수치 계산에 특화 |\n",
    "| for문 많이 씀 | 벡터화 연산 가능 (빠름!) |\n",
    "| 느림 | 빠름 (C 기반) |\n",
    "| 타입이 섞임 | 통일된 타입 (효율적 메모리) |\n",
    "\n",
    "\n",
    "## ✅ 핵심 요약\n",
    "- numpy.array는 고성능 배열\n",
    "- 데이터 과학, AI, 행렬 연산 필수\n",
    "- pandas도 내부적으로 numpy 기반\n"
   ],
   "id": "3bd996549b2f3ef5"
  },
  {
   "cell_type": "code",
   "id": "initial_id",
   "metadata": {
    "collapsed": true,
    "ExecuteTime": {
     "end_time": "2025-07-12T07:44:04.820264Z",
     "start_time": "2025-07-12T07:44:04.766285Z"
    }
   },
   "source": [
    "# 기본 배열 생성\n",
    "import numpy as np\n",
    "\n",
    "# 배열 생성\n",
    "a = np.array([1, 2, 3, 4, 5])\n",
    "\n",
    "print(\"Array a: \", a)\n",
    "print(\"Type: \", type(a))\n",
    "print(\"Shape: \", a.shape)"
   ],
   "outputs": [
    {
     "name": "stdout",
     "output_type": "stream",
     "text": [
      "Array a:  [1 2 3 4 5]\n",
      "Type:  <class 'numpy.ndarray'>\n",
      "Shape:  (5,)\n"
     ]
    }
   ],
   "execution_count": 1
  },
  {
   "metadata": {
    "ExecuteTime": {
     "end_time": "2025-07-12T07:50:46.920840Z",
     "start_time": "2025-07-12T07:50:46.917998Z"
    }
   },
   "cell_type": "code",
   "source": [
    "# 리스트 덧셈 (에러 아님, 결과는 붙이기)\n",
    "a = [1, 2, 3] + [4, 5, 6]  # 결과: [1, 2, 3, 4, 5, 6]\n",
    "\n",
    "# numpy 덧셈 (원소별 계산)\n",
    "b = np.array([1, 2, 3]) + np.array([4, 5, 6])  # 결과: [5 7 9]\n",
    "\n",
    "print(\"Array a: \", a)\n",
    "print(\"Array b: \", b)\n"
   ],
   "id": "df2e23372161ba71",
   "outputs": [
    {
     "name": "stdout",
     "output_type": "stream",
     "text": [
      "Array a:  [1, 2, 3, 4, 5, 6]\n",
      "Array b:  [5 7 9]\n"
     ]
    }
   ],
   "execution_count": 3
  },
  {
   "metadata": {
    "ExecuteTime": {
     "end_time": "2025-07-12T07:52:13.462076Z",
     "start_time": "2025-07-12T07:52:13.457431Z"
    }
   },
   "cell_type": "code",
   "source": [
    "# 연속 수열 생성\n",
    "\n",
    "# 0 부터 9 까지 정수 생성\n",
    "arr = np.arange(10)\n",
    "print(\"\\nArange array:\", arr)\n",
    "\n",
    "# 시작, 끝, 간격 지정\n",
    "arr2 = np.arange(1, 11, 2)\n",
    "print(\"Arange with step:\", arr2)"
   ],
   "id": "3925d46b461570b9",
   "outputs": [
    {
     "name": "stdout",
     "output_type": "stream",
     "text": [
      "\n",
      "Arange array: [0 1 2 3 4 5 6 7 8 9]\n",
      "Arange with step: [1 3 5 7 9]\n"
     ]
    }
   ],
   "execution_count": 4
  },
  {
   "metadata": {
    "ExecuteTime": {
     "end_time": "2025-07-12T07:53:27.227636Z",
     "start_time": "2025-07-12T07:53:27.222913Z"
    }
   },
   "cell_type": "code",
   "source": [
    "# 배열 모양 바꾸기\n",
    "\n",
    "# 1차원 배열을 2차원으로 변#\n",
    "arr = np.arange(12)\n",
    "reshaped_arr = arr.reshape(3, 4)\n",
    "print(\"\\nReshaped array:\\n\", reshaped_arr)"
   ],
   "id": "530a049d068e7672",
   "outputs": [
    {
     "name": "stdout",
     "output_type": "stream",
     "text": [
      "\n",
      "Reshaped array:\n",
      " [[ 0  1  2  3]\n",
      " [ 4  5  6  7]\n",
      " [ 8  9 10 11]]\n"
     ]
    }
   ],
   "execution_count": 6
  },
  {
   "metadata": {
    "ExecuteTime": {
     "end_time": "2025-07-12T07:55:59.226855Z",
     "start_time": "2025-07-12T07:55:59.221618Z"
    }
   },
   "cell_type": "code",
   "source": [
    "# Numpy Slicing\n",
    "\n",
    "# 1차원 슬라이싱\n",
    "arr = np.arange(10)\n",
    "print(\"\\nOriginal array:\\n\", arr)\n",
    "print(\"Slice 2 to 5: \", arr[2:5])\n",
    "\n",
    "\n",
    "# 2차원 슬라이싱\n",
    "matrix = np.arange(1, 13).reshape(3, 4) # 1~12까지 1차원 배열 생성후 3*4배열로 변환\n",
    "print(\"\\nMatrix:\\n\", matrix)\n",
    "print(\"First two rows and first two columns:\\n\", matrix[:2, :2])\n",
    "print(\"Last row:\\n\", matrix[-1, :])\n"
   ],
   "id": "81ab1e280ac2ca37",
   "outputs": [
    {
     "name": "stdout",
     "output_type": "stream",
     "text": [
      "\n",
      "Original array:\n",
      " [0 1 2 3 4 5 6 7 8 9]\n",
      "Slice 2 to 5:  [2 3 4]\n",
      "\n",
      "Matrix:\n",
      " [[ 1  2  3  4]\n",
      " [ 5  6  7  8]\n",
      " [ 9 10 11 12]]\n",
      "First two rows and first two columns:\n",
      " [[1 2]\n",
      " [5 6]]\n",
      "Last row:\n",
      " [ 9 10 11 12]\n"
     ]
    }
   ],
   "execution_count": 7
  },
  {
   "metadata": {
    "ExecuteTime": {
     "end_time": "2025-07-12T07:58:14.251686Z",
     "start_time": "2025-07-12T07:58:14.246798Z"
    }
   },
   "cell_type": "code",
   "source": [
    "# Numpy 정수 인덱싱 - 특정 위치의 값 선택\n",
    "matrix = np.array([[10, 20, 30], [40, 50, 60], [70, 80, 90]])\n",
    "print(\"\\nMatrix:\\n\", matrix)\n",
    "\n",
    "selected = matrix[[0, 1, 2], [0, 1, 2]]\n",
    "print(\"\\nSelected values (diagonal):\\n\", selected)\n",
    "\n",
    "selected2 = matrix[[0, 1, 2], [2, 0, 1]]\n",
    "print(\"\\nSelected values :\\n\", selected2)"
   ],
   "id": "63dfc16c2b93c83e",
   "outputs": [
    {
     "name": "stdout",
     "output_type": "stream",
     "text": [
      "\n",
      "Matrix:\n",
      " [[10 20 30]\n",
      " [40 50 60]\n",
      " [70 80 90]]\n",
      "\n",
      "Selected values (diagonal):\n",
      " [10 50 90]\n",
      "\n",
      "Selected values :\n",
      " [30 40 80]\n"
     ]
    }
   ],
   "execution_count": 9
  },
  {
   "metadata": {
    "ExecuteTime": {
     "end_time": "2025-07-12T07:58:53.207762Z",
     "start_time": "2025-07-12T07:58:53.201852Z"
    }
   },
   "cell_type": "code",
   "source": [
    "# 기본 산술 연산\n",
    "arr = np.array([1, 2, 3, 4, 5])\n",
    "print(\"\\nOriginal array:\", arr)\n",
    "print(\"Add 10:\", arr + 10)\n",
    "print(\"Multiply by 2:\", arr * 2)\n",
    "print(\"Square:\", arr ** 2)\n",
    "\n",
    "\n",
    "arr2 = np.array([5, 4, 3, 2, 1])\n",
    "print(\"\\nArray 2:\", arr2)\n",
    "print(\"Addition:\", arr + arr2)\n",
    "print(\"Multiplication:\", arr * arr2)"
   ],
   "id": "10feff9f0923c292",
   "outputs": [
    {
     "name": "stdout",
     "output_type": "stream",
     "text": [
      "\n",
      "Original array: [1 2 3 4 5]\n",
      "Add 10: [11 12 13 14 15]\n",
      "Multiply by 2: [ 2  4  6  8 10]\n",
      "Square: [ 1  4  9 16 25]\n",
      "\n",
      "Array 2: [5 4 3 2 1]\n",
      "Addition: [6 6 6 6 6]\n",
      "Multiplication: [5 8 9 8 5]\n"
     ]
    }
   ],
   "execution_count": 10
  },
  {
   "metadata": {
    "ExecuteTime": {
     "end_time": "2025-07-12T08:01:16.230814Z",
     "start_time": "2025-07-12T08:01:16.228093Z"
    }
   },
   "cell_type": "code",
   "source": [
    "# Numpy 논리 인덱싱 - 조건 필터링\n",
    "\n",
    "arr = np.arange(10)\n",
    "print(\"\\nOriginal array:\", arr)\n",
    "\n",
    "# 5보다 큰 값만\n",
    "filtered = arr[arr > 5]\n",
    "print(\"Value greater than 5:\", filtered)\n",
    "\n",
    "# 짝수만\n",
    "even = arr[arr % 2 == 0]\n",
    "print(\"\\nEven numbers:\", even)"
   ],
   "id": "8f987e996ed35e2e",
   "outputs": [
    {
     "name": "stdout",
     "output_type": "stream",
     "text": [
      "\n",
      "Original array: [0 1 2 3 4 5 6 7 8 9]\n",
      "Value greater than 5: [6 7 8 9]\n",
      "\n",
      "Even numbers: [0 2 4 6 8]\n"
     ]
    }
   ],
   "execution_count": 11
  }
 ],
 "metadata": {
  "kernelspec": {
   "display_name": "Python 3",
   "language": "python",
   "name": "python3"
  },
  "language_info": {
   "codemirror_mode": {
    "name": "ipython",
    "version": 2
   },
   "file_extension": ".py",
   "mimetype": "text/x-python",
   "name": "python",
   "nbconvert_exporter": "python",
   "pygments_lexer": "ipython2",
   "version": "2.7.6"
  }
 },
 "nbformat": 4,
 "nbformat_minor": 5
}

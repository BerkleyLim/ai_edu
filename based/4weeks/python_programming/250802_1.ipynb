{
 "cells": [
  {
   "metadata": {},
   "cell_type": "markdown",
   "source": [
    "# RNN\n",
    "- 시계열 데이터를 처리하기에 좋은 뉴럴 네트워크 구조 (Recarrent Neural Network)\n",
    "- Example\n",
    "    - 번역기\n",
    "    - 음악 생성기\n",
    "    - 음성 인식\n",
    "    - DNA 염기서열 분석\n",
    "\n"
   ],
   "id": "e62567033951ffe5"
  },
  {
   "cell_type": "code",
   "execution_count": null,
   "id": "initial_id",
   "metadata": {
    "collapsed": true
   },
   "outputs": [],
   "source": [
    ""
   ]
  }
 ],
 "metadata": {
  "kernelspec": {
   "display_name": "Python 3",
   "language": "python",
   "name": "python3"
  },
  "language_info": {
   "codemirror_mode": {
    "name": "ipython",
    "version": 2
   },
   "file_extension": ".py",
   "mimetype": "text/x-python",
   "name": "python",
   "nbconvert_exporter": "python",
   "pygments_lexer": "ipython2",
   "version": "2.7.6"
  }
 },
 "nbformat": 4,
 "nbformat_minor": 5
}

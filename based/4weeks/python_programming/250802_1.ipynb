{
 "cells": [
  {
   "metadata": {},
   "cell_type": "markdown",
   "source": [
    "# RNN\n",
    "- 시계열 데이터를 처리하기에 좋은 뉴럴 네트워크 구조 (Recarrent Neural Network)\n",
    "- Example\n",
    "    - 번역기\n",
    "    - 음악 생성기\n",
    "    - 음성 인식\n",
    "    - DNA 염기서열 분석\n",
    "\n",
    "## RNN 특징\n",
    "- CNN이 이미지 구역별로 같은 weight를 공유한다면,\n",
    "- RNN은 시간 별로 같은 weight을 공유한다.\n",
    "- 즉, 과거와 현재는 같은 weight를 공유한다.\n",
    "\n",
    "## First Order System\n",
    "- 현재 시간의 상태가 이전 시간의 상태와 관련이 있다고 가정\n",
    "    - First-Order System\n",
    "        $ x_t = f(x_(t-1)) $\n",
    "    - 그림으로 표현하면\n",
    "    - 이 시스템은 `**외부 입력**` 없이 자기 혼자서 돌아간다.\n",
    "    - autonomous system\n",
    "- 현재 시간의 상태가 이전 시간의 상태와, 현재의 입력에 관계가 있는 경우\n",
    "    - 상태: x, 입력: u\n",
    "    - 식으로 표현하면\n",
    "        $ x_t = f(x_(t-1), u_t) $\n",
    "\n",
    "\n",
    "## State-Space Model\n",
    "- 어떤 시스템을 해석하기 위한 3요소:\n",
    "    - $ x_t = f(x_(t-1), u_t) $\n",
    "    - $ y_t = h(x_t) $\n",
    "\n",
    "\n",
    "\n",
    "\n",
    "\n",
    "\n",
    "\n"
   ],
   "id": "e62567033951ffe5"
  },
  {
   "cell_type": "code",
   "id": "initial_id",
   "metadata": {
    "collapsed": true,
    "ExecuteTime": {
     "end_time": "2025-08-02T07:49:43.918587Z",
     "start_time": "2025-08-02T07:49:43.813471Z"
    }
   },
   "source": [
    "import numpy as np\n",
    "\n",
    "def softmax(x):\n",
    "    e_x = np.exp(x - np.max(x, axis=0, keepdims=True))\n",
    "    return e_x / np.sum(e_x, axis=0, keepdims=True)"
   ],
   "outputs": [],
   "execution_count": 1
  },
  {
   "metadata": {
    "ExecuteTime": {
     "end_time": "2025-08-02T07:50:00.825670Z",
     "start_time": "2025-08-02T07:50:00.822215Z"
    }
   },
   "cell_type": "code",
   "source": [
    "def rnn_cell_forward(xt, a_prev, parameters):\n",
    "   Wax = parameters[\"Wax\"]\n",
    "   Waa = parameters[\"Waa\"]\n",
    "   Wya = parameters[\"Wya\"]\n",
    "   ba = parameters[\"ba\"]\n",
    "   by = parameters[\"by\"]\n",
    "\n",
    "   a_next = np.tanh(Wax @ xt + Waa @ a_prev + ba)\n",
    "   yt_pred = softmax(Wya @ a_next + by)\n",
    "\n",
    "   cache = (a_next, a_prev, xt, parameters)\n",
    "   return a_next, yt_pred, cache"
   ],
   "id": "fa85afa4a24ae359",
   "outputs": [],
   "execution_count": 2
  },
  {
   "metadata": {
    "ExecuteTime": {
     "end_time": "2025-08-02T07:50:14.889911Z",
     "start_time": "2025-08-02T07:50:14.885427Z"
    }
   },
   "cell_type": "code",
   "source": [
    "def rnn_forward(x, a0, parameters):\n",
    "\n",
    "    caches = []\n",
    "    n_x, m, T_x = x.shape\n",
    "    n_y, n_a = parameters[\"Wya\"].shape\n",
    "\n",
    "    a = np.zeros((n_a, m, T_x))\n",
    "    y_pred = np.zeros((n_y, m, T_x))\n",
    "\n",
    "    a_next = a0\n",
    "    for t in range(T_x):\n",
    "        xt = x[:, :, t]\n",
    "        a_next, yt_pred, cache = rnn_cell_forward(xt, a_next, parameters)\n",
    "        a[:, :, t] = a_next\n",
    "        y_pred[:, :, t] = yt_pred\n",
    "        caches.append(cache)\n",
    "\n",
    "    caches = (caches, x)\n",
    "    return a, y_pred, caches"
   ],
   "id": "c7bbaf4e0bb8ae0c",
   "outputs": [],
   "execution_count": 3
  },
  {
   "metadata": {
    "ExecuteTime": {
     "end_time": "2025-08-02T08:07:23.931097Z",
     "start_time": "2025-08-02T08:07:23.896002Z"
    }
   },
   "cell_type": "code",
   "source": [
    "# 테스트 코드\n",
    "np.random.seed(1)\n",
    "n_x, m, T_x = 3, 10, 4 # feature: 3개, batch size 10개, 시퀸스 4개\n",
    "n_a, n_y = 5, 2 # Hidden state vector = 5, 최종 예측값의 종류 2\n",
    "x_test = np.random.randn(n_x, m, T_x)\n",
    "a0_test = np.random.randn(n_a, m)\n",
    "parameters_test = {\n",
    "    \"Waa\": np.random.randn(n_a, n_a),\n",
    "    \"Wax\": np.random.randn(n_a, n_x),\n",
    "    \"Wya\": np.random.randn(n_y, n_a),\n",
    "    \"ba\": np.random.randn(n_a, 1),\n",
    "    \"by\": np.random.randn(n_y, 1)\n",
    "}\n",
    "a_out, y_pred_out, caches_out = rnn_forward(x_test, a0_test, parameters_test)\n",
    "print(\"a_out[4] = \\n\", a_out[4])\n",
    "print(\"y_pred_out[1] = \\n\", y_pred_out[1])"
   ],
   "id": "f3683fb3cb00be5a",
   "outputs": [
    {
     "name": "stdout",
     "output_type": "stream",
     "text": [
      "a_out[4] = \n",
      " [[-0.99935897 -0.57882882  0.99953622  0.99692362]\n",
      " [-0.99999375  0.77911235 -0.99861469 -0.99833267]\n",
      " [ 0.98895163  0.9905525   0.87805502  0.99623046]\n",
      " [ 0.9999802   0.99693738  0.99745184  0.97406138]\n",
      " [-0.9912801   0.98087418  0.76076959  0.54482277]\n",
      " [ 0.74865774 -0.59005528 -0.97721203  0.92063859]\n",
      " [-0.96279238 -0.99825059  0.95668547 -0.76146336]\n",
      " [-0.99251598 -0.95934467 -0.97402324  0.99861032]\n",
      " [ 0.93272501  0.81262652  0.65510908  0.69252916]\n",
      " [-0.1343305  -0.99995298 -0.9994704  -0.98612292]]\n",
      "y_pred_out[1] = \n",
      " [[8.70631878e-04 1.09227408e-01 2.95793685e-01 8.02699998e-02]\n",
      " [6.05834882e-04 6.73052187e-01 1.21038427e-03 1.17806974e-02]\n",
      " [5.72253732e-03 4.00062909e-03 2.06047094e-03 7.23375910e-01]\n",
      " [7.95603732e-01 8.62248606e-01 1.11182569e-01 8.15159466e-01]\n",
      " [2.57915964e-01 5.83969344e-01 9.40379273e-01 4.35479788e-02]\n",
      " [6.56311720e-01 1.13248528e-03 1.02336394e-02 1.00862411e-01]\n",
      " [6.07472236e-02 2.92414498e-01 1.14848948e-01 6.65231284e-01]\n",
      " [6.44953539e-02 1.42685743e-02 6.20055512e-02 3.54217062e-01]\n",
      " [3.60816978e-01 9.76499181e-01 1.79825918e-01 6.57568747e-01]\n",
      " [3.92249840e-01 1.01333282e-01 8.85513795e-04 9.81237745e-03]]\n"
     ]
    }
   ],
   "execution_count": 4
  },
  {
   "metadata": {},
   "cell_type": "markdown",
   "source": "",
   "id": "40afba5d347373e7"
  }
 ],
 "metadata": {
  "kernelspec": {
   "display_name": "Python 3",
   "language": "python",
   "name": "python3"
  },
  "language_info": {
   "codemirror_mode": {
    "name": "ipython",
    "version": 2
   },
   "file_extension": ".py",
   "mimetype": "text/x-python",
   "name": "python",
   "nbconvert_exporter": "python",
   "pygments_lexer": "ipython2",
   "version": "2.7.6"
  }
 },
 "nbformat": 4,
 "nbformat_minor": 5
}

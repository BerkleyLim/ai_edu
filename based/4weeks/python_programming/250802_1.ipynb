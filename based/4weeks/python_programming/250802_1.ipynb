{
 "cells": [
  {
   "metadata": {},
   "cell_type": "markdown",
   "source": [
    "# RNN\n",
    "- 시계열 데이터를 처리하기에 좋은 뉴럴 네트워크 구조 (Recarrent Neural Network)\n",
    "- Example\n",
    "    - 번역기\n",
    "    - 음악 생성기\n",
    "    - 음성 인식\n",
    "    - DNA 염기서열 분석\n",
    "\n",
    "## RNN 특징\n",
    "- CNN이 이미지 구역별로 같은 weight를 공유한다면,\n",
    "- RNN은 시간 별로 같은 weight을 공유한다.\n",
    "- 즉, 과거와 현재는 같은 weight를 공유한다.\n",
    "\n",
    "## First Order System\n",
    "- 현재 시간의 상태가 이전 시간의 상태와 관련이 있다고 가정\n",
    "    - First-Order System\n",
    "        $ x_t = f(x_(t-1)) $\n",
    "    - 그림으로 표현하면\n",
    "    - 이 시스템은 `**외부 입력**` 없이 자기 혼자서 돌아간다.\n",
    "    - autonomous system\n",
    "- 현재 시간의 상태가 이전 시간의 상태와, 현재의 입력에 관계가 있는 경우\n",
    "    - 상태: x, 입력: u\n",
    "    - 식으로 표현하면\n",
    "        $ x_t = f(x_(t-1), u_t) $\n",
    "\n",
    "\n",
    "## State-Space Model\n",
    "- 어떤 시스템을 해석하기 위한 3요소:\n",
    "    - $ x_t = f(x_(t-1), u_t) $\n",
    "    - $ y_t = h(x_t) $\n",
    "\n",
    "\n",
    "\n",
    "\n",
    "\n",
    "\n",
    "\n"
   ],
   "id": "e62567033951ffe5"
  },
  {
   "cell_type": "code",
   "id": "initial_id",
   "metadata": {
    "collapsed": true,
    "ExecuteTime": {
     "end_time": "2025-08-02T07:49:43.918587Z",
     "start_time": "2025-08-02T07:49:43.813471Z"
    }
   },
   "source": [
    "import numpy as np\n",
    "\n",
    "def softmax(x):\n",
    "    e_x = np.exp(x - np.max(x, axis=0, keepdims=True))\n",
    "    return e_x / np.sum(e_x, axis=0, keepdims=True)"
   ],
   "outputs": [],
   "execution_count": 1
  },
  {
   "metadata": {
    "ExecuteTime": {
     "end_time": "2025-08-02T07:50:00.825670Z",
     "start_time": "2025-08-02T07:50:00.822215Z"
    }
   },
   "cell_type": "code",
   "source": [
    "def rnn_cell_forward(xt, a_prev, parameters):\n",
    "   Wax = parameters[\"Wax\"]\n",
    "   Waa = parameters[\"Waa\"]\n",
    "   Wya = parameters[\"Wya\"]\n",
    "   ba = parameters[\"ba\"]\n",
    "   by = parameters[\"by\"]\n",
    "\n",
    "   a_next = np.tanh(Wax @ xt + Waa @ a_prev + ba)\n",
    "   yt_pred = softmax(Wya @ a_next + by)\n",
    "\n",
    "   cache = (a_next, a_prev, xt, parameters)\n",
    "   return a_next, yt_pred, cache"
   ],
   "id": "fa85afa4a24ae359",
   "outputs": [],
   "execution_count": 2
  },
  {
   "metadata": {
    "ExecuteTime": {
     "end_time": "2025-08-02T07:50:14.889911Z",
     "start_time": "2025-08-02T07:50:14.885427Z"
    }
   },
   "cell_type": "code",
   "source": [
    "def rnn_forward(x, a0, parameters):\n",
    "\n",
    "    caches = []\n",
    "    n_x, m, T_x = x.shape\n",
    "    n_y, n_a = parameters[\"Wya\"].shape\n",
    "\n",
    "    a = np.zeros((n_a, m, T_x))\n",
    "    y_pred = np.zeros((n_y, m, T_x))\n",
    "\n",
    "    a_next = a0\n",
    "    for t in range(T_x):\n",
    "        xt = x[:, :, t]\n",
    "        a_next, yt_pred, cache = rnn_cell_forward(xt, a_next, parameters)\n",
    "        a[:, :, t] = a_next\n",
    "        y_pred[:, :, t] = yt_pred\n",
    "        caches.append(cache)\n",
    "\n",
    "    caches = (caches, x)\n",
    "    return a, y_pred, caches"
   ],
   "id": "c7bbaf4e0bb8ae0c",
   "outputs": [],
   "execution_count": 3
  }
 ],
 "metadata": {
  "kernelspec": {
   "display_name": "Python 3",
   "language": "python",
   "name": "python3"
  },
  "language_info": {
   "codemirror_mode": {
    "name": "ipython",
    "version": 2
   },
   "file_extension": ".py",
   "mimetype": "text/x-python",
   "name": "python",
   "nbconvert_exporter": "python",
   "pygments_lexer": "ipython2",
   "version": "2.7.6"
  }
 },
 "nbformat": 4,
 "nbformat_minor": 5
}

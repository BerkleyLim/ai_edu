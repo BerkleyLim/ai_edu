{
  "cells": [
    {
      "cell_type": "code",
      "execution_count": 1,
      "metadata": {
        "id": "gQIByqiMBqbG"
      },
      "outputs": [],
      "source": [
        "import numpy as np\n",
        "\n",
        "def softmax(x):\n",
        "   e_x = np.exp(x - np.max(x, axis=0, keepdims=True))\n",
        "   return e_x / np.sum(e_x, axis=0, keepdims=True)"
      ]
    },
    {
      "cell_type": "code",
      "execution_count": 2,
      "metadata": {
        "id": "7qYNaeKWBtWM"
      },
      "outputs": [],
      "source": [
        "def rnn_cell_forward(xt, a_prev, parameters):\n",
        "   Wax = parameters[\"Wax\"]\n",
        "   Waa = parameters[\"Waa\"]\n",
        "   Wya = parameters[\"Wya\"]\n",
        "   ba = parameters[\"ba\"]\n",
        "   by = parameters[\"by\"]\n",
        "\n",
        "   a_next = np.tanh(Wax @ xt + Waa @ a_prev + ba)\n",
        "   yt_pred = softmax(Wya @ a_next + by)\n",
        "\n",
        "   cache = (a_next, a_prev, xt, parameters)\n",
        "   return a_next, yt_pred, cache"
      ]
    },
    {
      "cell_type": "code",
      "execution_count": 3,
      "metadata": {
        "id": "3VXSUIlCBvJQ"
      },
      "outputs": [],
      "source": [
        "def rnn_forward(x, a0, parameters):\n",
        "\n",
        "    caches = []\n",
        "    n_x, m, T_x = x.shape\n",
        "    n_y, n_a = parameters[\"Wya\"].shape\n",
        "\n",
        "    a = np.zeros((n_a, m, T_x))\n",
        "    y_pred = np.zeros((n_y, m, T_x))\n",
        "\n",
        "    a_next = a0\n",
        "    for t in range(T_x):\n",
        "        xt = x[:, :, t]\n",
        "        a_next, yt_pred, cache = rnn_cell_forward(xt, a_next, parameters)\n",
        "        a[:, :, t] = a_next\n",
        "        y_pred[:, :, t] = yt_pred\n",
        "        caches.append(cache)\n",
        "\n",
        "    caches = (caches, x)\n",
        "    return a, y_pred, caches"
      ]
    },
    {
      "cell_type": "code",
      "execution_count": 4,
      "metadata": {
        "colab": {
          "base_uri": "https://localhost:8080/"
        },
        "id": "NFsS-uJeBwvG",
        "outputId": "1f508088-b0b0-43b4-d243-d9d7a2f3d9bd"
      },
      "outputs": [
        {
          "name": "stdout",
          "output_type": "stream",
          "text": [
            "a_out[4] = \n",
            " [[-0.99935897 -0.57882882  0.99953622  0.99692362]\n",
            " [-0.99999375  0.77911235 -0.99861469 -0.99833267]\n",
            " [ 0.98895163  0.9905525   0.87805502  0.99623046]\n",
            " [ 0.9999802   0.99693738  0.99745184  0.97406138]\n",
            " [-0.9912801   0.98087418  0.76076959  0.54482277]\n",
            " [ 0.74865774 -0.59005528 -0.97721203  0.92063859]\n",
            " [-0.96279238 -0.99825059  0.95668547 -0.76146336]\n",
            " [-0.99251598 -0.95934467 -0.97402324  0.99861032]\n",
            " [ 0.93272501  0.81262652  0.65510908  0.69252916]\n",
            " [-0.1343305  -0.99995298 -0.9994704  -0.98612292]]\n",
            "y_pred_out[1] = \n",
            " [[8.70631878e-04 1.09227408e-01 2.95793685e-01 8.02699998e-02]\n",
            " [6.05834882e-04 6.73052187e-01 1.21038427e-03 1.17806974e-02]\n",
            " [5.72253732e-03 4.00062909e-03 2.06047094e-03 7.23375910e-01]\n",
            " [7.95603732e-01 8.62248606e-01 1.11182569e-01 8.15159466e-01]\n",
            " [2.57915964e-01 5.83969344e-01 9.40379273e-01 4.35479788e-02]\n",
            " [6.56311720e-01 1.13248528e-03 1.02336394e-02 1.00862411e-01]\n",
            " [6.07472236e-02 2.92414498e-01 1.14848948e-01 6.65231284e-01]\n",
            " [6.44953539e-02 1.42685743e-02 6.20055512e-02 3.54217062e-01]\n",
            " [3.60816978e-01 9.76499181e-01 1.79825918e-01 6.57568747e-01]\n",
            " [3.92249840e-01 1.01333282e-01 8.85513795e-04 9.81237745e-03]]\n"
          ]
        }
      ],
      "source": [
        "# 테스트 코드\n",
        "np.random.seed(1)\n",
        "n_x, m, T_x = 3, 10, 4\n",
        "n_a, n_y = 5, 2\n",
        "x_test = np.random.randn(n_x, m, T_x)\n",
        "a0_test = np.random.randn(n_a, m)\n",
        "parameters_test = {\n",
        "    \"Waa\": np.random.randn(n_a, n_a),\n",
        "    \"Wax\": np.random.randn(n_a, n_x),\n",
        "    \"Wya\": np.random.randn(n_y, n_a),\n",
        "    \"ba\": np.random.randn(n_a, 1),\n",
        "    \"by\": np.random.randn(n_y, 1)\n",
        "}\n",
        "a_out, y_pred_out, caches_out = rnn_forward(x_test, a0_test, parameters_test)\n",
        "print(\"a_out[4] = \\n\", a_out[4])\n",
        "print(\"y_pred_out[1] = \\n\", y_pred_out[1])"
      ]
    },
    {
      "cell_type": "code",
      "execution_count": 5,
      "metadata": {
        "id": "tBXCV6lAB1Mh"
      },
      "outputs": [],
      "source": [
        "def rnn_cell_backward(da_next, cache):\n",
        "    \"\"\"\n",
        "    단일 RNN 셀의 역전파 단계를 구현합니다.\n",
        "    \"\"\"\n",
        "    (a_next, a_prev, xt, parameters) = cache\n",
        "    Wax = parameters[\"Wax\"]\n",
        "    Waa = parameters[\"Waa\"]\n",
        "    Wya = parameters[\"Wya\"]\n",
        "\n",
        "    dtanh = (1 - a_next ** 2) * da_next\n",
        "    dWax = dtanh @ xt.T\n",
        "    dWaa = dtanh @ a_prev.T\n",
        "    dba = np.sum(dtanh, axis=1, keepdims=True)\n",
        "\n",
        "    da_prev = Waa.T @ dtanh\n",
        "\n",
        "    return da_prev, dWax, dWaa, dba"
      ]
    },
    {
      "cell_type": "code",
      "execution_count": 11,
      "metadata": {
        "id": "tOxD2foFB5BM"
      },
      "outputs": [],
      "source": [
        "def rnn_backward(da, caches):\n",
        "    \"\"\"\n",
        "    기본 RNN의 역전파 단계를 구현합니다.\n",
        "\n",
        "    매개변수:\n",
        "    da -- 은닉 상태에 대한 손실의 기울기, 크기 (n_a, m, T_x)인 넘파이 배열\n",
        "    caches -- 순전파에서 저장된 값들의 튜플, (캐시 리스트, x)를 포함\n",
        "\n",
        "    반환값:\n",
        "    gradients -- 가중치의 기울기를 포함하는 딕셔너리\n",
        "    \"\"\"\n",
        "    (caches, x) = caches\n",
        "    n_a, m, T_x = da.shape\n",
        "    n_x, _, _ = x.shape\n",
        "    # 기울기 초기화\n",
        "    gradients = {\n",
        "        \"dWax\": np.zeros((n_a, n_x)),\n",
        "        \"dWaa\": np.zeros((n_a, n_a)),\n",
        "        \"dba\": np.zeros((n_a, 1)),\n",
        "        \"da_prev\": np.zeros((n_a, m))\n",
        "    }\n",
        "\n",
        "    da_next = np.zeros((n_a, m))\n",
        "\n",
        "    # 시간 축을 따라 역전파 수행\n",
        "    for t in reversed(range(T_x)):\n",
        "        cache = caches[t]\n",
        "        da_next, dWax_t, dWaa_t, dba_t = rnn_cell_backward(da[:, :, t] + da_next, cache)\n",
        "\n",
        "        # 기울기 누적\n",
        "        gradients[\"dWax\"] += dWax_t\n",
        "        gradients[\"dWaa\"] += dWaa_t\n",
        "        gradients[\"dba\"] += dba_t\n",
        "\n",
        "    return gradients"
      ]
    },
    {
      "cell_type": "code",
      "execution_count": 12,
      "metadata": {
        "colab": {
          "base_uri": "https://localhost:8080/"
        },
        "id": "GgXMn85eB8fN",
        "outputId": "aca37394-ff11-4be2-a4c3-2ae7d53bb341"
      },
      "outputs": [
        {
          "name": "stdout",
          "output_type": "stream",
          "text": [
            "dWax = \n",
            " [[-3.30479652 -0.5889298   2.67389609]\n",
            " [-1.90854233  0.65640142 -1.14827789]\n",
            " [-2.0974342   4.76115666 -0.44652908]\n",
            " [-3.01352381  4.25404723 -1.20572801]\n",
            " [ 0.50119786 -3.11451526 -0.39116022]]\n",
            "dWaa = \n",
            " [[-2.13574198e+00  6.80711347e-01 -1.44129083e+00  2.45147206e+00\n",
            "   1.08426242e-03]\n",
            " [ 3.59828711e+00  1.90362485e+00  5.50531297e+00 -2.46100000e+00\n",
            "   2.41395762e+00]\n",
            " [ 4.84818068e+00  3.71006436e+00  2.16039211e+00  1.97751724e+00\n",
            "   4.78034097e+00]\n",
            " [ 1.00859633e+01  7.14294000e+00  2.59060550e+00  4.46558687e+00\n",
            "   8.66822485e-01]\n",
            " [ 1.73852065e+00  1.31795266e-02  1.15182331e+00 -1.55384609e+00\n",
            "  -9.78216278e-01]]\n",
            "dba = \n",
            " [[-2.46456133]\n",
            " [10.68553905]\n",
            " [ 6.82076449]\n",
            " [ 8.92964609]\n",
            " [ 2.76198809]]\n"
          ]
        }
      ],
      "source": [
        "# 역전파 테스트 코드\n",
        "np.random.seed(2)\n",
        "da_test = np.random.randn(n_a, m, T_x)\n",
        "gradients_out = rnn_backward(da_test, caches_out)\n",
        "print(\"dWax = \\n\", gradients_out[\"dWax\"])\n",
        "print(\"dWaa = \\n\", gradients_out[\"dWaa\"])\n",
        "print(\"dba = \\n\", gradients_out[\"dba\"])"
      ]
    }
  ],
  "metadata": {
    "colab": {
      "provenance": []
    },
    "kernelspec": {
      "display_name": "Python 3",
      "name": "python3"
    },
    "language_info": {
      "name": "python"
    }
  },
  "nbformat": 4,
  "nbformat_minor": 0
}
